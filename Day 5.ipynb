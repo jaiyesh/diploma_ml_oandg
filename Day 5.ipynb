{
 "cells": [
  {
   "cell_type": "markdown",
   "metadata": {},
   "source": [
    "# Dictionary\n",
    "\n",
    "1. keys:values\n",
    "\n",
    "2. {} => key:value pairs\n",
    "\n",
    "3. can store dict, lists, tuples, str, int, floats in values\n",
    "\n",
    "4. Helps in storing data with labels"
   ]
  },
  {
   "cell_type": "code",
   "execution_count": 1,
   "metadata": {},
   "outputs": [],
   "source": [
    "d = {}"
   ]
  },
  {
   "cell_type": "code",
   "execution_count": 2,
   "metadata": {},
   "outputs": [
    {
     "data": {
      "text/plain": [
       "dict"
      ]
     },
     "execution_count": 2,
     "metadata": {},
     "output_type": "execute_result"
    }
   ],
   "source": [
    "type(d)"
   ]
  },
  {
   "cell_type": "code",
   "execution_count": 3,
   "metadata": {},
   "outputs": [],
   "source": [
    "s = {3}"
   ]
  },
  {
   "cell_type": "code",
   "execution_count": 4,
   "metadata": {},
   "outputs": [
    {
     "data": {
      "text/plain": [
       "set"
      ]
     },
     "execution_count": 4,
     "metadata": {},
     "output_type": "execute_result"
    }
   ],
   "source": [
    "type(s)"
   ]
  },
  {
   "cell_type": "code",
   "execution_count": 5,
   "metadata": {},
   "outputs": [],
   "source": [
    "d = {\"name\":\"jaiyesh\",\"number\":7465746837493923,\"mail\":\"jai@124\"}"
   ]
  },
  {
   "cell_type": "code",
   "execution_count": 6,
   "metadata": {},
   "outputs": [
    {
     "data": {
      "text/plain": [
       "{'name': 'jaiyesh', 'number': 7465746837493923, 'mail': 'jai@124'}"
      ]
     },
     "execution_count": 6,
     "metadata": {},
     "output_type": "execute_result"
    }
   ],
   "source": [
    "d"
   ]
  },
  {
   "cell_type": "code",
   "execution_count": 7,
   "metadata": {},
   "outputs": [
    {
     "data": {
      "text/plain": [
       "dict"
      ]
     },
     "execution_count": 7,
     "metadata": {},
     "output_type": "execute_result"
    }
   ],
   "source": [
    "type(d)"
   ]
  },
  {
   "cell_type": "code",
   "execution_count": 8,
   "metadata": {},
   "outputs": [],
   "source": [
    "rock_properties = {\"porosity\":0.3,\"permeability\":10,\"lithology\":\"Limestone\"}"
   ]
  },
  {
   "cell_type": "code",
   "execution_count": 9,
   "metadata": {},
   "outputs": [
    {
     "data": {
      "text/plain": [
       "{'porosity': 0.3, 'permeability': 10, 'lithology': 'Limestone'}"
      ]
     },
     "execution_count": 9,
     "metadata": {},
     "output_type": "execute_result"
    }
   ],
   "source": [
    "rock_properties"
   ]
  },
  {
   "cell_type": "markdown",
   "metadata": {},
   "source": [
    "### Keys must be unique\n",
    "\n",
    "- if keys are duplicated, the value will be updated to the latest data"
   ]
  },
  {
   "cell_type": "code",
   "execution_count": 10,
   "metadata": {},
   "outputs": [],
   "source": [
    "rock = {\"lithology\":\"Limestone\",\"lithology\":\"Sandstone\"}"
   ]
  },
  {
   "cell_type": "code",
   "execution_count": 11,
   "metadata": {},
   "outputs": [
    {
     "data": {
      "text/plain": [
       "{'lithology': 'Sandstone'}"
      ]
     },
     "execution_count": 11,
     "metadata": {},
     "output_type": "execute_result"
    }
   ],
   "source": [
    "rock"
   ]
  },
  {
   "cell_type": "code",
   "execution_count": 12,
   "metadata": {},
   "outputs": [],
   "source": [
    "d = {3434343:\"jc\",\"name\":\"poros\"}"
   ]
  },
  {
   "cell_type": "code",
   "execution_count": 13,
   "metadata": {},
   "outputs": [
    {
     "data": {
      "text/plain": [
       "{3434343: 'jc', 'name': 'poros'}"
      ]
     },
     "execution_count": 13,
     "metadata": {},
     "output_type": "execute_result"
    }
   ],
   "source": [
    "d"
   ]
  },
  {
   "cell_type": "code",
   "execution_count": 14,
   "metadata": {},
   "outputs": [],
   "source": [
    "## special case characters are not allowed for key\n",
    "\n",
    "## float, integers and strings are allowed as keys"
   ]
  },
  {
   "cell_type": "code",
   "execution_count": 15,
   "metadata": {},
   "outputs": [
    {
     "ename": "NameError",
     "evalue": "name '_34' is not defined",
     "output_type": "error",
     "traceback": [
      "\u001b[1;31m---------------------------------------------------------------------------\u001b[0m",
      "\u001b[1;31mNameError\u001b[0m                                 Traceback (most recent call last)",
      "\u001b[1;32m<ipython-input-15-5e84d7b065d7>\u001b[0m in \u001b[0;36m<module>\u001b[1;34m\u001b[0m\n\u001b[1;32m----> 1\u001b[1;33m \u001b[0md1\u001b[0m \u001b[1;33m=\u001b[0m \u001b[1;33m{\u001b[0m\u001b[0m_34\u001b[0m\u001b[1;33m:\u001b[0m\u001b[1;34m\"poro\"\u001b[0m\u001b[1;33m}\u001b[0m\u001b[1;33m\u001b[0m\u001b[1;33m\u001b[0m\u001b[0m\n\u001b[0m",
      "\u001b[1;31mNameError\u001b[0m: name '_34' is not defined"
     ]
    }
   ],
   "source": [
    "d1 = {_34:\"poro\"}"
   ]
  },
  {
   "cell_type": "code",
   "execution_count": 16,
   "metadata": {},
   "outputs": [],
   "source": [
    "d1 = {\"_34\":\"poro\"}"
   ]
  },
  {
   "cell_type": "code",
   "execution_count": 17,
   "metadata": {},
   "outputs": [
    {
     "data": {
      "text/plain": [
       "{'_34': 'poro'}"
      ]
     },
     "execution_count": 17,
     "metadata": {},
     "output_type": "execute_result"
    }
   ],
   "source": [
    "d1"
   ]
  },
  {
   "cell_type": "code",
   "execution_count": 18,
   "metadata": {},
   "outputs": [],
   "source": [
    "#values can be anything: list,tuple,set, anything"
   ]
  },
  {
   "cell_type": "code",
   "execution_count": 19,
   "metadata": {},
   "outputs": [],
   "source": [
    "di = {\"_3443\":\"poiros\",\"lis\":[67,34,534,\"porosity\",85],\"perms\":{\"x\":23,\"y\":43},\"oilprd\":(45,2,3,43321)}"
   ]
  },
  {
   "cell_type": "code",
   "execution_count": 20,
   "metadata": {},
   "outputs": [
    {
     "data": {
      "text/plain": [
       "{'_3443': 'poiros',\n",
       " 'lis': [67, 34, 534, 'porosity', 85],\n",
       " 'perms': {'x': 23, 'y': 43},\n",
       " 'oilprd': (45, 2, 3, 43321)}"
      ]
     },
     "execution_count": 20,
     "metadata": {},
     "output_type": "execute_result"
    }
   ],
   "source": [
    "di"
   ]
  },
  {
   "cell_type": "markdown",
   "metadata": {},
   "source": [
    "## Accessing data from a dict"
   ]
  },
  {
   "cell_type": "code",
   "execution_count": 21,
   "metadata": {},
   "outputs": [],
   "source": [
    "a = [67,34,534,\"porosity\",85]"
   ]
  },
  {
   "cell_type": "code",
   "execution_count": 22,
   "metadata": {},
   "outputs": [
    {
     "data": {
      "text/plain": [
       "[67, 34, 534, 'porosity', 85]"
      ]
     },
     "execution_count": 22,
     "metadata": {},
     "output_type": "execute_result"
    }
   ],
   "source": [
    "a\n"
   ]
  },
  {
   "cell_type": "code",
   "execution_count": 23,
   "metadata": {},
   "outputs": [
    {
     "data": {
      "text/plain": [
       "'porosity'"
      ]
     },
     "execution_count": 23,
     "metadata": {},
     "output_type": "execute_result"
    }
   ],
   "source": [
    "a[3]"
   ]
  },
  {
   "cell_type": "code",
   "execution_count": 24,
   "metadata": {},
   "outputs": [
    {
     "data": {
      "text/plain": [
       "{'porosity': 0.3, 'permeability': 10, 'lithology': 'Limestone'}"
      ]
     },
     "execution_count": 24,
     "metadata": {},
     "output_type": "execute_result"
    }
   ],
   "source": [
    "rock_properties"
   ]
  },
  {
   "cell_type": "code",
   "execution_count": 25,
   "metadata": {},
   "outputs": [
    {
     "data": {
      "text/plain": [
       "'Limestone'"
      ]
     },
     "execution_count": 25,
     "metadata": {},
     "output_type": "execute_result"
    }
   ],
   "source": [
    "rock_properties[\"lithology\"]"
   ]
  },
  {
   "cell_type": "code",
   "execution_count": 26,
   "metadata": {},
   "outputs": [
    {
     "ename": "KeyError",
     "evalue": "0",
     "output_type": "error",
     "traceback": [
      "\u001b[1;31m---------------------------------------------------------------------------\u001b[0m",
      "\u001b[1;31mKeyError\u001b[0m                                  Traceback (most recent call last)",
      "\u001b[1;32m<ipython-input-26-29a4346eb11d>\u001b[0m in \u001b[0;36m<module>\u001b[1;34m\u001b[0m\n\u001b[1;32m----> 1\u001b[1;33m \u001b[0mrock_properties\u001b[0m\u001b[1;33m[\u001b[0m\u001b[1;36m0\u001b[0m\u001b[1;33m]\u001b[0m\u001b[1;33m\u001b[0m\u001b[1;33m\u001b[0m\u001b[0m\n\u001b[0m",
      "\u001b[1;31mKeyError\u001b[0m: 0"
     ]
    }
   ],
   "source": [
    "rock_properties[0]"
   ]
  },
  {
   "cell_type": "code",
   "execution_count": 27,
   "metadata": {},
   "outputs": [
    {
     "data": {
      "text/plain": [
       "{'porosity': 0.3, 'permeability': 10, 'lithology': 'Limestone'}"
      ]
     },
     "execution_count": 27,
     "metadata": {},
     "output_type": "execute_result"
    }
   ],
   "source": [
    "rock_properties"
   ]
  },
  {
   "cell_type": "code",
   "execution_count": 30,
   "metadata": {},
   "outputs": [],
   "source": [
    "rock_pro =  {\"rock_names\":[\"a\",\"b\",\"c\",\"d\"],'poro' : [0.25,0.30,0.40,0.25], 'perm' : [150,250,350,450] , 'lithology' : ['Limestone','Limestone','Limestone','Limestone']}"
   ]
  },
  {
   "cell_type": "code",
   "execution_count": 31,
   "metadata": {},
   "outputs": [
    {
     "data": {
      "text/plain": [
       "{'rock_names': ['a', 'b', 'c', 'd'],\n",
       " 'poro': [0.25, 0.3, 0.4, 0.25],\n",
       " 'perm': [150, 250, 350, 450],\n",
       " 'lithology': ['Limestone', 'Limestone', 'Limestone', 'Limestone']}"
      ]
     },
     "execution_count": 31,
     "metadata": {},
     "output_type": "execute_result"
    }
   ],
   "source": [
    "rock_pro"
   ]
  },
  {
   "cell_type": "code",
   "execution_count": 33,
   "metadata": {},
   "outputs": [
    {
     "data": {
      "text/plain": [
       "0.3"
      ]
     },
     "execution_count": 33,
     "metadata": {},
     "output_type": "execute_result"
    }
   ],
   "source": [
    "rock_pro['poro'][1]"
   ]
  },
  {
   "cell_type": "code",
   "execution_count": 34,
   "metadata": {},
   "outputs": [],
   "source": [
    "rock_pro =  {\"rock_a\":{\"porosity\":0.3,\"perm\":45,\"Lithology\":\"Sandstone\"},\n",
    "             \"rock_b\":{\"porosity\":0.56,\"perm\":67,\"Lithology\":\"Limestone\"},\n",
    "             \"rock_c\":{\"porosity\":0.34,\"perm\":54,\"Lithology\":\"Sandstone\"},\n",
    "             \"rock_d\":{\"porosity\":0.78,\"perm\":76,\"Lithology\":\"Shale\"}}"
   ]
  },
  {
   "cell_type": "code",
   "execution_count": 35,
   "metadata": {},
   "outputs": [
    {
     "data": {
      "text/plain": [
       "{'rock_a': {'porosity': 0.3, 'perm': 45, 'Lithology': 'Sandstone'},\n",
       " 'rock_b': {'porosity': 0.56, 'perm': 67, 'Lithology': 'Limestone'},\n",
       " 'rock_c': {'porosity': 0.34, 'perm': 54, 'Lithology': 'Sandstone'},\n",
       " 'rock_d': {'porosity': 0.78, 'perm': 76, 'Lithology': 'Shale'}}"
      ]
     },
     "execution_count": 35,
     "metadata": {},
     "output_type": "execute_result"
    }
   ],
   "source": [
    "rock_pro"
   ]
  },
  {
   "cell_type": "code",
   "execution_count": 36,
   "metadata": {},
   "outputs": [
    {
     "data": {
      "text/plain": [
       "{'porosity': 0.78, 'perm': 76, 'Lithology': 'Shale'}"
      ]
     },
     "execution_count": 36,
     "metadata": {},
     "output_type": "execute_result"
    }
   ],
   "source": [
    "rock_pro[\"rock_d\"]"
   ]
  },
  {
   "cell_type": "code",
   "execution_count": 37,
   "metadata": {},
   "outputs": [
    {
     "data": {
      "text/plain": [
       "'Shale'"
      ]
     },
     "execution_count": 37,
     "metadata": {},
     "output_type": "execute_result"
    }
   ],
   "source": [
    "rock_pro[\"rock_d\"][\"Lithology\"]"
   ]
  },
  {
   "cell_type": "code",
   "execution_count": 38,
   "metadata": {},
   "outputs": [],
   "source": [
    "di = {\"_3443\":\"poiros\",\"lis\":[67,34,534,\"porosity\",85],\"perms\":{\"x\":23,\"y\":43},\"oilprd\":(45,2,3,43321)}"
   ]
  },
  {
   "cell_type": "code",
   "execution_count": 39,
   "metadata": {},
   "outputs": [
    {
     "data": {
      "text/plain": [
       "{'_3443': 'poiros',\n",
       " 'lis': [67, 34, 534, 'porosity', 85],\n",
       " 'perms': {'x': 23, 'y': 43},\n",
       " 'oilprd': (45, 2, 3, 43321)}"
      ]
     },
     "execution_count": 39,
     "metadata": {},
     "output_type": "execute_result"
    }
   ],
   "source": [
    "di"
   ]
  },
  {
   "cell_type": "code",
   "execution_count": 40,
   "metadata": {},
   "outputs": [
    {
     "data": {
      "text/plain": [
       "dict"
      ]
     },
     "execution_count": 40,
     "metadata": {},
     "output_type": "execute_result"
    }
   ],
   "source": [
    "type(di)"
   ]
  },
  {
   "cell_type": "code",
   "execution_count": 41,
   "metadata": {},
   "outputs": [
    {
     "data": {
      "text/plain": [
       "[67, 34, 534, 'porosity', 85]"
      ]
     },
     "execution_count": 41,
     "metadata": {},
     "output_type": "execute_result"
    }
   ],
   "source": [
    "di[\"lis\"]"
   ]
  },
  {
   "cell_type": "code",
   "execution_count": 42,
   "metadata": {},
   "outputs": [
    {
     "data": {
      "text/plain": [
       "'porosity'"
      ]
     },
     "execution_count": 42,
     "metadata": {},
     "output_type": "execute_result"
    }
   ],
   "source": [
    "di[\"lis\"][3]"
   ]
  },
  {
   "cell_type": "markdown",
   "metadata": {},
   "source": [
    "#### Tuples are allowed as a key, sets,lists and dict are not allowed as key"
   ]
  },
  {
   "cell_type": "code",
   "execution_count": 43,
   "metadata": {},
   "outputs": [],
   "source": [
    "d = {(3,4,3):\"sddds\"}"
   ]
  },
  {
   "cell_type": "code",
   "execution_count": 44,
   "metadata": {},
   "outputs": [
    {
     "data": {
      "text/plain": [
       "{(3, 4, 3): 'sddds'}"
      ]
     },
     "execution_count": 44,
     "metadata": {},
     "output_type": "execute_result"
    }
   ],
   "source": [
    "d"
   ]
  },
  {
   "cell_type": "code",
   "execution_count": 45,
   "metadata": {},
   "outputs": [
    {
     "data": {
      "text/plain": [
       "'sddds'"
      ]
     },
     "execution_count": 45,
     "metadata": {},
     "output_type": "execute_result"
    }
   ],
   "source": [
    "d[(3,4,3)]"
   ]
  },
  {
   "cell_type": "code",
   "execution_count": 46,
   "metadata": {},
   "outputs": [
    {
     "ename": "TypeError",
     "evalue": "unhashable type: 'list'",
     "output_type": "error",
     "traceback": [
      "\u001b[1;31m---------------------------------------------------------------------------\u001b[0m",
      "\u001b[1;31mTypeError\u001b[0m                                 Traceback (most recent call last)",
      "\u001b[1;32m<ipython-input-46-5485132972e6>\u001b[0m in \u001b[0;36m<module>\u001b[1;34m\u001b[0m\n\u001b[1;32m----> 1\u001b[1;33m \u001b[0md\u001b[0m \u001b[1;33m=\u001b[0m \u001b[1;33m{\u001b[0m\u001b[1;33m[\u001b[0m\u001b[1;36m3\u001b[0m\u001b[1;33m,\u001b[0m\u001b[1;36m4\u001b[0m\u001b[1;33m,\u001b[0m\u001b[1;36m3\u001b[0m\u001b[1;33m]\u001b[0m\u001b[1;33m:\u001b[0m\u001b[1;34m\"sddds\"\u001b[0m\u001b[1;33m}\u001b[0m\u001b[1;33m\u001b[0m\u001b[1;33m\u001b[0m\u001b[0m\n\u001b[0m",
      "\u001b[1;31mTypeError\u001b[0m: unhashable type: 'list'"
     ]
    }
   ],
   "source": [
    "d = {[3,4,3]:\"sddds\"}"
   ]
  },
  {
   "cell_type": "code",
   "execution_count": 47,
   "metadata": {},
   "outputs": [],
   "source": [
    "d1 = {'_3443':'jc','name':'Jaiyesh','n':[2,3,4,5,67,8,'js',(1,2,3,4)],'t':(3,4,5,6),'d':{1:23,'jv':'hs'}}\n"
   ]
  },
  {
   "cell_type": "code",
   "execution_count": 48,
   "metadata": {},
   "outputs": [
    {
     "data": {
      "text/plain": [
       "{'_3443': 'jc',\n",
       " 'name': 'Jaiyesh',\n",
       " 'n': [2, 3, 4, 5, 67, 8, 'js', (1, 2, 3, 4)],\n",
       " 't': (3, 4, 5, 6),\n",
       " 'd': {1: 23, 'jv': 'hs'}}"
      ]
     },
     "execution_count": 48,
     "metadata": {},
     "output_type": "execute_result"
    }
   ],
   "source": [
    "d1"
   ]
  },
  {
   "cell_type": "code",
   "execution_count": 49,
   "metadata": {},
   "outputs": [
    {
     "data": {
      "text/plain": [
       "[2, 3, 4, 5, 67, 8, 'js', (1, 2, 3, 4)]"
      ]
     },
     "execution_count": 49,
     "metadata": {},
     "output_type": "execute_result"
    }
   ],
   "source": [
    "d1[\"n\"]"
   ]
  },
  {
   "cell_type": "code",
   "execution_count": 50,
   "metadata": {},
   "outputs": [
    {
     "data": {
      "text/plain": [
       "(1, 2, 3, 4)"
      ]
     },
     "execution_count": 50,
     "metadata": {},
     "output_type": "execute_result"
    }
   ],
   "source": [
    "d1[\"n\"][7]"
   ]
  },
  {
   "cell_type": "code",
   "execution_count": 51,
   "metadata": {},
   "outputs": [
    {
     "data": {
      "text/plain": [
       "3"
      ]
     },
     "execution_count": 51,
     "metadata": {},
     "output_type": "execute_result"
    }
   ],
   "source": [
    "d1[\"n\"][7][2]"
   ]
  },
  {
   "cell_type": "code",
   "execution_count": 52,
   "metadata": {},
   "outputs": [],
   "source": [
    "d1 = {'_3443':'jc','name':'Jaiyesh','n':[2,3,4,5,67,8,'js',{1,2,3,4}],'t':(3,4,5,6),'d':{1:23,'jv':'hs'}}"
   ]
  },
  {
   "cell_type": "code",
   "execution_count": 53,
   "metadata": {},
   "outputs": [
    {
     "data": {
      "text/plain": [
       "{'_3443': 'jc',\n",
       " 'name': 'Jaiyesh',\n",
       " 'n': [2, 3, 4, 5, 67, 8, 'js', {1, 2, 3, 4}],\n",
       " 't': (3, 4, 5, 6),\n",
       " 'd': {1: 23, 'jv': 'hs'}}"
      ]
     },
     "execution_count": 53,
     "metadata": {},
     "output_type": "execute_result"
    }
   ],
   "source": [
    "d1"
   ]
  },
  {
   "cell_type": "code",
   "execution_count": 57,
   "metadata": {},
   "outputs": [
    {
     "data": {
      "text/plain": [
       "3"
      ]
     },
     "execution_count": 57,
     "metadata": {},
     "output_type": "execute_result"
    }
   ],
   "source": [
    "list(d1[\"n\"][-1])[-2]"
   ]
  },
  {
   "cell_type": "markdown",
   "metadata": {},
   "source": [
    "## Dictionaries are muttable in nature"
   ]
  },
  {
   "cell_type": "code",
   "execution_count": 58,
   "metadata": {},
   "outputs": [
    {
     "data": {
      "text/plain": [
       "{'porosity': 0.3, 'permeability': 10, 'lithology': 'Limestone'}"
      ]
     },
     "execution_count": 58,
     "metadata": {},
     "output_type": "execute_result"
    }
   ],
   "source": [
    "rock_properties"
   ]
  },
  {
   "cell_type": "code",
   "execution_count": 60,
   "metadata": {},
   "outputs": [],
   "source": [
    "rock_properties[\"lithology\"] = \"Shale\""
   ]
  },
  {
   "cell_type": "code",
   "execution_count": 61,
   "metadata": {},
   "outputs": [
    {
     "data": {
      "text/plain": [
       "{'porosity': 0.3, 'permeability': 10, 'lithology': 'Shale'}"
      ]
     },
     "execution_count": 61,
     "metadata": {},
     "output_type": "execute_result"
    }
   ],
   "source": [
    "rock_properties"
   ]
  },
  {
   "cell_type": "code",
   "execution_count": 64,
   "metadata": {},
   "outputs": [],
   "source": [
    "# start = int(input('Enter starting point: '))\n",
    "# stop = int(input('Enter stop point: '))\n",
    "# step = int(input('Enter step size: '))\n",
    "\n",
    "# list(range(start,stop,step))"
   ]
  },
  {
   "cell_type": "code",
   "execution_count": 65,
   "metadata": {},
   "outputs": [],
   "source": [
    "# ctrl + /"
   ]
  },
  {
   "cell_type": "code",
   "execution_count": 66,
   "metadata": {},
   "outputs": [
    {
     "data": {
      "text/plain": [
       "{'porosity': 0.3, 'permeability': 10, 'lithology': 'Shale'}"
      ]
     },
     "execution_count": 66,
     "metadata": {},
     "output_type": "execute_result"
    }
   ],
   "source": [
    "rock_properties"
   ]
  },
  {
   "cell_type": "code",
   "execution_count": 68,
   "metadata": {},
   "outputs": [],
   "source": [
    "rock_properties[\"WaterSat\"] = 0.25"
   ]
  },
  {
   "cell_type": "code",
   "execution_count": 69,
   "metadata": {},
   "outputs": [
    {
     "data": {
      "text/plain": [
       "{'porosity': 0.3, 'permeability': 10, 'lithology': 'Shale', 'WaterSat': 0.25}"
      ]
     },
     "execution_count": 69,
     "metadata": {},
     "output_type": "execute_result"
    }
   ],
   "source": [
    "rock_properties"
   ]
  },
  {
   "cell_type": "code",
   "execution_count": 70,
   "metadata": {},
   "outputs": [
    {
     "data": {
      "text/plain": [
       "'Shale'"
      ]
     },
     "execution_count": 70,
     "metadata": {},
     "output_type": "execute_result"
    }
   ],
   "source": [
    "rock_properties.pop(\"lithology\")"
   ]
  },
  {
   "cell_type": "code",
   "execution_count": 71,
   "metadata": {},
   "outputs": [
    {
     "data": {
      "text/plain": [
       "{'porosity': 0.3, 'permeability': 10, 'WaterSat': 0.25}"
      ]
     },
     "execution_count": 71,
     "metadata": {},
     "output_type": "execute_result"
    }
   ],
   "source": [
    "rock_properties"
   ]
  },
  {
   "cell_type": "code",
   "execution_count": 72,
   "metadata": {},
   "outputs": [
    {
     "data": {
      "text/plain": [
       "dict_keys(['porosity', 'permeability', 'WaterSat'])"
      ]
     },
     "execution_count": 72,
     "metadata": {},
     "output_type": "execute_result"
    }
   ],
   "source": [
    "rock_properties.keys()"
   ]
  },
  {
   "cell_type": "code",
   "execution_count": 73,
   "metadata": {},
   "outputs": [
    {
     "data": {
      "text/plain": [
       "dict_values([0.3, 10, 0.25])"
      ]
     },
     "execution_count": 73,
     "metadata": {},
     "output_type": "execute_result"
    }
   ],
   "source": [
    "rock_properties.values()"
   ]
  },
  {
   "cell_type": "markdown",
   "metadata": {},
   "source": [
    "## Summary of Data Structures:\n",
    "\n",
    "1. List: mutable, ordered, empty lists are used heavily to populate it later during the program, []\n",
    "\n",
    "2. Tuples: immutable, ordered, data cannot be changed, ()\n",
    "\n",
    "3. Sets : Unordered, uniqueness of element, {}\n",
    "\n",
    "4. Dictionaries: Key:Vale pair, mutable, {key:value}"
   ]
  },
  {
   "cell_type": "markdown",
   "metadata": {},
   "source": [
    "## for loops"
   ]
  },
  {
   "cell_type": "markdown",
   "metadata": {},
   "source": [
    "- toolto utilize the power of computers(iterations)\n",
    "\n",
    "- we can perform repetition of a command n number of times \n",
    "\n",
    "- iterations are always performed on iterables (ordered-collections: list,tuple, dict, string, numpy arrat,df)\n",
    "\n"
   ]
  },
  {
   "cell_type": "code",
   "execution_count": 76,
   "metadata": {},
   "outputs": [
    {
     "name": "stdout",
     "output_type": "stream",
     "text": [
      "0.2\n",
      "0.3\n",
      "0.4\n"
     ]
    }
   ],
   "source": [
    "poro = (0.2,0.3,0.4,0.4,0.56,0.43,0.65,0.34)\n",
    "print(poro[0])\n",
    "print(poro[1])\n",
    "print(poro[2])"
   ]
  },
  {
   "cell_type": "code",
   "execution_count": 80,
   "metadata": {},
   "outputs": [
    {
     "name": "stdout",
     "output_type": "stream",
     "text": [
      "The value of i is 0.2\n",
      "0.2\n",
      "End of for loop for i = 0.2\n",
      "================\n",
      "The value of i is 0.3\n",
      "0.3\n",
      "End of for loop for i = 0.3\n",
      "================\n",
      "The value of i is 0.4\n",
      "0.4\n",
      "End of for loop for i = 0.4\n",
      "================\n",
      "Outside of for loop\n"
     ]
    }
   ],
   "source": [
    "poro = (0.2,0.3,0.4)\n",
    "for i in poro:\n",
    "    print(f'The value of i is {i}')\n",
    "    print(i)\n",
    "    print(f'End of for loop for i = {i}')\n",
    "    print(\"================\")\n",
    "print(\"Outside of for loop\")"
   ]
  },
  {
   "cell_type": "markdown",
   "metadata": {},
   "source": [
    "### API = 141.5/SG - 131.5"
   ]
  },
  {
   "cell_type": "code",
   "execution_count": 81,
   "metadata": {},
   "outputs": [],
   "source": [
    "specific_gravity = [0.2,0.3,0.4,0.87,0.9,1,0.2]\n"
   ]
  },
  {
   "cell_type": "code",
   "execution_count": 82,
   "metadata": {},
   "outputs": [
    {
     "name": "stdout",
     "output_type": "stream",
     "text": [
      "API gravity corresponding to Specific Gravity 0.2 is 576.0\n",
      "API gravity corresponding to Specific Gravity 0.3 is 340.1666666666667\n",
      "API gravity corresponding to Specific Gravity 0.4 is 222.25\n",
      "API gravity corresponding to Specific Gravity 0.87 is 31.143678160919535\n",
      "API gravity corresponding to Specific Gravity 0.9 is 25.72222222222223\n",
      "API gravity corresponding to Specific Gravity 1 is 10.0\n",
      "API gravity corresponding to Specific Gravity 0.2 is 576.0\n"
     ]
    }
   ],
   "source": [
    "for i in specific_gravity:\n",
    "    api = (141.5/i) - 131.5\n",
    "    print(f\"API gravity corresponding to Specific Gravity {i} is {api}\")"
   ]
  },
  {
   "cell_type": "code",
   "execution_count": 96,
   "metadata": {},
   "outputs": [
    {
     "name": "stdout",
     "output_type": "stream",
     "text": [
      "API gravity corresponding to Specific Gravity 0.2 is 576.0\n",
      "576.0 stored in api_gravity list\n",
      "API gravity corresponding to Specific Gravity 0.3 is 340.1666666666667\n",
      "340.1666666666667 stored in api_gravity list\n",
      "API gravity corresponding to Specific Gravity 0.4 is 222.25\n",
      "222.25 stored in api_gravity list\n",
      "API gravity corresponding to Specific Gravity 0.87 is 31.143678160919535\n",
      "31.143678160919535 stored in api_gravity list\n",
      "API gravity corresponding to Specific Gravity 0.9 is 25.72222222222223\n",
      "25.72222222222223 stored in api_gravity list\n",
      "API gravity corresponding to Specific Gravity 1 is 10.0\n",
      "10.0 stored in api_gravity list\n",
      "API gravity corresponding to Specific Gravity 0.2 is 576.0\n",
      "576.0 stored in api_gravity list\n"
     ]
    }
   ],
   "source": [
    "api_gravity = []\n",
    "\n",
    "for i in specific_gravity:\n",
    "    api = (141.5/i) - 131.5\n",
    "    print(f\"API gravity corresponding to Specific Gravity {i} is {api}\")\n",
    "    api_gravity.append(api)\n",
    "    print(f\"{api} stored in api_gravity list\")"
   ]
  },
  {
   "cell_type": "code",
   "execution_count": 97,
   "metadata": {},
   "outputs": [
    {
     "data": {
      "text/plain": [
       "[576.0,\n",
       " 340.1666666666667,\n",
       " 222.25,\n",
       " 31.143678160919535,\n",
       " 25.72222222222223,\n",
       " 10.0,\n",
       " 576.0]"
      ]
     },
     "execution_count": 97,
     "metadata": {},
     "output_type": "execute_result"
    }
   ],
   "source": [
    "api_gravity"
   ]
  },
  {
   "cell_type": "code",
   "execution_count": 85,
   "metadata": {},
   "outputs": [],
   "source": [
    "api_gravity = []"
   ]
  },
  {
   "cell_type": "code",
   "execution_count": 86,
   "metadata": {},
   "outputs": [
    {
     "data": {
      "text/plain": [
       "list"
      ]
     },
     "execution_count": 86,
     "metadata": {},
     "output_type": "execute_result"
    }
   ],
   "source": [
    "type(api_gravity)"
   ]
  },
  {
   "cell_type": "code",
   "execution_count": 87,
   "metadata": {},
   "outputs": [
    {
     "data": {
      "text/plain": [
       "[]"
      ]
     },
     "execution_count": 87,
     "metadata": {},
     "output_type": "execute_result"
    }
   ],
   "source": [
    "api_gravity"
   ]
  },
  {
   "cell_type": "code",
   "execution_count": 88,
   "metadata": {},
   "outputs": [],
   "source": [
    "api_gravity.append(34)"
   ]
  },
  {
   "cell_type": "code",
   "execution_count": 89,
   "metadata": {},
   "outputs": [
    {
     "data": {
      "text/plain": [
       "[34]"
      ]
     },
     "execution_count": 89,
     "metadata": {},
     "output_type": "execute_result"
    }
   ],
   "source": [
    "api_gravity"
   ]
  },
  {
   "cell_type": "code",
   "execution_count": 90,
   "metadata": {},
   "outputs": [],
   "source": [
    "api_gravity.append(54)"
   ]
  },
  {
   "cell_type": "code",
   "execution_count": 91,
   "metadata": {},
   "outputs": [
    {
     "data": {
      "text/plain": [
       "[34, 54]"
      ]
     },
     "execution_count": 91,
     "metadata": {},
     "output_type": "execute_result"
    }
   ],
   "source": [
    "api_gravity"
   ]
  },
  {
   "cell_type": "code",
   "execution_count": 92,
   "metadata": {},
   "outputs": [
    {
     "name": "stdout",
     "output_type": "stream",
     "text": [
      "API gravity corresponding to Specific Gravity 0.2 is 576.0\n",
      "576.0 stored in api_gravity list\n",
      "API gravity corresponding to Specific Gravity 0.3 is 340.1666666666667\n",
      "340.1666666666667 stored in api_gravity list\n",
      "API gravity corresponding to Specific Gravity 0.4 is 222.25\n",
      "222.25 stored in api_gravity list\n",
      "API gravity corresponding to Specific Gravity 0.87 is 31.143678160919535\n",
      "31.143678160919535 stored in api_gravity list\n",
      "API gravity corresponding to Specific Gravity 0.9 is 25.72222222222223\n",
      "25.72222222222223 stored in api_gravity list\n",
      "API gravity corresponding to Specific Gravity 1 is 10.0\n",
      "10.0 stored in api_gravity list\n",
      "API gravity corresponding to Specific Gravity 0.2 is 576.0\n",
      "576.0 stored in api_gravity list\n"
     ]
    }
   ],
   "source": [
    "api_gravity = {}\n",
    "\n",
    "for i in specific_gravity:\n",
    "    api = (141.5/i) - 131.5\n",
    "    print(f\"API gravity corresponding to Specific Gravity {i} is {api}\")\n",
    "    #api_gravity.append(api)\n",
    "    api_gravity[f\"SG_{i}\"] = api\n",
    "    print(f\"{api} stored in api_gravity list\")"
   ]
  },
  {
   "cell_type": "code",
   "execution_count": 93,
   "metadata": {},
   "outputs": [
    {
     "data": {
      "text/plain": [
       "{'SG_0.2': 576.0,\n",
       " 'SG_0.3': 340.1666666666667,\n",
       " 'SG_0.4': 222.25,\n",
       " 'SG_0.87': 31.143678160919535,\n",
       " 'SG_0.9': 25.72222222222223,\n",
       " 'SG_1': 10.0}"
      ]
     },
     "execution_count": 93,
     "metadata": {},
     "output_type": "execute_result"
    }
   ],
   "source": [
    "api_gravity"
   ]
  },
  {
   "cell_type": "code",
   "execution_count": 98,
   "metadata": {},
   "outputs": [],
   "source": [
    "import matplotlib.pyplot as plt"
   ]
  },
  {
   "cell_type": "code",
   "execution_count": 102,
   "metadata": {},
   "outputs": [],
   "source": [
    "specific_gravity.sort()"
   ]
  },
  {
   "cell_type": "code",
   "execution_count": 103,
   "metadata": {},
   "outputs": [
    {
     "data": {
      "text/plain": [
       "[0.2, 0.2, 0.3, 0.4, 0.87, 0.9, 1]"
      ]
     },
     "execution_count": 103,
     "metadata": {},
     "output_type": "execute_result"
    }
   ],
   "source": [
    "specific_gravity"
   ]
  },
  {
   "cell_type": "code",
   "execution_count": 107,
   "metadata": {},
   "outputs": [],
   "source": [
    "api_gravity.sort(reverse=True)"
   ]
  },
  {
   "cell_type": "code",
   "execution_count": 108,
   "metadata": {},
   "outputs": [
    {
     "data": {
      "text/plain": [
       "[576.0,\n",
       " 576.0,\n",
       " 340.1666666666667,\n",
       " 222.25,\n",
       " 31.143678160919535,\n",
       " 25.72222222222223,\n",
       " 10.0]"
      ]
     },
     "execution_count": 108,
     "metadata": {},
     "output_type": "execute_result"
    }
   ],
   "source": [
    "api_gravity"
   ]
  },
  {
   "cell_type": "code",
   "execution_count": 109,
   "metadata": {},
   "outputs": [
    {
     "data": {
      "text/plain": [
       "[<matplotlib.lines.Line2D at 0x171ebc81708>]"
      ]
     },
     "execution_count": 109,
     "metadata": {},
     "output_type": "execute_result"
    },
    {
     "data": {
      "image/png": "[encoded data removed]",
      "text/plain": [
       "<Figure size 432x288 with 1 Axes>"
      ]
     },
     "metadata": {
      "needs_background": "light"
     },
     "output_type": "display_data"
    }
   ],
   "source": [
    "plt.plot(specific_gravity,api_gravity)"
   ]
  },
  {
   "cell_type": "code",
   "execution_count": 111,
   "metadata": {},
   "outputs": [],
   "source": [
    "perm = [1,2,3]\n"
   ]
  },
  {
   "cell_type": "code",
   "execution_count": 112,
   "metadata": {},
   "outputs": [
    {
     "data": {
      "text/plain": [
       "[0.2, 0.2, 0.3, 0.4, 0.87, 0.9, 1]"
      ]
     },
     "execution_count": 112,
     "metadata": {},
     "output_type": "execute_result"
    }
   ],
   "source": [
    "specific_gravity"
   ]
  },
  {
   "cell_type": "code",
   "execution_count": 113,
   "metadata": {},
   "outputs": [
    {
     "name": "stdout",
     "output_type": "stream",
     "text": [
      "Perm value is 1\n",
      "Now all the gravities will be printed\n",
      "for perm value 1, the SG value is 0.2\n",
      "for perm value 1, the SG value is 0.2\n",
      "for perm value 1, the SG value is 0.3\n",
      "for perm value 1, the SG value is 0.4\n",
      "for perm value 1, the SG value is 0.87\n",
      "for perm value 1, the SG value is 0.9\n",
      "for perm value 1, the SG value is 1\n",
      "==========================\n",
      "Perm value is 2\n",
      "Now all the gravities will be printed\n",
      "for perm value 2, the SG value is 0.2\n",
      "for perm value 2, the SG value is 0.2\n",
      "for perm value 2, the SG value is 0.3\n",
      "for perm value 2, the SG value is 0.4\n",
      "for perm value 2, the SG value is 0.87\n",
      "for perm value 2, the SG value is 0.9\n",
      "for perm value 2, the SG value is 1\n",
      "==========================\n",
      "Perm value is 3\n",
      "Now all the gravities will be printed\n",
      "for perm value 3, the SG value is 0.2\n",
      "for perm value 3, the SG value is 0.2\n",
      "for perm value 3, the SG value is 0.3\n",
      "for perm value 3, the SG value is 0.4\n",
      "for perm value 3, the SG value is 0.87\n",
      "for perm value 3, the SG value is 0.9\n",
      "for perm value 3, the SG value is 1\n",
      "==========================\n"
     ]
    }
   ],
   "source": [
    "for i in perm:\n",
    "    print(f\"Perm value is {i}\")\n",
    "    print(\"Now all the gravities will be printed\")\n",
    "    for j in specific_gravity:\n",
    "        print(f\"for perm value {i}, the SG value is {j}\")\n",
    "    print('==========================')"
   ]
  },
  {
   "cell_type": "code",
   "execution_count": 114,
   "metadata": {},
   "outputs": [],
   "source": [
    "perm = [1,2,3,4,5]\n",
    "specific_grav = [0.3,0.5,0.7,0.8,0.9,0.6767]\n",
    "porosity = [0.3,0.6,0.9]"
   ]
  },
  {
   "cell_type": "markdown",
   "metadata": {},
   "source": [
    "## ZIP"
   ]
  },
  {
   "cell_type": "code",
   "execution_count": 115,
   "metadata": {},
   "outputs": [
    {
     "data": {
      "text/plain": [
       "<zip at 0x171ebd65c48>"
      ]
     },
     "execution_count": 115,
     "metadata": {},
     "output_type": "execute_result"
    }
   ],
   "source": [
    "zip(perm,specific_grav,porosity)"
   ]
  },
  {
   "cell_type": "code",
   "execution_count": 116,
   "metadata": {},
   "outputs": [
    {
     "data": {
      "text/plain": [
       "zip"
      ]
     },
     "execution_count": 116,
     "metadata": {},
     "output_type": "execute_result"
    }
   ],
   "source": [
    "type(zip(perm,specific_grav,porosity))"
   ]
  },
  {
   "cell_type": "code",
   "execution_count": 117,
   "metadata": {},
   "outputs": [
    {
     "data": {
      "text/plain": [
       "[(1, 0.3, 0.3), (2, 0.5, 0.6), (3, 0.7, 0.9)]"
      ]
     },
     "execution_count": 117,
     "metadata": {},
     "output_type": "execute_result"
    }
   ],
   "source": [
    "list(zip(perm,specific_grav,porosity))"
   ]
  },
  {
   "cell_type": "code",
   "execution_count": 119,
   "metadata": {},
   "outputs": [
    {
     "name": "stdout",
     "output_type": "stream",
     "text": [
      "Perm is : 1\n",
      "SG is : 0.3\n",
      "Poro is : 0.3\n",
      "================\n",
      "Perm is : 2\n",
      "SG is : 0.5\n",
      "Poro is : 0.6\n",
      "================\n",
      "Perm is : 3\n",
      "SG is : 0.7\n",
      "Poro is : 0.9\n",
      "================\n"
     ]
    }
   ],
   "source": [
    "for i,j,k in zip(perm,specific_grav,porosity):\n",
    "    print(f\"Perm is : {i}\")\n",
    "    print(f\"SG is : {j}\")\n",
    "    print(f\"Poro is : {k}\")\n",
    "    print(\"================\")"
   ]
  },
  {
   "cell_type": "code",
   "execution_count": 125,
   "metadata": {},
   "outputs": [],
   "source": [
    "perm = [1,2,3]\n",
    "specific_grav = [0.3,0.5,0.7]\n",
    "porosity = [0.3,0.6,0.9]"
   ]
  },
  {
   "cell_type": "code",
   "execution_count": null,
   "metadata": {},
   "outputs": [],
   "source": []
  },
  {
   "cell_type": "code",
   "execution_count": 120,
   "metadata": {},
   "outputs": [],
   "source": [
    "#perm*sg/poro"
   ]
  },
  {
   "cell_type": "code",
   "execution_count": 127,
   "metadata": {},
   "outputs": [
    {
     "name": "stdout",
     "output_type": "stream",
     "text": [
      "The value of perm*sg/poro is 1.0\n",
      "The value of perm*sg/poro is 1.6666666666666667\n",
      "The value of perm*sg/poro is 2.333333333333333\n"
     ]
    }
   ],
   "source": [
    "product = []\n",
    "for i,j,k in zip(perm,specific_grav,porosity):\n",
    "    c = (i*j)/k\n",
    "    print(f\"The value of perm*sg/poro is {c}\")\n",
    "    product.append(c)"
   ]
  },
  {
   "cell_type": "code",
   "execution_count": 128,
   "metadata": {},
   "outputs": [
    {
     "data": {
      "text/plain": [
       "[1.0, 1.6666666666666667, 2.333333333333333]"
      ]
     },
     "execution_count": 128,
     "metadata": {},
     "output_type": "execute_result"
    }
   ],
   "source": [
    "product"
   ]
  },
  {
   "cell_type": "code",
   "execution_count": 122,
   "metadata": {},
   "outputs": [],
   "source": [
    "perm = [1,2,3]\n",
    "field_name = ['neelam','panna','volve']\n",
    "porosity = [0.2,0.3,0.4]"
   ]
  },
  {
   "cell_type": "code",
   "execution_count": 123,
   "metadata": {},
   "outputs": [],
   "source": [
    "#Print = In field _____ , the value of porosity(%) is _____ and perm is ____"
   ]
  },
  {
   "cell_type": "code",
   "execution_count": 124,
   "metadata": {},
   "outputs": [
    {
     "name": "stdout",
     "output_type": "stream",
     "text": [
      "In field neelam , the value of porosity(%) is 20.0 and perm is 1\n",
      "In field panna , the value of porosity(%) is 30.0 and perm is 2\n",
      "In field volve , the value of porosity(%) is 40.0 and perm is 3\n"
     ]
    }
   ],
   "source": [
    "for i,j,k in zip(field_name,porosity,perm):\n",
    "    print(f\"In field {i} , the value of porosity(%) is {j*100} and perm is {k}\")"
   ]
  },
  {
   "cell_type": "markdown",
   "metadata": {},
   "source": [
    "## if-else: To runa block of code only if certain condition holds true\n",
    "\n",
    "- identation"
   ]
  },
  {
   "cell_type": "code",
   "execution_count": 130,
   "metadata": {},
   "outputs": [],
   "source": [
    "if 5<2:\n",
    "    print(\"Executed\")"
   ]
  },
  {
   "cell_type": "code",
   "execution_count": 131,
   "metadata": {},
   "outputs": [
    {
     "data": {
      "text/plain": [
       "False"
      ]
     },
     "execution_count": 131,
     "metadata": {},
     "output_type": "execute_result"
    }
   ],
   "source": [
    "5<2"
   ]
  },
  {
   "cell_type": "code",
   "execution_count": 132,
   "metadata": {},
   "outputs": [
    {
     "data": {
      "text/plain": [
       "True"
      ]
     },
     "execution_count": 132,
     "metadata": {},
     "output_type": "execute_result"
    }
   ],
   "source": [
    "5>2"
   ]
  },
  {
   "cell_type": "code",
   "execution_count": 133,
   "metadata": {},
   "outputs": [
    {
     "data": {
      "text/plain": [
       "True"
      ]
     },
     "execution_count": 133,
     "metadata": {},
     "output_type": "execute_result"
    }
   ],
   "source": [
    "5==5"
   ]
  },
  {
   "cell_type": "code",
   "execution_count": 136,
   "metadata": {},
   "outputs": [
    {
     "name": "stdout",
     "output_type": "stream",
     "text": [
      "False\n"
     ]
    }
   ],
   "source": [
    "condition = 5<2\n",
    "print(condition)"
   ]
  },
  {
   "cell_type": "code",
   "execution_count": 137,
   "metadata": {},
   "outputs": [
    {
     "name": "stdout",
     "output_type": "stream",
     "text": [
      "else is executed\n"
     ]
    }
   ],
   "source": [
    "if condition:\n",
    "    print(\"If is Executed\")\n",
    "\n",
    "else:\n",
    "    print(\"else is executed\")"
   ]
  },
  {
   "cell_type": "code",
   "execution_count": null,
   "metadata": {},
   "outputs": [],
   "source": []
  }
 ],
 "metadata": {
  "kernelspec": {
   "display_name": "Python 3",
   "language": "python",
   "name": "python3"
  },
  "language_info": {
   "codemirror_mode": {
    "name": "ipython",
    "version": 3
   },
   "file_extension": ".py",
   "mimetype": "text/x-python",
   "name": "python",
   "nbconvert_exporter": "python",
   "pygments_lexer": "ipython3",
   "version": "3.7.4"
  }
 },
 "nbformat": 4,
 "nbformat_minor": 2
}
