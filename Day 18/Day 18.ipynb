{
 "cells": [
  {
   "cell_type": "markdown",
   "metadata": {},
   "source": [
    "# 1. Without using Scikit Learn"
   ]
  },
  {
   "cell_type": "code",
   "execution_count": 1,
   "metadata": {},
   "outputs": [],
   "source": [
    "import numpy as np\n",
    "import pandas as pd\n",
    "import seaborn as sns\n",
    "import matplotlib.pyplot as plt"
   ]
  },
  {
   "cell_type": "code",
   "execution_count": 2,
   "metadata": {},
   "outputs": [],
   "source": [
    "## Data Preparation"
   ]
  },
  {
   "cell_type": "markdown",
   "metadata": {},
   "source": [
    "y = mx+b \n",
    "\n",
    "y =2x -3"
   ]
  },
  {
   "cell_type": "code",
   "execution_count": 3,
   "metadata": {},
   "outputs": [],
   "source": [
    "def datamaker(N,err):\n",
    "    x = np.linspace(-1,1,N)\n",
    "    \n",
    "    y  = 2*x -3\n",
    "    y = y + err*np.random.randn(N)\n",
    "    \n",
    "    return x,y"
   ]
  },
  {
   "cell_type": "code",
   "execution_count": 8,
   "metadata": {},
   "outputs": [],
   "source": [
    "X_train, y_train = datamaker(500,0.2)"
   ]
  },
  {
   "cell_type": "code",
   "execution_count": 9,
   "metadata": {},
   "outputs": [
    {
     "data": {
      "text/plain": [
       "<matplotlib.collections.PathCollection at 0x1e6c1a58b48>"
      ]
     },
     "execution_count": 9,
     "metadata": {},
     "output_type": "execute_result"
    },
    {
     "data": {
      "image/png": "[encoded data removed]",
      "text/plain": [
       "<Figure size 432x288 with 1 Axes>"
      ]
     },
     "metadata": {
      "needs_background": "light"
     },
     "output_type": "display_data"
    }
   ],
   "source": [
    "plt.scatter(X_train,y_train)"
   ]
  },
  {
   "cell_type": "code",
   "execution_count": 10,
   "metadata": {},
   "outputs": [],
   "source": [
    "w_actual =2\n",
    "b_actual = -3"
   ]
  },
  {
   "cell_type": "code",
   "execution_count": 11,
   "metadata": {},
   "outputs": [],
   "source": [
    "df = pd.DataFrame({\"X_train\":X_train, \"y_train\":y_train})"
   ]
  },
  {
   "cell_type": "code",
   "execution_count": 12,
   "metadata": {},
   "outputs": [
    {
     "data": {
      "text/html": [
       "<div>\n",
       "<style scoped>\n",
       "    .dataframe tbody tr th:only-of-type {\n",
       "        vertical-align: middle;\n",
       "    }\n",
       "\n",
       "    .dataframe tbody tr th {\n",
       "        vertical-align: top;\n",
       "    }\n",
       "\n",
       "    .dataframe thead th {\n",
       "        text-align: right;\n",
       "    }\n",
       "</style>\n",
       "<table border=\"1\" class=\"dataframe\">\n",
       "  <thead>\n",
       "    <tr style=\"text-align: right;\">\n",
       "      <th></th>\n",
       "      <th>X_train</th>\n",
       "      <th>y_train</th>\n",
       "    </tr>\n",
       "  </thead>\n",
       "  <tbody>\n",
       "    <tr>\n",
       "      <th>0</th>\n",
       "      <td>-1.000000</td>\n",
       "      <td>-4.878583</td>\n",
       "    </tr>\n",
       "    <tr>\n",
       "      <th>1</th>\n",
       "      <td>-0.995992</td>\n",
       "      <td>-5.261024</td>\n",
       "    </tr>\n",
       "    <tr>\n",
       "      <th>2</th>\n",
       "      <td>-0.991984</td>\n",
       "      <td>-4.941330</td>\n",
       "    </tr>\n",
       "    <tr>\n",
       "      <th>3</th>\n",
       "      <td>-0.987976</td>\n",
       "      <td>-5.469763</td>\n",
       "    </tr>\n",
       "    <tr>\n",
       "      <th>4</th>\n",
       "      <td>-0.983968</td>\n",
       "      <td>-4.683016</td>\n",
       "    </tr>\n",
       "    <tr>\n",
       "      <th>...</th>\n",
       "      <td>...</td>\n",
       "      <td>...</td>\n",
       "    </tr>\n",
       "    <tr>\n",
       "      <th>495</th>\n",
       "      <td>0.983968</td>\n",
       "      <td>-0.833186</td>\n",
       "    </tr>\n",
       "    <tr>\n",
       "      <th>496</th>\n",
       "      <td>0.987976</td>\n",
       "      <td>-0.976695</td>\n",
       "    </tr>\n",
       "    <tr>\n",
       "      <th>497</th>\n",
       "      <td>0.991984</td>\n",
       "      <td>-0.928940</td>\n",
       "    </tr>\n",
       "    <tr>\n",
       "      <th>498</th>\n",
       "      <td>0.995992</td>\n",
       "      <td>-1.103844</td>\n",
       "    </tr>\n",
       "    <tr>\n",
       "      <th>499</th>\n",
       "      <td>1.000000</td>\n",
       "      <td>-1.027817</td>\n",
       "    </tr>\n",
       "  </tbody>\n",
       "</table>\n",
       "<p>500 rows × 2 columns</p>\n",
       "</div>"
      ],
      "text/plain": [
       "      X_train   y_train\n",
       "0   -1.000000 -4.878583\n",
       "1   -0.995992 -5.261024\n",
       "2   -0.991984 -4.941330\n",
       "3   -0.987976 -5.469763\n",
       "4   -0.983968 -4.683016\n",
       "..        ...       ...\n",
       "495  0.983968 -0.833186\n",
       "496  0.987976 -0.976695\n",
       "497  0.991984 -0.928940\n",
       "498  0.995992 -1.103844\n",
       "499  1.000000 -1.027817\n",
       "\n",
       "[500 rows x 2 columns]"
      ]
     },
     "execution_count": 12,
     "metadata": {},
     "output_type": "execute_result"
    }
   ],
   "source": [
    "df"
   ]
  },
  {
   "cell_type": "code",
   "execution_count": 13,
   "metadata": {},
   "outputs": [],
   "source": [
    "X = np.array(df[['X_train']])\n",
    "y = np.array(df[['y_train']])"
   ]
  },
  {
   "cell_type": "code",
   "execution_count": 14,
   "metadata": {},
   "outputs": [
    {
     "data": {
      "text/plain": [
       "(500, 1)"
      ]
     },
     "execution_count": 14,
     "metadata": {},
     "output_type": "execute_result"
    }
   ],
   "source": [
    "X.shape"
   ]
  },
  {
   "cell_type": "code",
   "execution_count": 15,
   "metadata": {},
   "outputs": [
    {
     "data": {
      "text/plain": [
       "(500, 1)"
      ]
     },
     "execution_count": 15,
     "metadata": {},
     "output_type": "execute_result"
    }
   ],
   "source": [
    "y.shape"
   ]
  },
  {
   "cell_type": "code",
   "execution_count": 17,
   "metadata": {},
   "outputs": [],
   "source": [
    "# Cost Function: That defines how bad our model prediction is compared to actual values, MSE"
   ]
  },
  {
   "cell_type": "code",
   "execution_count": 18,
   "metadata": {},
   "outputs": [],
   "source": [
    "def costfunc(w,b,X,y):\n",
    "    Z = np.dot(X,w)+b\n",
    "    \n",
    "    ##Xshape = 500*1\n",
    "    ## Wshape = 1*1\n",
    "    ## bshape = 1*1\n",
    "    ## Zshape = 500*1\n",
    "    ## y shape = 500*1\n",
    "    \n",
    "    loss = (y-Z)**2\n",
    "    \n",
    "    m = len(Z)\n",
    "    \n",
    "    j = ((1/m)*np.sum(loss))\n",
    "    \n",
    "    return j"
   ]
  },
  {
   "cell_type": "markdown",
   "metadata": {},
   "source": [
    "Formulas:\n",
    "\n",
    "\n",
    "## 1. $ J(w,b) = \\frac {1}{m} \\sum [y - (W.X + b)]^2 $\n",
    "## 2. $ \\frac {\\partial J}{\\partial W} = \\frac {-2}{m} (X^T . [y - (W.X + b)]) $\n",
    "## 3. $ \\frac {\\partial J} {\\partial b} = \\frac {-2}{m} \\sum [ y - (W.X + b) ] $"
   ]
  },
  {
   "cell_type": "code",
   "execution_count": 19,
   "metadata": {},
   "outputs": [],
   "source": [
    "def gradient(w,b,X,y):\n",
    "    \n",
    "    #dw = dJ/dw = Xt.(y-Z) = 1x500.500x1 = 1x1\n",
    "    #db = dJ/db = 1x1\n",
    "    \n",
    "        \n",
    "    #X - 500x1\n",
    "    #y - 500x1\n",
    "    #w - 1x1\n",
    "    #b - 1x1\n",
    "    \n",
    "    Z = np.dot(X , w) + b\n",
    "    \n",
    "    J = costfunc(w,b,X,y)\n",
    "    \n",
    "    m = X.shape[0]\n",
    "    \n",
    "    dw = (-2/m)*np.dot(X.T , (y - Z))\n",
    "    \n",
    "    db = (-2/m)*np.sum(y - Z)\n",
    "    \n",
    "    return dw , db"
   ]
  },
  {
   "cell_type": "code",
   "execution_count": 20,
   "metadata": {},
   "outputs": [
    {
     "name": "stdout",
     "output_type": "stream",
     "text": [
      "4 0\n",
      "10.341526867850384\n"
     ]
    }
   ],
   "source": [
    "## Training\n",
    "\n",
    "## Initial random weights\n",
    "\n",
    "w = np.random.randint(0,10)\n",
    "b = np.random.randint(0,10)\n",
    "\n",
    "print(w,b)\n",
    "print(costfunc(w,b,X,y))"
   ]
  },
  {
   "cell_type": "code",
   "execution_count": 21,
   "metadata": {},
   "outputs": [],
   "source": [
    "y_pred = w*X+b\n"
   ]
  },
  {
   "cell_type": "code",
   "execution_count": 22,
   "metadata": {},
   "outputs": [
    {
     "data": {
      "text/plain": [
       "<matplotlib.collections.PathCollection at 0x1e6c1bbe208>"
      ]
     },
     "execution_count": 22,
     "metadata": {},
     "output_type": "execute_result"
    },
    {
     "data": {
      "image/png": "[encoded data removed]",
      "text/plain": [
       "<Figure size 432x288 with 1 Axes>"
      ]
     },
     "metadata": {
      "needs_background": "light"
     },
     "output_type": "display_data"
    }
   ],
   "source": [
    "plt.scatter(X_train,y_train)\n",
    "plt.scatter(X,y_pred)"
   ]
  },
  {
   "cell_type": "code",
   "execution_count": 23,
   "metadata": {},
   "outputs": [],
   "source": [
    "#lets make our machine learn\n",
    "\n",
    "def learning(w,b,X,y,iteration):\n",
    "    Z = np.dot(X,w)+b\n",
    "    \n",
    "    costs = []\n",
    "    \n",
    "    costs.append(costfunc(w,b,X,y))\n",
    "    \n",
    "    for e in range(iteration):\n",
    "        dw,db = gradient(w,b,X,y)\n",
    "        \n",
    "        w = w - 0.005*dw\n",
    "        b = b - 0.005*db\n",
    "        \n",
    "        costs.append(costfunc(w,b,X,y))\n",
    "        \n",
    "    wf = w\n",
    "    bf = b\n",
    "    \n",
    "    return wf,bf,costs"
   ]
  },
  {
   "cell_type": "code",
   "execution_count": 24,
   "metadata": {},
   "outputs": [],
   "source": [
    "wf,bf,costs = learning(w,b,X,y,1000)"
   ]
  },
  {
   "cell_type": "code",
   "execution_count": 25,
   "metadata": {},
   "outputs": [
    {
     "data": {
      "text/plain": [
       "array([[2.07300456]])"
      ]
     },
     "execution_count": 25,
     "metadata": {},
     "output_type": "execute_result"
    }
   ],
   "source": [
    "wf"
   ]
  },
  {
   "cell_type": "code",
   "execution_count": 26,
   "metadata": {},
   "outputs": [
    {
     "data": {
      "text/plain": [
       "-2.994319423169568"
      ]
     },
     "execution_count": 26,
     "metadata": {},
     "output_type": "execute_result"
    }
   ],
   "source": [
    "bf"
   ]
  },
  {
   "cell_type": "code",
   "execution_count": 27,
   "metadata": {},
   "outputs": [
    {
     "data": {
      "text/plain": [
       "2"
      ]
     },
     "execution_count": 27,
     "metadata": {},
     "output_type": "execute_result"
    }
   ],
   "source": [
    "w_actual"
   ]
  },
  {
   "cell_type": "code",
   "execution_count": 28,
   "metadata": {},
   "outputs": [
    {
     "data": {
      "text/plain": [
       "-3"
      ]
     },
     "execution_count": 28,
     "metadata": {},
     "output_type": "execute_result"
    }
   ],
   "source": [
    "b_actual"
   ]
  },
  {
   "cell_type": "code",
   "execution_count": 29,
   "metadata": {},
   "outputs": [
    {
     "data": {
      "image/png": "[encoded data removed]",
      "text/plain": [
       "<Figure size 576x288 with 1 Axes>"
      ]
     },
     "metadata": {
      "needs_background": "light"
     },
     "output_type": "display_data"
    }
   ],
   "source": [
    "plt.figure(figsize=(8,4))\n",
    "plt.plot(costs,c=\"red\")\n",
    "plt.xlabel(\"Iterations\")\n",
    "plt.ylabel(\"Error/Cost/Loss Function\")\n",
    "plt.title(\"Optimization Progress: Linear Regression\")\n",
    "\n",
    "plt.grid()"
   ]
  },
  {
   "cell_type": "code",
   "execution_count": 30,
   "metadata": {},
   "outputs": [],
   "source": [
    "Actual = [\"w = 2\",\"b = -3\"]\n",
    "\n",
    "ModelResults = [f\"w = {wf[0][0]}\", f\"b = {bf}\"]"
   ]
  },
  {
   "cell_type": "code",
   "execution_count": 31,
   "metadata": {},
   "outputs": [],
   "source": [
    "results = pd.DataFrame({'Actual Parameters':Actual , 'Model-Parameters':ModelResults})"
   ]
  },
  {
   "cell_type": "code",
   "execution_count": 32,
   "metadata": {},
   "outputs": [
    {
     "data": {
      "text/html": [
       "<div>\n",
       "<style scoped>\n",
       "    .dataframe tbody tr th:only-of-type {\n",
       "        vertical-align: middle;\n",
       "    }\n",
       "\n",
       "    .dataframe tbody tr th {\n",
       "        vertical-align: top;\n",
       "    }\n",
       "\n",
       "    .dataframe thead th {\n",
       "        text-align: right;\n",
       "    }\n",
       "</style>\n",
       "<table border=\"1\" class=\"dataframe\">\n",
       "  <thead>\n",
       "    <tr style=\"text-align: right;\">\n",
       "      <th></th>\n",
       "      <th>Actual Parameters</th>\n",
       "      <th>Model-Parameters</th>\n",
       "    </tr>\n",
       "  </thead>\n",
       "  <tbody>\n",
       "    <tr>\n",
       "      <th>0</th>\n",
       "      <td>w = 2</td>\n",
       "      <td>w = 2.073004557902766</td>\n",
       "    </tr>\n",
       "    <tr>\n",
       "      <th>1</th>\n",
       "      <td>b = -3</td>\n",
       "      <td>b = -2.994319423169568</td>\n",
       "    </tr>\n",
       "  </tbody>\n",
       "</table>\n",
       "</div>"
      ],
      "text/plain": [
       "  Actual Parameters        Model-Parameters\n",
       "0             w = 2   w = 2.073004557902766\n",
       "1            b = -3  b = -2.994319423169568"
      ]
     },
     "execution_count": 32,
     "metadata": {},
     "output_type": "execute_result"
    }
   ],
   "source": [
    "results"
   ]
  },
  {
   "cell_type": "code",
   "execution_count": 36,
   "metadata": {},
   "outputs": [
    {
     "data": {
      "image/png": "[encoded data removed]",
      "text/plain": [
       "<Figure size 432x288 with 1 Axes>"
      ]
     },
     "metadata": {
      "needs_background": "light"
     },
     "output_type": "display_data"
    }
   ],
   "source": [
    "plt.scatter(X_train,y_train)\n",
    "plt.plot(X_train,wf[0][0]*X_train+bf,c=\"red\",lw=4)\n",
    "plt.grid()"
   ]
  },
  {
   "cell_type": "code",
   "execution_count": 37,
   "metadata": {},
   "outputs": [
    {
     "name": "stdout",
     "output_type": "stream",
     "text": [
      "Enter value for which you want predictions: 5\n",
      "y_predicted is: 7.370703366344262. Y_actual is: 7\n"
     ]
    }
   ],
   "source": [
    "## Making predictions\n",
    "\n",
    "xpre = int(input(\"Enter value for which you want predictions: \"))\n",
    "ypre = wf[0][0]*xpre + bf\n",
    "\n",
    "yact = 2*xpre -3\n",
    "\n",
    "print(\"y_predicted is: \"+ str(ypre) + '. Y_actual is: '+ str(yact))"
   ]
  },
  {
   "cell_type": "markdown",
   "metadata": {},
   "source": [
    "## By using sckit learn"
   ]
  },
  {
   "cell_type": "code",
   "execution_count": 43,
   "metadata": {},
   "outputs": [
    {
     "data": {
      "text/plain": [
       "(500,)"
      ]
     },
     "execution_count": 43,
     "metadata": {},
     "output_type": "execute_result"
    }
   ],
   "source": [
    "X_train.shape"
   ]
  },
  {
   "cell_type": "code",
   "execution_count": 44,
   "metadata": {},
   "outputs": [],
   "source": [
    "X_train_2d = X_train.reshape(-1,1)"
   ]
  },
  {
   "cell_type": "code",
   "execution_count": 45,
   "metadata": {},
   "outputs": [
    {
     "data": {
      "text/plain": [
       "(500, 1)"
      ]
     },
     "execution_count": 45,
     "metadata": {},
     "output_type": "execute_result"
    }
   ],
   "source": [
    "X_train_2d.shape"
   ]
  },
  {
   "cell_type": "code",
   "execution_count": 39,
   "metadata": {},
   "outputs": [
    {
     "data": {
      "text/plain": [
       "array([-4.87858294, -5.26102402, -4.94133046, -5.46976335, -4.68301645,\n",
       "       -4.93310246, -4.53033398, -4.84291984, -4.82681363, -4.95256245,\n",
       "       -5.0349173 , -4.7638128 , -4.78711031, -4.83506281, -5.32170484,\n",
       "       -5.088837  , -5.27480564, -4.55259183, -4.75073952, -5.13696354,\n",
       "       -4.92357949, -4.84897506, -4.74084455, -4.76318127, -4.85987494,\n",
       "       -4.98920838, -4.94223176, -4.79318555, -4.764095  , -4.9438008 ,\n",
       "       -4.79554113, -4.88409604, -4.65472468, -4.37527292, -4.57198168,\n",
       "       -4.55839903, -4.74519608, -4.64958437, -4.37732215, -5.0497101 ,\n",
       "       -4.53744142, -4.49705191, -4.79261047, -4.51605103, -4.7317836 ,\n",
       "       -4.6080988 , -4.61480679, -4.58629428, -4.5303808 , -4.48855127,\n",
       "       -4.44473766, -4.80276052, -4.50169427, -4.39492805, -4.47819965,\n",
       "       -4.69033718, -4.67815821, -4.57083677, -4.58539246, -4.81513055,\n",
       "       -4.51942634, -4.63491212, -4.41878993, -4.68486975, -4.18766823,\n",
       "       -4.53115306, -4.72622689, -4.29327677, -4.36012084, -4.23211799,\n",
       "       -4.42444154, -4.43122729, -4.65400882, -4.1686826 , -4.60610343,\n",
       "       -4.60216066, -3.9588459 , -4.52745671, -4.26916931, -4.31310214,\n",
       "       -4.55378673, -4.34156755, -4.64054976, -4.52665569, -4.0980056 ,\n",
       "       -4.36720604, -4.30043707, -4.44872516, -4.1886668 , -4.31858316,\n",
       "       -4.33709319, -4.04602348, -4.19628275, -4.20803935, -4.51925289,\n",
       "       -4.17932624, -4.32545099, -4.35477896, -3.95776881, -4.05621201,\n",
       "       -4.33483079, -4.41113857, -4.32186749, -3.96372693, -4.14442746,\n",
       "       -3.96898988, -4.19659336, -4.05780017, -4.0685037 , -4.10188528,\n",
       "       -4.18493749, -4.18766522, -4.29096879, -4.25543621, -3.97387   ,\n",
       "       -4.1585619 , -4.2568122 , -3.94532548, -4.19603864, -4.4348191 ,\n",
       "       -3.84062734, -3.88974556, -4.19161708, -4.02030763, -3.95905265,\n",
       "       -3.69201364, -3.2808956 , -4.16451838, -4.33241401, -3.76099015,\n",
       "       -4.00127661, -3.83731707, -4.42614675, -4.07706312, -3.85690074,\n",
       "       -3.84090133, -3.89244219, -3.65932259, -3.73277105, -4.14415034,\n",
       "       -3.81693539, -3.85704336, -3.6503997 , -3.5950102 , -3.99158192,\n",
       "       -3.74389892, -3.34208511, -3.3589544 , -3.82400902, -3.83968429,\n",
       "       -3.71027586, -3.49682717, -3.82576331, -3.55888898, -3.49002207,\n",
       "       -3.25637569, -3.60773925, -3.56188967, -3.61569456, -3.89438363,\n",
       "       -4.0163363 , -3.78870583, -4.08124053, -3.87533575, -3.7199912 ,\n",
       "       -3.93568306, -3.5551389 , -3.70137097, -3.58443361, -3.6543238 ,\n",
       "       -3.64889458, -3.45861386, -3.47168968, -3.92813249, -3.30122414,\n",
       "       -3.71719322, -3.60932013, -3.74931558, -3.28848608, -3.42570013,\n",
       "       -3.52273251, -3.57881453, -3.51253025, -3.60678518, -3.2293653 ,\n",
       "       -3.73462467, -3.66238478, -3.06819687, -3.22469152, -3.61521705,\n",
       "       -3.43016439, -3.47289994, -2.94310058, -3.21171007, -3.71593187,\n",
       "       -4.06584592, -3.46687501, -3.43757065, -3.58605894, -3.36490223,\n",
       "       -3.46013552, -3.42951802, -3.30427599, -3.49321152, -3.33465709,\n",
       "       -3.24973581, -3.33662865, -3.05132197, -3.01290784, -3.38060996,\n",
       "       -3.18085336, -3.44163423, -3.51882216, -3.45972256, -3.56131877,\n",
       "       -3.02017472, -3.2377835 , -3.43673576, -3.6996295 , -3.50368731,\n",
       "       -3.36700912, -2.96832626, -3.16898079, -3.41344729, -3.08918004,\n",
       "       -3.38187035, -3.34451693, -3.24903681, -3.14903265, -3.16655005,\n",
       "       -3.33535815, -3.39458275, -3.32252847, -2.87426283, -3.31311704,\n",
       "       -2.71348629, -3.17460233, -3.12974488, -3.46971833, -2.85017257,\n",
       "       -3.04783135, -3.18893071, -2.74146905, -2.96420381, -2.99176445,\n",
       "       -2.86454407, -2.93009149, -2.88506841, -2.80530912, -2.9460733 ,\n",
       "       -2.78140852, -2.98679148, -2.75565908, -3.2268171 , -3.14663849,\n",
       "       -2.77602632, -3.06582659, -3.07538327, -2.89475002, -2.74413451,\n",
       "       -2.94340736, -2.8814764 , -2.84596613, -3.20176842, -2.88257439,\n",
       "       -3.11729159, -3.11136985, -3.09156233, -2.60956051, -2.50980321,\n",
       "       -3.17105135, -2.96644087, -2.63002858, -2.58808064, -2.83054326,\n",
       "       -2.92390052, -2.51183261, -3.12129611, -2.90101028, -2.83164161,\n",
       "       -2.65541928, -3.05644733, -2.76818345, -2.84206877, -3.09979206,\n",
       "       -2.20883772, -2.7505108 , -2.37903706, -2.43341625, -2.85819138,\n",
       "       -2.36278289, -2.70892463, -2.15394203, -3.00615883, -2.4254608 ,\n",
       "       -2.75060626, -2.19914281, -2.57814087, -2.4831467 , -2.53982194,\n",
       "       -2.43062986, -2.69210573, -2.27727662, -2.58034824, -2.58818176,\n",
       "       -2.59944438, -2.77768892, -2.40350161, -2.52277042, -2.6073387 ,\n",
       "       -2.38660056, -2.46508702, -2.27769257, -2.43671442, -2.74210714,\n",
       "       -2.25193523, -2.54001036, -2.58564381, -2.37659773, -2.49221294,\n",
       "       -2.45714976, -2.2440915 , -2.29968748, -2.18351614, -2.38634635,\n",
       "       -2.36231182, -2.5380514 , -2.43273034, -2.21472375, -2.09457254,\n",
       "       -2.25848099, -2.43578146, -2.39624941, -2.5937736 , -2.30166378,\n",
       "       -2.45788227, -2.3125593 , -2.09200931, -2.12808873, -2.41865108,\n",
       "       -2.06657989, -1.93318838, -2.08496842, -2.1709654 , -2.22387554,\n",
       "       -2.27155918, -2.05434124, -2.62262809, -2.17355303, -2.5927012 ,\n",
       "       -2.09168979, -1.89162724, -2.29977194, -2.37884615, -2.15791582,\n",
       "       -2.05975461, -2.32596917, -2.21615797, -2.27058785, -2.12432257,\n",
       "       -2.1480067 , -2.42271742, -1.89571673, -1.8643378 , -2.0442274 ,\n",
       "       -1.82618383, -2.04738223, -2.63194421, -1.70311526, -2.37150018,\n",
       "       -2.08881178, -1.84464489, -2.05078977, -2.23426335, -2.3766939 ,\n",
       "       -2.05542825, -2.08776022, -1.90741488, -2.3312255 , -2.20969851,\n",
       "       -2.21948347, -2.33740038, -2.26317931, -1.84137585, -2.02218427,\n",
       "       -1.8113401 , -1.70919986, -2.07771058, -1.83620178, -2.13835774,\n",
       "       -2.23006523, -1.81157078, -1.79367671, -1.78298985, -1.93147025,\n",
       "       -1.75501497, -1.89689032, -1.63446114, -1.97662365, -1.88033621,\n",
       "       -1.98469258, -1.98628427, -1.98440291, -1.99995936, -1.62724928,\n",
       "       -1.65191018, -1.93462317, -1.50109784, -1.90992865, -1.64914037,\n",
       "       -1.79610055, -1.7122057 , -1.71773758, -1.36369581, -1.25315016,\n",
       "       -1.42669934, -1.53076557, -1.66534563, -1.68948118, -1.62277193,\n",
       "       -1.42589978, -1.60024954, -1.49623703, -1.71770877, -1.68470063,\n",
       "       -1.81881694, -1.74374951, -1.63244427, -1.62412149, -1.24956016,\n",
       "       -1.71692802, -1.48647564, -1.36221708, -1.44066613, -1.4164173 ,\n",
       "       -1.2542214 , -1.79133425, -1.30448348, -1.43786452, -1.17432671,\n",
       "       -1.66118151, -1.71069855, -1.19059172, -1.82564343, -1.33124546,\n",
       "       -1.38146415, -1.2783122 , -1.34865597, -1.45343865, -1.19743584,\n",
       "       -1.54192632, -1.22671656, -1.07872666, -1.35708471, -1.20978857,\n",
       "       -1.42009921, -1.32162702, -1.04745399, -1.43059624, -1.84466117,\n",
       "       -1.22260188, -1.35713251, -1.29819985, -1.25837304, -1.30176116,\n",
       "       -1.135316  , -1.20032534, -1.20094593, -1.35365779, -1.15631582,\n",
       "       -1.26191283, -0.61657223, -1.25041947, -1.49813444, -1.44305044,\n",
       "       -1.19015644, -1.02867413, -1.16458309, -1.37492937, -1.47221809,\n",
       "       -1.27105199, -1.487039  , -1.05883249, -0.69579507, -1.24583349,\n",
       "       -0.97541338, -1.04355715, -1.20043626, -0.81285166, -0.74857785,\n",
       "       -0.89465613, -0.76786794, -0.97619769, -1.08779917, -1.05292441,\n",
       "       -0.83318624, -0.97669476, -0.92894019, -1.10384351, -1.02781737])"
      ]
     },
     "execution_count": 39,
     "metadata": {},
     "output_type": "execute_result"
    }
   ],
   "source": [
    "y_train"
   ]
  },
  {
   "cell_type": "code",
   "execution_count": 40,
   "metadata": {},
   "outputs": [],
   "source": [
    "from sklearn.linear_model import LinearRegression"
   ]
  },
  {
   "cell_type": "code",
   "execution_count": 46,
   "metadata": {},
   "outputs": [
    {
     "data": {
      "text/plain": [
       "LinearRegression(copy_X=True, fit_intercept=True, n_jobs=None, normalize=False)"
      ]
     },
     "execution_count": 46,
     "metadata": {},
     "output_type": "execute_result"
    }
   ],
   "source": [
    "model = LinearRegression()\n",
    "\n",
    "model.fit(X_train_2d,y_train, )"
   ]
  },
  {
   "cell_type": "code",
   "execution_count": 50,
   "metadata": {},
   "outputs": [
    {
     "data": {
      "text/plain": [
       "Text(0.5, 1.0, 'Training Performance')"
      ]
     },
     "execution_count": 50,
     "metadata": {},
     "output_type": "execute_result"
    },
    {
     "data": {
      "image/png": "[encoded data removed]",
      "text/plain": [
       "<Figure size 640x480 with 1 Axes>"
      ]
     },
     "metadata": {},
     "output_type": "display_data"
    }
   ],
   "source": [
    "plt.style.use('default')\n",
    "\n",
    "plt.scatter(X_train,y_train)\n",
    "plt.plot(X_train , model.predict(X_train_2d) , c='r', lw=4)\n",
    "plt.plot(X_train,wf[0][0]*X_train+bf,c=\"black\",lw=4)\n",
    "\n",
    "\n",
    "plt.title('Training Performance')"
   ]
  },
  {
   "cell_type": "code",
   "execution_count": null,
   "metadata": {},
   "outputs": [],
   "source": []
  }
 ],
 "metadata": {
  "kernelspec": {
   "display_name": "Python 3",
   "language": "python",
   "name": "python3"
  },
  "language_info": {
   "codemirror_mode": {
    "name": "ipython",
    "version": 3
   },
   "file_extension": ".py",
   "mimetype": "text/x-python",
   "name": "python",
   "nbconvert_exporter": "python",
   "pygments_lexer": "ipython3",
   "version": "3.7.4"
  }
 },
 "nbformat": 4,
 "nbformat_minor": 2
}
