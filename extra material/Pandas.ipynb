{
 "cells": [
  {
   "cell_type": "markdown",
   "id": "67bc7b66",
   "metadata": {},
   "source": [
    "# Pandas\n",
    "\n",
    "- extremly powerful version of MS Excel in python\n",
    "\n",
    "#### Raw data ----> Import to pandas ----> Analyze, Manipulate, Process and do the data science on raw data\n",
    "\n",
    "Content:\n",
    "\n",
    "1. Series \n",
    "2. DataFrames\n",
    "3. Data Manipulations\n",
    "4. Data Input Output"
   ]
  },
  {
   "cell_type": "code",
   "execution_count": 2,
   "id": "296a5373",
   "metadata": {},
   "outputs": [],
   "source": [
    "import numpy as np\n",
    "import pandas as pd"
   ]
  },
  {
   "cell_type": "code",
   "execution_count": 3,
   "id": "f27c7843",
   "metadata": {},
   "outputs": [],
   "source": [
    "## Series : similar to Numpy array, index by a label.\n",
    "\n",
    "### Human+Name: Jaiyesh = Myself\n",
    "### Arrays + Label = Series"
   ]
  },
  {
   "cell_type": "code",
   "execution_count": 11,
   "id": "935812ea",
   "metadata": {},
   "outputs": [],
   "source": [
    "porosities = np.array([0.31,0.27,0.25])"
   ]
  },
  {
   "cell_type": "code",
   "execution_count": 12,
   "id": "37e4c998",
   "metadata": {},
   "outputs": [
    {
     "data": {
      "text/plain": [
       "array([0.31, 0.27, 0.25])"
      ]
     },
     "execution_count": 12,
     "metadata": {},
     "output_type": "execute_result"
    }
   ],
   "source": [
    "porosities"
   ]
  },
  {
   "cell_type": "markdown",
   "id": "41ef4e06",
   "metadata": {},
   "source": [
    "##### pd.Series(data,index)"
   ]
  },
  {
   "cell_type": "code",
   "execution_count": 14,
   "id": "1fbbd56b",
   "metadata": {},
   "outputs": [],
   "source": [
    "poro_series = pd.Series(data = porosities, index = [\"a\",\"b\",'c'])"
   ]
  },
  {
   "cell_type": "code",
   "execution_count": 15,
   "id": "d07339b6",
   "metadata": {},
   "outputs": [
    {
     "data": {
      "text/plain": [
       "a    0.31\n",
       "b    0.27\n",
       "c    0.25\n",
       "dtype: float64"
      ]
     },
     "execution_count": 15,
     "metadata": {},
     "output_type": "execute_result"
    }
   ],
   "source": [
    "poro_series"
   ]
  },
  {
   "cell_type": "code",
   "execution_count": 16,
   "id": "c20676cb",
   "metadata": {},
   "outputs": [
    {
     "data": {
      "text/plain": [
       "pandas.core.series.Series"
      ]
     },
     "execution_count": 16,
     "metadata": {},
     "output_type": "execute_result"
    }
   ],
   "source": [
    "type(poro_series)"
   ]
  },
  {
   "cell_type": "code",
   "execution_count": 17,
   "id": "d5183201",
   "metadata": {},
   "outputs": [],
   "source": [
    "poro_series = pd.Series(data = porosities, index = [\"a\",\"b\",'c'],name=\"Core_Porosities\")"
   ]
  },
  {
   "cell_type": "code",
   "execution_count": 18,
   "id": "70aed453",
   "metadata": {},
   "outputs": [
    {
     "data": {
      "text/plain": [
       "a    0.31\n",
       "b    0.27\n",
       "c    0.25\n",
       "Name: Core_Porosities, dtype: float64"
      ]
     },
     "execution_count": 18,
     "metadata": {},
     "output_type": "execute_result"
    }
   ],
   "source": [
    "poro_series"
   ]
  },
  {
   "cell_type": "code",
   "execution_count": 19,
   "id": "a9c4a99e",
   "metadata": {},
   "outputs": [],
   "source": [
    "depth = [1000,1500,2500]"
   ]
  },
  {
   "cell_type": "code",
   "execution_count": 20,
   "id": "379ecd05",
   "metadata": {},
   "outputs": [],
   "source": [
    "depth_wise_poro_series = pd.Series(porosities,index = depth,name=\"PhivsDepth\")"
   ]
  },
  {
   "cell_type": "code",
   "execution_count": 21,
   "id": "df20e34f",
   "metadata": {},
   "outputs": [
    {
     "data": {
      "text/plain": [
       "1000    0.31\n",
       "1500    0.27\n",
       "2500    0.25\n",
       "Name: PhivsDepth, dtype: float64"
      ]
     },
     "execution_count": 21,
     "metadata": {},
     "output_type": "execute_result"
    }
   ],
   "source": [
    "depth_wise_poro_series"
   ]
  },
  {
   "cell_type": "code",
   "execution_count": 22,
   "id": "0f01591d",
   "metadata": {},
   "outputs": [
    {
     "data": {
      "text/plain": [
       "<AxesSubplot:>"
      ]
     },
     "execution_count": 22,
     "metadata": {},
     "output_type": "execute_result"
    },
    {
     "data": {
      "image/png": "[encoded data removed]",
      "text/plain": [
       "<Figure size 432x288 with 1 Axes>"
      ]
     },
     "metadata": {
      "needs_background": "light"
     },
     "output_type": "display_data"
    }
   ],
   "source": [
    "depth_wise_poro_series.plot()"
   ]
  },
  {
   "cell_type": "code",
   "execution_count": 23,
   "id": "6f6b3bee",
   "metadata": {},
   "outputs": [
    {
     "data": {
      "text/plain": [
       "<AxesSubplot:>"
      ]
     },
     "execution_count": 23,
     "metadata": {},
     "output_type": "execute_result"
    },
    {
     "data": {
      "image/png": "[encoded data removed]",
      "text/plain": [
       "<Figure size 432x288 with 1 Axes>"
      ]
     },
     "metadata": {
      "needs_background": "light"
     },
     "output_type": "display_data"
    }
   ],
   "source": [
    "poro_series.plot()"
   ]
  },
  {
   "cell_type": "code",
   "execution_count": 32,
   "id": "f73805a8",
   "metadata": {},
   "outputs": [],
   "source": [
    "# Creating a series from Dictionary\n",
    "\n",
    "my_field_perms = {\"rockA\":10,\"rockB\":20,\"rockC\":70}"
   ]
  },
  {
   "cell_type": "code",
   "execution_count": 33,
   "id": "ce0a01d0",
   "metadata": {},
   "outputs": [
    {
     "data": {
      "text/plain": [
       "{'rockA': 10, 'rockB': 20, 'rockC': 70}"
      ]
     },
     "execution_count": 33,
     "metadata": {},
     "output_type": "execute_result"
    }
   ],
   "source": [
    "my_field_perms"
   ]
  },
  {
   "cell_type": "code",
   "execution_count": 34,
   "id": "a2f26ede",
   "metadata": {},
   "outputs": [],
   "source": [
    "my_field_perms_Series = pd.Series(my_field_perms)"
   ]
  },
  {
   "cell_type": "code",
   "execution_count": 35,
   "id": "ff7d46ca",
   "metadata": {},
   "outputs": [
    {
     "data": {
      "text/plain": [
       "rockA    10\n",
       "rockB    20\n",
       "rockC    70\n",
       "dtype: int64"
      ]
     },
     "execution_count": 35,
     "metadata": {},
     "output_type": "execute_result"
    }
   ],
   "source": [
    "my_field_perms_Series"
   ]
  },
  {
   "cell_type": "code",
   "execution_count": 36,
   "id": "e3549bb0",
   "metadata": {},
   "outputs": [
    {
     "data": {
      "text/plain": [
       "<AxesSubplot:>"
      ]
     },
     "execution_count": 36,
     "metadata": {},
     "output_type": "execute_result"
    },
    {
     "data": {
      "image/png": "[encoded data removed]",
      "text/plain": [
       "<Figure size 432x288 with 1 Axes>"
      ]
     },
     "metadata": {
      "needs_background": "light"
     },
     "output_type": "display_data"
    }
   ],
   "source": [
    "my_field_perms_Series.plot()"
   ]
  },
  {
   "cell_type": "code",
   "execution_count": 37,
   "id": "a8df860c",
   "metadata": {},
   "outputs": [
    {
     "data": {
      "text/plain": [
       "<AxesSubplot:ylabel='None'>"
      ]
     },
     "execution_count": 37,
     "metadata": {},
     "output_type": "execute_result"
    },
    {
     "data": {
      "image/png": "[encoded data removed]",
      "text/plain": [
       "<Figure size 432x288 with 1 Axes>"
      ]
     },
     "metadata": {},
     "output_type": "display_data"
    }
   ],
   "source": [
    "my_field_perms_Series.plot(kind = \"pie\")"
   ]
  },
  {
   "cell_type": "markdown",
   "id": "c92791f4",
   "metadata": {},
   "source": [
    "## Pandas DataFrames\n",
    "\n",
    "dataframe: bunch of series objects put together to share the same index \n",
    "\n",
    "So basically,\n",
    "NumPy array is the most basic brick.\n",
    "\n",
    "NumPy arrays +labels/Index = Series\n",
    "\n",
    "Multiple Series Stacked Next to each other+Common Index = Pandas DF\n",
    "\n",
    "DF = looks like a table"
   ]
  },
  {
   "cell_type": "code",
   "execution_count": 41,
   "id": "023f9875",
   "metadata": {},
   "outputs": [],
   "source": [
    "common_depth_index = [1000,1500,2000]\n",
    "\n",
    "poro_series_1 = pd.Series(data=[0.35,0.31,0.27],index = common_depth_index,name=\"Ser1\")\n",
    "poro_series_2 = pd.Series(data=[0.32,0.30,0.23],index = common_depth_index,name =\"Ser2\")\n"
   ]
  },
  {
   "cell_type": "code",
   "execution_count": 42,
   "id": "122d835b",
   "metadata": {},
   "outputs": [
    {
     "data": {
      "text/plain": [
       "1000    0.35\n",
       "1500    0.31\n",
       "2000    0.27\n",
       "Name: Ser1, dtype: float64"
      ]
     },
     "execution_count": 42,
     "metadata": {},
     "output_type": "execute_result"
    }
   ],
   "source": [
    "poro_series_1"
   ]
  },
  {
   "cell_type": "code",
   "execution_count": 43,
   "id": "67f366d7",
   "metadata": {},
   "outputs": [
    {
     "data": {
      "text/plain": [
       "1000    0.32\n",
       "1500    0.30\n",
       "2000    0.23\n",
       "Name: Ser2, dtype: float64"
      ]
     },
     "execution_count": 43,
     "metadata": {},
     "output_type": "execute_result"
    }
   ],
   "source": [
    "poro_series_2"
   ]
  },
  {
   "cell_type": "code",
   "execution_count": 44,
   "id": "517d2904",
   "metadata": {},
   "outputs": [],
   "source": [
    "#Syntax = > pd.DataFrame(data)"
   ]
  },
  {
   "cell_type": "code",
   "execution_count": 46,
   "id": "f10705a8",
   "metadata": {},
   "outputs": [
    {
     "data": {
      "text/html": [
       "<div>\n",
       "<style scoped>\n",
       "    .dataframe tbody tr th:only-of-type {\n",
       "        vertical-align: middle;\n",
       "    }\n",
       "\n",
       "    .dataframe tbody tr th {\n",
       "        vertical-align: top;\n",
       "    }\n",
       "\n",
       "    .dataframe thead th {\n",
       "        text-align: right;\n",
       "    }\n",
       "</style>\n",
       "<table border=\"1\" class=\"dataframe\">\n",
       "  <thead>\n",
       "    <tr style=\"text-align: right;\">\n",
       "      <th></th>\n",
       "      <th>Ser1</th>\n",
       "      <th>Ser2</th>\n",
       "    </tr>\n",
       "  </thead>\n",
       "  <tbody>\n",
       "    <tr>\n",
       "      <th>1000</th>\n",
       "      <td>0.35</td>\n",
       "      <td>0.32</td>\n",
       "    </tr>\n",
       "    <tr>\n",
       "      <th>1500</th>\n",
       "      <td>0.31</td>\n",
       "      <td>0.30</td>\n",
       "    </tr>\n",
       "    <tr>\n",
       "      <th>2000</th>\n",
       "      <td>0.27</td>\n",
       "      <td>0.23</td>\n",
       "    </tr>\n",
       "  </tbody>\n",
       "</table>\n",
       "</div>"
      ],
      "text/plain": [
       "      Ser1  Ser2\n",
       "1000  0.35  0.32\n",
       "1500  0.31  0.30\n",
       "2000  0.27  0.23"
      ]
     },
     "execution_count": 46,
     "metadata": {},
     "output_type": "execute_result"
    }
   ],
   "source": [
    "pd.DataFrame([poro_series_1,poro_series_2]).T"
   ]
  },
  {
   "cell_type": "code",
   "execution_count": 47,
   "id": "d9addcbd",
   "metadata": {},
   "outputs": [],
   "source": [
    "## Using a 2d np array +row+column to make a DF"
   ]
  },
  {
   "cell_type": "code",
   "execution_count": 48,
   "id": "73d46085",
   "metadata": {},
   "outputs": [],
   "source": [
    "my_perms = np.random.randint(10,50,(3,3))"
   ]
  },
  {
   "cell_type": "code",
   "execution_count": 49,
   "id": "ae228506",
   "metadata": {},
   "outputs": [
    {
     "data": {
      "text/plain": [
       "array([[32, 25, 10],\n",
       "       [39, 22, 22],\n",
       "       [48, 27, 30]])"
      ]
     },
     "execution_count": 49,
     "metadata": {},
     "output_type": "execute_result"
    }
   ],
   "source": [
    "my_perms"
   ]
  },
  {
   "cell_type": "code",
   "execution_count": 50,
   "id": "38463b55",
   "metadata": {},
   "outputs": [
    {
     "data": {
      "text/html": [
       "<div>\n",
       "<style scoped>\n",
       "    .dataframe tbody tr th:only-of-type {\n",
       "        vertical-align: middle;\n",
       "    }\n",
       "\n",
       "    .dataframe tbody tr th {\n",
       "        vertical-align: top;\n",
       "    }\n",
       "\n",
       "    .dataframe thead th {\n",
       "        text-align: right;\n",
       "    }\n",
       "</style>\n",
       "<table border=\"1\" class=\"dataframe\">\n",
       "  <thead>\n",
       "    <tr style=\"text-align: right;\">\n",
       "      <th></th>\n",
       "      <th>0</th>\n",
       "      <th>1</th>\n",
       "      <th>2</th>\n",
       "    </tr>\n",
       "  </thead>\n",
       "  <tbody>\n",
       "    <tr>\n",
       "      <th>0</th>\n",
       "      <td>32</td>\n",
       "      <td>25</td>\n",
       "      <td>10</td>\n",
       "    </tr>\n",
       "    <tr>\n",
       "      <th>1</th>\n",
       "      <td>39</td>\n",
       "      <td>22</td>\n",
       "      <td>22</td>\n",
       "    </tr>\n",
       "    <tr>\n",
       "      <th>2</th>\n",
       "      <td>48</td>\n",
       "      <td>27</td>\n",
       "      <td>30</td>\n",
       "    </tr>\n",
       "  </tbody>\n",
       "</table>\n",
       "</div>"
      ],
      "text/plain": [
       "    0   1   2\n",
       "0  32  25  10\n",
       "1  39  22  22\n",
       "2  48  27  30"
      ]
     },
     "execution_count": 50,
     "metadata": {},
     "output_type": "execute_result"
    }
   ],
   "source": [
    "pd.DataFrame(my_perms)"
   ]
  },
  {
   "cell_type": "code",
   "execution_count": 51,
   "id": "01924e37",
   "metadata": {},
   "outputs": [
    {
     "data": {
      "text/html": [
       "<div>\n",
       "<style scoped>\n",
       "    .dataframe tbody tr th:only-of-type {\n",
       "        vertical-align: middle;\n",
       "    }\n",
       "\n",
       "    .dataframe tbody tr th {\n",
       "        vertical-align: top;\n",
       "    }\n",
       "\n",
       "    .dataframe thead th {\n",
       "        text-align: right;\n",
       "    }\n",
       "</style>\n",
       "<table border=\"1\" class=\"dataframe\">\n",
       "  <thead>\n",
       "    <tr style=\"text-align: right;\">\n",
       "      <th></th>\n",
       "      <th>C1</th>\n",
       "      <th>C2</th>\n",
       "      <th>C3</th>\n",
       "    </tr>\n",
       "  </thead>\n",
       "  <tbody>\n",
       "    <tr>\n",
       "      <th>0</th>\n",
       "      <td>32</td>\n",
       "      <td>25</td>\n",
       "      <td>10</td>\n",
       "    </tr>\n",
       "    <tr>\n",
       "      <th>1</th>\n",
       "      <td>39</td>\n",
       "      <td>22</td>\n",
       "      <td>22</td>\n",
       "    </tr>\n",
       "    <tr>\n",
       "      <th>2</th>\n",
       "      <td>48</td>\n",
       "      <td>27</td>\n",
       "      <td>30</td>\n",
       "    </tr>\n",
       "  </tbody>\n",
       "</table>\n",
       "</div>"
      ],
      "text/plain": [
       "   C1  C2  C3\n",
       "0  32  25  10\n",
       "1  39  22  22\n",
       "2  48  27  30"
      ]
     },
     "execution_count": 51,
     "metadata": {},
     "output_type": "execute_result"
    }
   ],
   "source": [
    "pd.DataFrame(my_perms,columns =[\"C1\",\"C2\",\"C3\"])"
   ]
  },
  {
   "cell_type": "code",
   "execution_count": 53,
   "id": "358689b9",
   "metadata": {},
   "outputs": [
    {
     "data": {
      "text/html": [
       "<div>\n",
       "<style scoped>\n",
       "    .dataframe tbody tr th:only-of-type {\n",
       "        vertical-align: middle;\n",
       "    }\n",
       "\n",
       "    .dataframe tbody tr th {\n",
       "        vertical-align: top;\n",
       "    }\n",
       "\n",
       "    .dataframe thead th {\n",
       "        text-align: right;\n",
       "    }\n",
       "</style>\n",
       "<table border=\"1\" class=\"dataframe\">\n",
       "  <thead>\n",
       "    <tr style=\"text-align: right;\">\n",
       "      <th></th>\n",
       "      <th>C1</th>\n",
       "      <th>C2</th>\n",
       "      <th>C3</th>\n",
       "    </tr>\n",
       "  </thead>\n",
       "  <tbody>\n",
       "    <tr>\n",
       "      <th>1000</th>\n",
       "      <td>32</td>\n",
       "      <td>25</td>\n",
       "      <td>10</td>\n",
       "    </tr>\n",
       "    <tr>\n",
       "      <th>1500</th>\n",
       "      <td>39</td>\n",
       "      <td>22</td>\n",
       "      <td>22</td>\n",
       "    </tr>\n",
       "    <tr>\n",
       "      <th>2000</th>\n",
       "      <td>48</td>\n",
       "      <td>27</td>\n",
       "      <td>30</td>\n",
       "    </tr>\n",
       "  </tbody>\n",
       "</table>\n",
       "</div>"
      ],
      "text/plain": [
       "      C1  C2  C3\n",
       "1000  32  25  10\n",
       "1500  39  22  22\n",
       "2000  48  27  30"
      ]
     },
     "execution_count": 53,
     "metadata": {},
     "output_type": "execute_result"
    }
   ],
   "source": [
    "pd.DataFrame(my_perms,columns =[\"C1\",\"C2\",\"C3\"],index = common_depth_index)"
   ]
  },
  {
   "cell_type": "code",
   "execution_count": 54,
   "id": "c3bf5d0d",
   "metadata": {},
   "outputs": [],
   "source": [
    "## Create a DF using dictionary\n",
    "\n",
    "my_field_data = {\"depth\":[1000,1500,2000],\"poro(%)\":[35,30,25],\"Perm(mD)\":[500,450,150]}"
   ]
  },
  {
   "cell_type": "code",
   "execution_count": 55,
   "id": "d5bd570b",
   "metadata": {},
   "outputs": [
    {
     "data": {
      "text/plain": [
       "{'depth': [1000, 1500, 2000],\n",
       " 'poro(%)': [35, 30, 25],\n",
       " 'Perm(mD)': [500, 450, 150]}"
      ]
     },
     "execution_count": 55,
     "metadata": {},
     "output_type": "execute_result"
    }
   ],
   "source": [
    "my_field_data"
   ]
  },
  {
   "cell_type": "code",
   "execution_count": 56,
   "id": "3f1d328f",
   "metadata": {},
   "outputs": [
    {
     "data": {
      "text/html": [
       "<div>\n",
       "<style scoped>\n",
       "    .dataframe tbody tr th:only-of-type {\n",
       "        vertical-align: middle;\n",
       "    }\n",
       "\n",
       "    .dataframe tbody tr th {\n",
       "        vertical-align: top;\n",
       "    }\n",
       "\n",
       "    .dataframe thead th {\n",
       "        text-align: right;\n",
       "    }\n",
       "</style>\n",
       "<table border=\"1\" class=\"dataframe\">\n",
       "  <thead>\n",
       "    <tr style=\"text-align: right;\">\n",
       "      <th></th>\n",
       "      <th>depth</th>\n",
       "      <th>poro(%)</th>\n",
       "      <th>Perm(mD)</th>\n",
       "    </tr>\n",
       "  </thead>\n",
       "  <tbody>\n",
       "    <tr>\n",
       "      <th>0</th>\n",
       "      <td>1000</td>\n",
       "      <td>35</td>\n",
       "      <td>500</td>\n",
       "    </tr>\n",
       "    <tr>\n",
       "      <th>1</th>\n",
       "      <td>1500</td>\n",
       "      <td>30</td>\n",
       "      <td>450</td>\n",
       "    </tr>\n",
       "    <tr>\n",
       "      <th>2</th>\n",
       "      <td>2000</td>\n",
       "      <td>25</td>\n",
       "      <td>150</td>\n",
       "    </tr>\n",
       "  </tbody>\n",
       "</table>\n",
       "</div>"
      ],
      "text/plain": [
       "   depth  poro(%)  Perm(mD)\n",
       "0   1000       35       500\n",
       "1   1500       30       450\n",
       "2   2000       25       150"
      ]
     },
     "execution_count": 56,
     "metadata": {},
     "output_type": "execute_result"
    }
   ],
   "source": [
    "pd.DataFrame(my_field_data)"
   ]
  },
  {
   "cell_type": "code",
   "execution_count": 58,
   "id": "00bd0fd3",
   "metadata": {},
   "outputs": [],
   "source": [
    "df = pd.DataFrame(my_field_data,index = my_field_data['depth'])"
   ]
  },
  {
   "cell_type": "code",
   "execution_count": 59,
   "id": "abe7d125",
   "metadata": {},
   "outputs": [
    {
     "data": {
      "text/html": [
       "<div>\n",
       "<style scoped>\n",
       "    .dataframe tbody tr th:only-of-type {\n",
       "        vertical-align: middle;\n",
       "    }\n",
       "\n",
       "    .dataframe tbody tr th {\n",
       "        vertical-align: top;\n",
       "    }\n",
       "\n",
       "    .dataframe thead th {\n",
       "        text-align: right;\n",
       "    }\n",
       "</style>\n",
       "<table border=\"1\" class=\"dataframe\">\n",
       "  <thead>\n",
       "    <tr style=\"text-align: right;\">\n",
       "      <th></th>\n",
       "      <th>depth</th>\n",
       "      <th>poro(%)</th>\n",
       "      <th>Perm(mD)</th>\n",
       "    </tr>\n",
       "  </thead>\n",
       "  <tbody>\n",
       "    <tr>\n",
       "      <th>1000</th>\n",
       "      <td>1000</td>\n",
       "      <td>35</td>\n",
       "      <td>500</td>\n",
       "    </tr>\n",
       "    <tr>\n",
       "      <th>1500</th>\n",
       "      <td>1500</td>\n",
       "      <td>30</td>\n",
       "      <td>450</td>\n",
       "    </tr>\n",
       "    <tr>\n",
       "      <th>2000</th>\n",
       "      <td>2000</td>\n",
       "      <td>25</td>\n",
       "      <td>150</td>\n",
       "    </tr>\n",
       "  </tbody>\n",
       "</table>\n",
       "</div>"
      ],
      "text/plain": [
       "      depth  poro(%)  Perm(mD)\n",
       "1000   1000       35       500\n",
       "1500   1500       30       450\n",
       "2000   2000       25       150"
      ]
     },
     "execution_count": 59,
     "metadata": {},
     "output_type": "execute_result"
    }
   ],
   "source": [
    "df"
   ]
  },
  {
   "cell_type": "code",
   "execution_count": 62,
   "id": "ab8a1804",
   "metadata": {},
   "outputs": [
    {
     "data": {
      "text/plain": [
       "array([<AxesSubplot:>, <AxesSubplot:>, <AxesSubplot:>], dtype=object)"
      ]
     },
     "execution_count": 62,
     "metadata": {},
     "output_type": "execute_result"
    },
    {
     "data": {
      "image/png": "[encoded data removed]",
      "text/plain": [
       "<Figure size 864x432 with 3 Axes>"
      ]
     },
     "metadata": {
      "needs_background": "light"
     },
     "output_type": "display_data"
    }
   ],
   "source": [
    "df.plot(subplots =True,figsize=(12,6))"
   ]
  },
  {
   "cell_type": "code",
   "execution_count": 63,
   "id": "787e31a5",
   "metadata": {},
   "outputs": [
    {
     "data": {
      "text/html": [
       "<div>\n",
       "<style scoped>\n",
       "    .dataframe tbody tr th:only-of-type {\n",
       "        vertical-align: middle;\n",
       "    }\n",
       "\n",
       "    .dataframe tbody tr th {\n",
       "        vertical-align: top;\n",
       "    }\n",
       "\n",
       "    .dataframe thead th {\n",
       "        text-align: right;\n",
       "    }\n",
       "</style>\n",
       "<table border=\"1\" class=\"dataframe\">\n",
       "  <thead>\n",
       "    <tr style=\"text-align: right;\">\n",
       "      <th></th>\n",
       "      <th>depth</th>\n",
       "      <th>poro(%)</th>\n",
       "      <th>Perm(mD)</th>\n",
       "    </tr>\n",
       "  </thead>\n",
       "  <tbody>\n",
       "    <tr>\n",
       "      <th>1000</th>\n",
       "      <td>1000</td>\n",
       "      <td>35</td>\n",
       "      <td>500</td>\n",
       "    </tr>\n",
       "    <tr>\n",
       "      <th>1500</th>\n",
       "      <td>1500</td>\n",
       "      <td>30</td>\n",
       "      <td>450</td>\n",
       "    </tr>\n",
       "    <tr>\n",
       "      <th>2000</th>\n",
       "      <td>2000</td>\n",
       "      <td>25</td>\n",
       "      <td>150</td>\n",
       "    </tr>\n",
       "  </tbody>\n",
       "</table>\n",
       "</div>"
      ],
      "text/plain": [
       "      depth  poro(%)  Perm(mD)\n",
       "1000   1000       35       500\n",
       "1500   1500       30       450\n",
       "2000   2000       25       150"
      ]
     },
     "execution_count": 63,
     "metadata": {},
     "output_type": "execute_result"
    }
   ],
   "source": [
    "df"
   ]
  },
  {
   "cell_type": "code",
   "execution_count": 70,
   "id": "5188afba",
   "metadata": {},
   "outputs": [],
   "source": [
    "### dropping a column"
   ]
  },
  {
   "cell_type": "code",
   "execution_count": 66,
   "id": "100d3cb8",
   "metadata": {},
   "outputs": [
    {
     "data": {
      "text/html": [
       "<div>\n",
       "<style scoped>\n",
       "    .dataframe tbody tr th:only-of-type {\n",
       "        vertical-align: middle;\n",
       "    }\n",
       "\n",
       "    .dataframe tbody tr th {\n",
       "        vertical-align: top;\n",
       "    }\n",
       "\n",
       "    .dataframe thead th {\n",
       "        text-align: right;\n",
       "    }\n",
       "</style>\n",
       "<table border=\"1\" class=\"dataframe\">\n",
       "  <thead>\n",
       "    <tr style=\"text-align: right;\">\n",
       "      <th></th>\n",
       "      <th>poro(%)</th>\n",
       "      <th>Perm(mD)</th>\n",
       "    </tr>\n",
       "  </thead>\n",
       "  <tbody>\n",
       "    <tr>\n",
       "      <th>1000</th>\n",
       "      <td>35</td>\n",
       "      <td>500</td>\n",
       "    </tr>\n",
       "    <tr>\n",
       "      <th>1500</th>\n",
       "      <td>30</td>\n",
       "      <td>450</td>\n",
       "    </tr>\n",
       "    <tr>\n",
       "      <th>2000</th>\n",
       "      <td>25</td>\n",
       "      <td>150</td>\n",
       "    </tr>\n",
       "  </tbody>\n",
       "</table>\n",
       "</div>"
      ],
      "text/plain": [
       "      poro(%)  Perm(mD)\n",
       "1000       35       500\n",
       "1500       30       450\n",
       "2000       25       150"
      ]
     },
     "execution_count": 66,
     "metadata": {},
     "output_type": "execute_result"
    }
   ],
   "source": [
    "df.drop(\"depth\",axis = 1)"
   ]
  },
  {
   "cell_type": "code",
   "execution_count": 67,
   "id": "2718db07",
   "metadata": {},
   "outputs": [
    {
     "data": {
      "text/html": [
       "<div>\n",
       "<style scoped>\n",
       "    .dataframe tbody tr th:only-of-type {\n",
       "        vertical-align: middle;\n",
       "    }\n",
       "\n",
       "    .dataframe tbody tr th {\n",
       "        vertical-align: top;\n",
       "    }\n",
       "\n",
       "    .dataframe thead th {\n",
       "        text-align: right;\n",
       "    }\n",
       "</style>\n",
       "<table border=\"1\" class=\"dataframe\">\n",
       "  <thead>\n",
       "    <tr style=\"text-align: right;\">\n",
       "      <th></th>\n",
       "      <th>depth</th>\n",
       "      <th>poro(%)</th>\n",
       "      <th>Perm(mD)</th>\n",
       "    </tr>\n",
       "  </thead>\n",
       "  <tbody>\n",
       "    <tr>\n",
       "      <th>1000</th>\n",
       "      <td>1000</td>\n",
       "      <td>35</td>\n",
       "      <td>500</td>\n",
       "    </tr>\n",
       "    <tr>\n",
       "      <th>1500</th>\n",
       "      <td>1500</td>\n",
       "      <td>30</td>\n",
       "      <td>450</td>\n",
       "    </tr>\n",
       "    <tr>\n",
       "      <th>2000</th>\n",
       "      <td>2000</td>\n",
       "      <td>25</td>\n",
       "      <td>150</td>\n",
       "    </tr>\n",
       "  </tbody>\n",
       "</table>\n",
       "</div>"
      ],
      "text/plain": [
       "      depth  poro(%)  Perm(mD)\n",
       "1000   1000       35       500\n",
       "1500   1500       30       450\n",
       "2000   2000       25       150"
      ]
     },
     "execution_count": 67,
     "metadata": {},
     "output_type": "execute_result"
    }
   ],
   "source": [
    "df"
   ]
  },
  {
   "cell_type": "code",
   "execution_count": 68,
   "id": "936e6905",
   "metadata": {},
   "outputs": [],
   "source": [
    "df = df.drop(\"depth\",axis = 1)"
   ]
  },
  {
   "cell_type": "code",
   "execution_count": 69,
   "id": "9d1ea205",
   "metadata": {},
   "outputs": [
    {
     "data": {
      "text/html": [
       "<div>\n",
       "<style scoped>\n",
       "    .dataframe tbody tr th:only-of-type {\n",
       "        vertical-align: middle;\n",
       "    }\n",
       "\n",
       "    .dataframe tbody tr th {\n",
       "        vertical-align: top;\n",
       "    }\n",
       "\n",
       "    .dataframe thead th {\n",
       "        text-align: right;\n",
       "    }\n",
       "</style>\n",
       "<table border=\"1\" class=\"dataframe\">\n",
       "  <thead>\n",
       "    <tr style=\"text-align: right;\">\n",
       "      <th></th>\n",
       "      <th>poro(%)</th>\n",
       "      <th>Perm(mD)</th>\n",
       "    </tr>\n",
       "  </thead>\n",
       "  <tbody>\n",
       "    <tr>\n",
       "      <th>1000</th>\n",
       "      <td>35</td>\n",
       "      <td>500</td>\n",
       "    </tr>\n",
       "    <tr>\n",
       "      <th>1500</th>\n",
       "      <td>30</td>\n",
       "      <td>450</td>\n",
       "    </tr>\n",
       "    <tr>\n",
       "      <th>2000</th>\n",
       "      <td>25</td>\n",
       "      <td>150</td>\n",
       "    </tr>\n",
       "  </tbody>\n",
       "</table>\n",
       "</div>"
      ],
      "text/plain": [
       "      poro(%)  Perm(mD)\n",
       "1000       35       500\n",
       "1500       30       450\n",
       "2000       25       150"
      ]
     },
     "execution_count": 69,
     "metadata": {},
     "output_type": "execute_result"
    }
   ],
   "source": [
    "df"
   ]
  },
  {
   "cell_type": "code",
   "execution_count": 72,
   "id": "c2683b85",
   "metadata": {},
   "outputs": [
    {
     "data": {
      "text/html": [
       "<div>\n",
       "<style scoped>\n",
       "    .dataframe tbody tr th:only-of-type {\n",
       "        vertical-align: middle;\n",
       "    }\n",
       "\n",
       "    .dataframe tbody tr th {\n",
       "        vertical-align: top;\n",
       "    }\n",
       "\n",
       "    .dataframe thead th {\n",
       "        text-align: right;\n",
       "    }\n",
       "</style>\n",
       "<table border=\"1\" class=\"dataframe\">\n",
       "  <thead>\n",
       "    <tr style=\"text-align: right;\">\n",
       "      <th></th>\n",
       "      <th>poro(%)</th>\n",
       "      <th>Perm(mD)</th>\n",
       "    </tr>\n",
       "  </thead>\n",
       "  <tbody>\n",
       "    <tr>\n",
       "      <th>1000</th>\n",
       "      <td>35</td>\n",
       "      <td>500</td>\n",
       "    </tr>\n",
       "    <tr>\n",
       "      <th>2000</th>\n",
       "      <td>25</td>\n",
       "      <td>150</td>\n",
       "    </tr>\n",
       "  </tbody>\n",
       "</table>\n",
       "</div>"
      ],
      "text/plain": [
       "      poro(%)  Perm(mD)\n",
       "1000       35       500\n",
       "2000       25       150"
      ]
     },
     "execution_count": 72,
     "metadata": {},
     "output_type": "execute_result"
    }
   ],
   "source": [
    "#dropping row\n",
    "df.drop(1500,axis = 0)"
   ]
  },
  {
   "cell_type": "code",
   "execution_count": 73,
   "id": "68b8ab5d",
   "metadata": {},
   "outputs": [
    {
     "data": {
      "text/html": [
       "<div>\n",
       "<style scoped>\n",
       "    .dataframe tbody tr th:only-of-type {\n",
       "        vertical-align: middle;\n",
       "    }\n",
       "\n",
       "    .dataframe tbody tr th {\n",
       "        vertical-align: top;\n",
       "    }\n",
       "\n",
       "    .dataframe thead th {\n",
       "        text-align: right;\n",
       "    }\n",
       "</style>\n",
       "<table border=\"1\" class=\"dataframe\">\n",
       "  <thead>\n",
       "    <tr style=\"text-align: right;\">\n",
       "      <th></th>\n",
       "      <th>poro(%)</th>\n",
       "      <th>Perm(mD)</th>\n",
       "    </tr>\n",
       "  </thead>\n",
       "  <tbody>\n",
       "    <tr>\n",
       "      <th>1000</th>\n",
       "      <td>35</td>\n",
       "      <td>500</td>\n",
       "    </tr>\n",
       "    <tr>\n",
       "      <th>1500</th>\n",
       "      <td>30</td>\n",
       "      <td>450</td>\n",
       "    </tr>\n",
       "    <tr>\n",
       "      <th>2000</th>\n",
       "      <td>25</td>\n",
       "      <td>150</td>\n",
       "    </tr>\n",
       "  </tbody>\n",
       "</table>\n",
       "</div>"
      ],
      "text/plain": [
       "      poro(%)  Perm(mD)\n",
       "1000       35       500\n",
       "1500       30       450\n",
       "2000       25       150"
      ]
     },
     "execution_count": 73,
     "metadata": {},
     "output_type": "execute_result"
    }
   ],
   "source": [
    "df"
   ]
  },
  {
   "cell_type": "code",
   "execution_count": 74,
   "id": "94008253",
   "metadata": {},
   "outputs": [],
   "source": [
    "## Accessing Columns and Rows"
   ]
  },
  {
   "cell_type": "code",
   "execution_count": 75,
   "id": "c6738a72",
   "metadata": {},
   "outputs": [
    {
     "data": {
      "text/html": [
       "<div>\n",
       "<style scoped>\n",
       "    .dataframe tbody tr th:only-of-type {\n",
       "        vertical-align: middle;\n",
       "    }\n",
       "\n",
       "    .dataframe tbody tr th {\n",
       "        vertical-align: top;\n",
       "    }\n",
       "\n",
       "    .dataframe thead th {\n",
       "        text-align: right;\n",
       "    }\n",
       "</style>\n",
       "<table border=\"1\" class=\"dataframe\">\n",
       "  <thead>\n",
       "    <tr style=\"text-align: right;\">\n",
       "      <th></th>\n",
       "      <th>poro(%)</th>\n",
       "      <th>Perm(mD)</th>\n",
       "    </tr>\n",
       "  </thead>\n",
       "  <tbody>\n",
       "    <tr>\n",
       "      <th>1000</th>\n",
       "      <td>35</td>\n",
       "      <td>500</td>\n",
       "    </tr>\n",
       "    <tr>\n",
       "      <th>1500</th>\n",
       "      <td>30</td>\n",
       "      <td>450</td>\n",
       "    </tr>\n",
       "    <tr>\n",
       "      <th>2000</th>\n",
       "      <td>25</td>\n",
       "      <td>150</td>\n",
       "    </tr>\n",
       "  </tbody>\n",
       "</table>\n",
       "</div>"
      ],
      "text/plain": [
       "      poro(%)  Perm(mD)\n",
       "1000       35       500\n",
       "1500       30       450\n",
       "2000       25       150"
      ]
     },
     "execution_count": 75,
     "metadata": {},
     "output_type": "execute_result"
    }
   ],
   "source": [
    "df"
   ]
  },
  {
   "cell_type": "code",
   "execution_count": 76,
   "id": "a870d424",
   "metadata": {},
   "outputs": [
    {
     "data": {
      "text/plain": [
       "1000    35\n",
       "1500    30\n",
       "2000    25\n",
       "Name: poro(%), dtype: int64"
      ]
     },
     "execution_count": 76,
     "metadata": {},
     "output_type": "execute_result"
    }
   ],
   "source": [
    "df[\"poro(%)\"]"
   ]
  },
  {
   "cell_type": "code",
   "execution_count": 77,
   "id": "dbd9d1f1",
   "metadata": {},
   "outputs": [
    {
     "data": {
      "text/plain": [
       "pandas.core.series.Series"
      ]
     },
     "execution_count": 77,
     "metadata": {},
     "output_type": "execute_result"
    }
   ],
   "source": [
    "type(df[\"poro(%)\"])"
   ]
  },
  {
   "cell_type": "code",
   "execution_count": 78,
   "id": "f781246d",
   "metadata": {},
   "outputs": [
    {
     "data": {
      "text/html": [
       "<div>\n",
       "<style scoped>\n",
       "    .dataframe tbody tr th:only-of-type {\n",
       "        vertical-align: middle;\n",
       "    }\n",
       "\n",
       "    .dataframe tbody tr th {\n",
       "        vertical-align: top;\n",
       "    }\n",
       "\n",
       "    .dataframe thead th {\n",
       "        text-align: right;\n",
       "    }\n",
       "</style>\n",
       "<table border=\"1\" class=\"dataframe\">\n",
       "  <thead>\n",
       "    <tr style=\"text-align: right;\">\n",
       "      <th></th>\n",
       "      <th>poro(%)</th>\n",
       "    </tr>\n",
       "  </thead>\n",
       "  <tbody>\n",
       "    <tr>\n",
       "      <th>1000</th>\n",
       "      <td>35</td>\n",
       "    </tr>\n",
       "    <tr>\n",
       "      <th>1500</th>\n",
       "      <td>30</td>\n",
       "    </tr>\n",
       "    <tr>\n",
       "      <th>2000</th>\n",
       "      <td>25</td>\n",
       "    </tr>\n",
       "  </tbody>\n",
       "</table>\n",
       "</div>"
      ],
      "text/plain": [
       "      poro(%)\n",
       "1000       35\n",
       "1500       30\n",
       "2000       25"
      ]
     },
     "execution_count": 78,
     "metadata": {},
     "output_type": "execute_result"
    }
   ],
   "source": [
    "df[[\"poro(%)\"]]"
   ]
  },
  {
   "cell_type": "code",
   "execution_count": 79,
   "id": "2e48c923",
   "metadata": {},
   "outputs": [
    {
     "data": {
      "text/plain": [
       "pandas.core.frame.DataFrame"
      ]
     },
     "execution_count": 79,
     "metadata": {},
     "output_type": "execute_result"
    }
   ],
   "source": [
    "type(df[[\"poro(%)\"]])"
   ]
  },
  {
   "cell_type": "code",
   "execution_count": 80,
   "id": "b4e81933",
   "metadata": {},
   "outputs": [
    {
     "data": {
      "text/plain": [
       "<AxesSubplot:>"
      ]
     },
     "execution_count": 80,
     "metadata": {},
     "output_type": "execute_result"
    },
    {
     "data": {
      "image/png": "[encoded data removed]",
      "text/plain": [
       "<Figure size 432x288 with 1 Axes>"
      ]
     },
     "metadata": {
      "needs_background": "light"
     },
     "output_type": "display_data"
    }
   ],
   "source": [
    "df[\"poro(%)\"].plot()"
   ]
  },
  {
   "cell_type": "code",
   "execution_count": 81,
   "id": "38e64764",
   "metadata": {},
   "outputs": [
    {
     "data": {
      "text/plain": [
       "Index(['poro(%)', 'Perm(mD)'], dtype='object')"
      ]
     },
     "execution_count": 81,
     "metadata": {},
     "output_type": "execute_result"
    }
   ],
   "source": [
    "df.columns"
   ]
  },
  {
   "cell_type": "code",
   "execution_count": 82,
   "id": "b1cb7013",
   "metadata": {},
   "outputs": [
    {
     "data": {
      "text/html": [
       "<div>\n",
       "<style scoped>\n",
       "    .dataframe tbody tr th:only-of-type {\n",
       "        vertical-align: middle;\n",
       "    }\n",
       "\n",
       "    .dataframe tbody tr th {\n",
       "        vertical-align: top;\n",
       "    }\n",
       "\n",
       "    .dataframe thead th {\n",
       "        text-align: right;\n",
       "    }\n",
       "</style>\n",
       "<table border=\"1\" class=\"dataframe\">\n",
       "  <thead>\n",
       "    <tr style=\"text-align: right;\">\n",
       "      <th></th>\n",
       "      <th>poro(%)</th>\n",
       "      <th>Perm(mD)</th>\n",
       "    </tr>\n",
       "  </thead>\n",
       "  <tbody>\n",
       "    <tr>\n",
       "      <th>1000</th>\n",
       "      <td>35</td>\n",
       "      <td>500</td>\n",
       "    </tr>\n",
       "    <tr>\n",
       "      <th>1500</th>\n",
       "      <td>30</td>\n",
       "      <td>450</td>\n",
       "    </tr>\n",
       "    <tr>\n",
       "      <th>2000</th>\n",
       "      <td>25</td>\n",
       "      <td>150</td>\n",
       "    </tr>\n",
       "  </tbody>\n",
       "</table>\n",
       "</div>"
      ],
      "text/plain": [
       "      poro(%)  Perm(mD)\n",
       "1000       35       500\n",
       "1500       30       450\n",
       "2000       25       150"
      ]
     },
     "execution_count": 82,
     "metadata": {},
     "output_type": "execute_result"
    }
   ],
   "source": [
    "df"
   ]
  },
  {
   "cell_type": "code",
   "execution_count": 83,
   "id": "27e5a6e0",
   "metadata": {},
   "outputs": [],
   "source": [
    "my_field_data = {\"depth\":[1000,1500,2000],\n",
    "                 \"poro(%)\":[35,30,25],\n",
    "                 \"Perm(mD)\":[500,450,150],\n",
    "                 \"Saturation\":[0.2,0.4,0.3]}\n",
    "\n",
    "\n",
    "df = pd.DataFrame(my_field_data,index = my_field_data['depth'])"
   ]
  },
  {
   "cell_type": "code",
   "execution_count": 84,
   "id": "fd3a812a",
   "metadata": {},
   "outputs": [
    {
     "data": {
      "text/html": [
       "<div>\n",
       "<style scoped>\n",
       "    .dataframe tbody tr th:only-of-type {\n",
       "        vertical-align: middle;\n",
       "    }\n",
       "\n",
       "    .dataframe tbody tr th {\n",
       "        vertical-align: top;\n",
       "    }\n",
       "\n",
       "    .dataframe thead th {\n",
       "        text-align: right;\n",
       "    }\n",
       "</style>\n",
       "<table border=\"1\" class=\"dataframe\">\n",
       "  <thead>\n",
       "    <tr style=\"text-align: right;\">\n",
       "      <th></th>\n",
       "      <th>depth</th>\n",
       "      <th>poro(%)</th>\n",
       "      <th>Perm(mD)</th>\n",
       "      <th>Saturation</th>\n",
       "    </tr>\n",
       "  </thead>\n",
       "  <tbody>\n",
       "    <tr>\n",
       "      <th>1000</th>\n",
       "      <td>1000</td>\n",
       "      <td>35</td>\n",
       "      <td>500</td>\n",
       "      <td>0.2</td>\n",
       "    </tr>\n",
       "    <tr>\n",
       "      <th>1500</th>\n",
       "      <td>1500</td>\n",
       "      <td>30</td>\n",
       "      <td>450</td>\n",
       "      <td>0.4</td>\n",
       "    </tr>\n",
       "    <tr>\n",
       "      <th>2000</th>\n",
       "      <td>2000</td>\n",
       "      <td>25</td>\n",
       "      <td>150</td>\n",
       "      <td>0.3</td>\n",
       "    </tr>\n",
       "  </tbody>\n",
       "</table>\n",
       "</div>"
      ],
      "text/plain": [
       "      depth  poro(%)  Perm(mD)  Saturation\n",
       "1000   1000       35       500         0.2\n",
       "1500   1500       30       450         0.4\n",
       "2000   2000       25       150         0.3"
      ]
     },
     "execution_count": 84,
     "metadata": {},
     "output_type": "execute_result"
    }
   ],
   "source": [
    "df"
   ]
  },
  {
   "cell_type": "code",
   "execution_count": 85,
   "id": "3b377390",
   "metadata": {},
   "outputs": [
    {
     "data": {
      "text/plain": [
       "Index(['depth', 'poro(%)', 'Perm(mD)', 'Saturation'], dtype='object')"
      ]
     },
     "execution_count": 85,
     "metadata": {},
     "output_type": "execute_result"
    }
   ],
   "source": [
    "df.columns"
   ]
  },
  {
   "cell_type": "code",
   "execution_count": 88,
   "id": "3db74efa",
   "metadata": {},
   "outputs": [],
   "source": [
    "list_of_cols_to_be_accessed = ['Perm(mD)', 'Saturation']"
   ]
  },
  {
   "cell_type": "code",
   "execution_count": 92,
   "id": "ecde443d",
   "metadata": {},
   "outputs": [
    {
     "data": {
      "text/html": [
       "<div>\n",
       "<style scoped>\n",
       "    .dataframe tbody tr th:only-of-type {\n",
       "        vertical-align: middle;\n",
       "    }\n",
       "\n",
       "    .dataframe tbody tr th {\n",
       "        vertical-align: top;\n",
       "    }\n",
       "\n",
       "    .dataframe thead th {\n",
       "        text-align: right;\n",
       "    }\n",
       "</style>\n",
       "<table border=\"1\" class=\"dataframe\">\n",
       "  <thead>\n",
       "    <tr style=\"text-align: right;\">\n",
       "      <th></th>\n",
       "      <th>Perm(mD)</th>\n",
       "      <th>Saturation</th>\n",
       "    </tr>\n",
       "  </thead>\n",
       "  <tbody>\n",
       "    <tr>\n",
       "      <th>1000</th>\n",
       "      <td>500</td>\n",
       "      <td>0.2</td>\n",
       "    </tr>\n",
       "    <tr>\n",
       "      <th>1500</th>\n",
       "      <td>450</td>\n",
       "      <td>0.4</td>\n",
       "    </tr>\n",
       "    <tr>\n",
       "      <th>2000</th>\n",
       "      <td>150</td>\n",
       "      <td>0.3</td>\n",
       "    </tr>\n",
       "  </tbody>\n",
       "</table>\n",
       "</div>"
      ],
      "text/plain": [
       "      Perm(mD)  Saturation\n",
       "1000       500         0.2\n",
       "1500       450         0.4\n",
       "2000       150         0.3"
      ]
     },
     "execution_count": 92,
     "metadata": {},
     "output_type": "execute_result"
    }
   ],
   "source": [
    "df[['Perm(mD)','Saturation']]"
   ]
  },
  {
   "cell_type": "code",
   "execution_count": 93,
   "id": "42725bb0",
   "metadata": {},
   "outputs": [
    {
     "data": {
      "text/plain": [
       "['Perm(mD)', 'Saturation']"
      ]
     },
     "execution_count": 93,
     "metadata": {},
     "output_type": "execute_result"
    }
   ],
   "source": [
    "list_of_cols_to_be_accessed"
   ]
  },
  {
   "cell_type": "code",
   "execution_count": 94,
   "id": "31a393f6",
   "metadata": {},
   "outputs": [
    {
     "data": {
      "text/html": [
       "<div>\n",
       "<style scoped>\n",
       "    .dataframe tbody tr th:only-of-type {\n",
       "        vertical-align: middle;\n",
       "    }\n",
       "\n",
       "    .dataframe tbody tr th {\n",
       "        vertical-align: top;\n",
       "    }\n",
       "\n",
       "    .dataframe thead th {\n",
       "        text-align: right;\n",
       "    }\n",
       "</style>\n",
       "<table border=\"1\" class=\"dataframe\">\n",
       "  <thead>\n",
       "    <tr style=\"text-align: right;\">\n",
       "      <th></th>\n",
       "      <th>Perm(mD)</th>\n",
       "      <th>Saturation</th>\n",
       "    </tr>\n",
       "  </thead>\n",
       "  <tbody>\n",
       "    <tr>\n",
       "      <th>1000</th>\n",
       "      <td>500</td>\n",
       "      <td>0.2</td>\n",
       "    </tr>\n",
       "    <tr>\n",
       "      <th>1500</th>\n",
       "      <td>450</td>\n",
       "      <td>0.4</td>\n",
       "    </tr>\n",
       "    <tr>\n",
       "      <th>2000</th>\n",
       "      <td>150</td>\n",
       "      <td>0.3</td>\n",
       "    </tr>\n",
       "  </tbody>\n",
       "</table>\n",
       "</div>"
      ],
      "text/plain": [
       "      Perm(mD)  Saturation\n",
       "1000       500         0.2\n",
       "1500       450         0.4\n",
       "2000       150         0.3"
      ]
     },
     "execution_count": 94,
     "metadata": {},
     "output_type": "execute_result"
    }
   ],
   "source": [
    "df[list_of_cols_to_be_accessed]"
   ]
  },
  {
   "cell_type": "code",
   "execution_count": 95,
   "id": "eb7feebb",
   "metadata": {},
   "outputs": [
    {
     "data": {
      "text/html": [
       "<div>\n",
       "<style scoped>\n",
       "    .dataframe tbody tr th:only-of-type {\n",
       "        vertical-align: middle;\n",
       "    }\n",
       "\n",
       "    .dataframe tbody tr th {\n",
       "        vertical-align: top;\n",
       "    }\n",
       "\n",
       "    .dataframe thead th {\n",
       "        text-align: right;\n",
       "    }\n",
       "</style>\n",
       "<table border=\"1\" class=\"dataframe\">\n",
       "  <thead>\n",
       "    <tr style=\"text-align: right;\">\n",
       "      <th></th>\n",
       "      <th>depth</th>\n",
       "      <th>poro(%)</th>\n",
       "      <th>Perm(mD)</th>\n",
       "      <th>Saturation</th>\n",
       "    </tr>\n",
       "  </thead>\n",
       "  <tbody>\n",
       "    <tr>\n",
       "      <th>1000</th>\n",
       "      <td>1000</td>\n",
       "      <td>35</td>\n",
       "      <td>500</td>\n",
       "      <td>0.2</td>\n",
       "    </tr>\n",
       "    <tr>\n",
       "      <th>1500</th>\n",
       "      <td>1500</td>\n",
       "      <td>30</td>\n",
       "      <td>450</td>\n",
       "      <td>0.4</td>\n",
       "    </tr>\n",
       "    <tr>\n",
       "      <th>2000</th>\n",
       "      <td>2000</td>\n",
       "      <td>25</td>\n",
       "      <td>150</td>\n",
       "      <td>0.3</td>\n",
       "    </tr>\n",
       "  </tbody>\n",
       "</table>\n",
       "</div>"
      ],
      "text/plain": [
       "      depth  poro(%)  Perm(mD)  Saturation\n",
       "1000   1000       35       500         0.2\n",
       "1500   1500       30       450         0.4\n",
       "2000   2000       25       150         0.3"
      ]
     },
     "execution_count": 95,
     "metadata": {},
     "output_type": "execute_result"
    }
   ],
   "source": [
    "df"
   ]
  },
  {
   "cell_type": "markdown",
   "id": "acef5bfe",
   "metadata": {},
   "source": [
    "### Accessing Rows:\n",
    "\n",
    "1. loc: labels\n",
    "2. iloc : index number\n",
    "\n"
   ]
  },
  {
   "cell_type": "code",
   "execution_count": 97,
   "id": "4fde4e0b",
   "metadata": {},
   "outputs": [
    {
     "data": {
      "text/html": [
       "<div>\n",
       "<style scoped>\n",
       "    .dataframe tbody tr th:only-of-type {\n",
       "        vertical-align: middle;\n",
       "    }\n",
       "\n",
       "    .dataframe tbody tr th {\n",
       "        vertical-align: top;\n",
       "    }\n",
       "\n",
       "    .dataframe thead th {\n",
       "        text-align: right;\n",
       "    }\n",
       "</style>\n",
       "<table border=\"1\" class=\"dataframe\">\n",
       "  <thead>\n",
       "    <tr style=\"text-align: right;\">\n",
       "      <th></th>\n",
       "      <th>depth</th>\n",
       "      <th>poro(%)</th>\n",
       "      <th>Perm(mD)</th>\n",
       "      <th>Saturation</th>\n",
       "    </tr>\n",
       "  </thead>\n",
       "  <tbody>\n",
       "    <tr>\n",
       "      <th>1000</th>\n",
       "      <td>1000</td>\n",
       "      <td>35</td>\n",
       "      <td>500</td>\n",
       "      <td>0.2</td>\n",
       "    </tr>\n",
       "    <tr>\n",
       "      <th>1500</th>\n",
       "      <td>1500</td>\n",
       "      <td>30</td>\n",
       "      <td>450</td>\n",
       "      <td>0.4</td>\n",
       "    </tr>\n",
       "    <tr>\n",
       "      <th>2000</th>\n",
       "      <td>2000</td>\n",
       "      <td>25</td>\n",
       "      <td>150</td>\n",
       "      <td>0.3</td>\n",
       "    </tr>\n",
       "  </tbody>\n",
       "</table>\n",
       "</div>"
      ],
      "text/plain": [
       "      depth  poro(%)  Perm(mD)  Saturation\n",
       "1000   1000       35       500         0.2\n",
       "1500   1500       30       450         0.4\n",
       "2000   2000       25       150         0.3"
      ]
     },
     "execution_count": 97,
     "metadata": {},
     "output_type": "execute_result"
    }
   ],
   "source": [
    "df"
   ]
  },
  {
   "cell_type": "code",
   "execution_count": 98,
   "id": "07f6bfbe",
   "metadata": {},
   "outputs": [
    {
     "data": {
      "text/plain": [
       "depth         1500.0\n",
       "poro(%)         30.0\n",
       "Perm(mD)       450.0\n",
       "Saturation       0.4\n",
       "Name: 1500, dtype: float64"
      ]
     },
     "execution_count": 98,
     "metadata": {},
     "output_type": "execute_result"
    }
   ],
   "source": [
    "df.loc[1500]"
   ]
  },
  {
   "cell_type": "code",
   "execution_count": 99,
   "id": "07d6e224",
   "metadata": {},
   "outputs": [
    {
     "data": {
      "text/plain": [
       "depth         1500.0\n",
       "poro(%)         30.0\n",
       "Perm(mD)       450.0\n",
       "Saturation       0.4\n",
       "Name: 1500, dtype: float64"
      ]
     },
     "execution_count": 99,
     "metadata": {},
     "output_type": "execute_result"
    }
   ],
   "source": [
    "df.iloc[1]"
   ]
  },
  {
   "cell_type": "code",
   "execution_count": 100,
   "id": "ff9f41e3",
   "metadata": {},
   "outputs": [],
   "source": [
    "df.index = [\"a\",\"b\",\"c\"]"
   ]
  },
  {
   "cell_type": "code",
   "execution_count": 101,
   "id": "6a840415",
   "metadata": {},
   "outputs": [
    {
     "data": {
      "text/html": [
       "<div>\n",
       "<style scoped>\n",
       "    .dataframe tbody tr th:only-of-type {\n",
       "        vertical-align: middle;\n",
       "    }\n",
       "\n",
       "    .dataframe tbody tr th {\n",
       "        vertical-align: top;\n",
       "    }\n",
       "\n",
       "    .dataframe thead th {\n",
       "        text-align: right;\n",
       "    }\n",
       "</style>\n",
       "<table border=\"1\" class=\"dataframe\">\n",
       "  <thead>\n",
       "    <tr style=\"text-align: right;\">\n",
       "      <th></th>\n",
       "      <th>depth</th>\n",
       "      <th>poro(%)</th>\n",
       "      <th>Perm(mD)</th>\n",
       "      <th>Saturation</th>\n",
       "    </tr>\n",
       "  </thead>\n",
       "  <tbody>\n",
       "    <tr>\n",
       "      <th>a</th>\n",
       "      <td>1000</td>\n",
       "      <td>35</td>\n",
       "      <td>500</td>\n",
       "      <td>0.2</td>\n",
       "    </tr>\n",
       "    <tr>\n",
       "      <th>b</th>\n",
       "      <td>1500</td>\n",
       "      <td>30</td>\n",
       "      <td>450</td>\n",
       "      <td>0.4</td>\n",
       "    </tr>\n",
       "    <tr>\n",
       "      <th>c</th>\n",
       "      <td>2000</td>\n",
       "      <td>25</td>\n",
       "      <td>150</td>\n",
       "      <td>0.3</td>\n",
       "    </tr>\n",
       "  </tbody>\n",
       "</table>\n",
       "</div>"
      ],
      "text/plain": [
       "   depth  poro(%)  Perm(mD)  Saturation\n",
       "a   1000       35       500         0.2\n",
       "b   1500       30       450         0.4\n",
       "c   2000       25       150         0.3"
      ]
     },
     "execution_count": 101,
     "metadata": {},
     "output_type": "execute_result"
    }
   ],
   "source": [
    "df"
   ]
  },
  {
   "cell_type": "code",
   "execution_count": 105,
   "id": "2f8a26d9",
   "metadata": {},
   "outputs": [
    {
     "data": {
      "text/plain": [
       "depth         1500.0\n",
       "poro(%)         30.0\n",
       "Perm(mD)       450.0\n",
       "Saturation       0.4\n",
       "Name: b, dtype: float64"
      ]
     },
     "execution_count": 105,
     "metadata": {},
     "output_type": "execute_result"
    }
   ],
   "source": [
    "df.loc[\"b\"]"
   ]
  },
  {
   "cell_type": "code",
   "execution_count": 107,
   "id": "ed4c07d0",
   "metadata": {},
   "outputs": [
    {
     "data": {
      "text/plain": [
       "depth         1500.0\n",
       "poro(%)         30.0\n",
       "Perm(mD)       450.0\n",
       "Saturation       0.4\n",
       "Name: b, dtype: float64"
      ]
     },
     "execution_count": 107,
     "metadata": {},
     "output_type": "execute_result"
    }
   ],
   "source": [
    "df.iloc[1]"
   ]
  },
  {
   "cell_type": "code",
   "execution_count": 109,
   "id": "40413a4c",
   "metadata": {},
   "outputs": [
    {
     "data": {
      "text/html": [
       "<div>\n",
       "<style scoped>\n",
       "    .dataframe tbody tr th:only-of-type {\n",
       "        vertical-align: middle;\n",
       "    }\n",
       "\n",
       "    .dataframe tbody tr th {\n",
       "        vertical-align: top;\n",
       "    }\n",
       "\n",
       "    .dataframe thead th {\n",
       "        text-align: right;\n",
       "    }\n",
       "</style>\n",
       "<table border=\"1\" class=\"dataframe\">\n",
       "  <thead>\n",
       "    <tr style=\"text-align: right;\">\n",
       "      <th></th>\n",
       "      <th>depth</th>\n",
       "      <th>poro(%)</th>\n",
       "      <th>Perm(mD)</th>\n",
       "      <th>Saturation</th>\n",
       "    </tr>\n",
       "  </thead>\n",
       "  <tbody>\n",
       "    <tr>\n",
       "      <th>b</th>\n",
       "      <td>1500</td>\n",
       "      <td>30</td>\n",
       "      <td>450</td>\n",
       "      <td>0.4</td>\n",
       "    </tr>\n",
       "    <tr>\n",
       "      <th>c</th>\n",
       "      <td>2000</td>\n",
       "      <td>25</td>\n",
       "      <td>150</td>\n",
       "      <td>0.3</td>\n",
       "    </tr>\n",
       "  </tbody>\n",
       "</table>\n",
       "</div>"
      ],
      "text/plain": [
       "   depth  poro(%)  Perm(mD)  Saturation\n",
       "b   1500       30       450         0.4\n",
       "c   2000       25       150         0.3"
      ]
     },
     "execution_count": 109,
     "metadata": {},
     "output_type": "execute_result"
    }
   ],
   "source": [
    "df.loc[[\"b\",\"c\"]]"
   ]
  },
  {
   "cell_type": "code",
   "execution_count": 111,
   "id": "e706205e",
   "metadata": {},
   "outputs": [
    {
     "data": {
      "text/html": [
       "<div>\n",
       "<style scoped>\n",
       "    .dataframe tbody tr th:only-of-type {\n",
       "        vertical-align: middle;\n",
       "    }\n",
       "\n",
       "    .dataframe tbody tr th {\n",
       "        vertical-align: top;\n",
       "    }\n",
       "\n",
       "    .dataframe thead th {\n",
       "        text-align: right;\n",
       "    }\n",
       "</style>\n",
       "<table border=\"1\" class=\"dataframe\">\n",
       "  <thead>\n",
       "    <tr style=\"text-align: right;\">\n",
       "      <th></th>\n",
       "      <th>depth</th>\n",
       "      <th>poro(%)</th>\n",
       "      <th>Perm(mD)</th>\n",
       "      <th>Saturation</th>\n",
       "    </tr>\n",
       "  </thead>\n",
       "  <tbody>\n",
       "    <tr>\n",
       "      <th>a</th>\n",
       "      <td>1000</td>\n",
       "      <td>35</td>\n",
       "      <td>500</td>\n",
       "      <td>0.2</td>\n",
       "    </tr>\n",
       "    <tr>\n",
       "      <th>b</th>\n",
       "      <td>1500</td>\n",
       "      <td>30</td>\n",
       "      <td>450</td>\n",
       "      <td>0.4</td>\n",
       "    </tr>\n",
       "    <tr>\n",
       "      <th>c</th>\n",
       "      <td>2000</td>\n",
       "      <td>25</td>\n",
       "      <td>150</td>\n",
       "      <td>0.3</td>\n",
       "    </tr>\n",
       "  </tbody>\n",
       "</table>\n",
       "</div>"
      ],
      "text/plain": [
       "   depth  poro(%)  Perm(mD)  Saturation\n",
       "a   1000       35       500         0.2\n",
       "b   1500       30       450         0.4\n",
       "c   2000       25       150         0.3"
      ]
     },
     "execution_count": 111,
     "metadata": {},
     "output_type": "execute_result"
    }
   ],
   "source": [
    "df.loc[\"a\":\"c\"]"
   ]
  },
  {
   "cell_type": "code",
   "execution_count": 112,
   "id": "6f2ef7f8",
   "metadata": {},
   "outputs": [
    {
     "data": {
      "text/html": [
       "<div>\n",
       "<style scoped>\n",
       "    .dataframe tbody tr th:only-of-type {\n",
       "        vertical-align: middle;\n",
       "    }\n",
       "\n",
       "    .dataframe tbody tr th {\n",
       "        vertical-align: top;\n",
       "    }\n",
       "\n",
       "    .dataframe thead th {\n",
       "        text-align: right;\n",
       "    }\n",
       "</style>\n",
       "<table border=\"1\" class=\"dataframe\">\n",
       "  <thead>\n",
       "    <tr style=\"text-align: right;\">\n",
       "      <th></th>\n",
       "      <th>depth</th>\n",
       "      <th>poro(%)</th>\n",
       "      <th>Perm(mD)</th>\n",
       "      <th>Saturation</th>\n",
       "    </tr>\n",
       "  </thead>\n",
       "  <tbody>\n",
       "    <tr>\n",
       "      <th>a</th>\n",
       "      <td>1000</td>\n",
       "      <td>35</td>\n",
       "      <td>500</td>\n",
       "      <td>0.2</td>\n",
       "    </tr>\n",
       "    <tr>\n",
       "      <th>b</th>\n",
       "      <td>1500</td>\n",
       "      <td>30</td>\n",
       "      <td>450</td>\n",
       "      <td>0.4</td>\n",
       "    </tr>\n",
       "    <tr>\n",
       "      <th>c</th>\n",
       "      <td>2000</td>\n",
       "      <td>25</td>\n",
       "      <td>150</td>\n",
       "      <td>0.3</td>\n",
       "    </tr>\n",
       "  </tbody>\n",
       "</table>\n",
       "</div>"
      ],
      "text/plain": [
       "   depth  poro(%)  Perm(mD)  Saturation\n",
       "a   1000       35       500         0.2\n",
       "b   1500       30       450         0.4\n",
       "c   2000       25       150         0.3"
      ]
     },
     "execution_count": 112,
     "metadata": {},
     "output_type": "execute_result"
    }
   ],
   "source": [
    "df"
   ]
  },
  {
   "cell_type": "code",
   "execution_count": 113,
   "id": "1ebabd8d",
   "metadata": {},
   "outputs": [
    {
     "data": {
      "text/html": [
       "<div>\n",
       "<style scoped>\n",
       "    .dataframe tbody tr th:only-of-type {\n",
       "        vertical-align: middle;\n",
       "    }\n",
       "\n",
       "    .dataframe tbody tr th {\n",
       "        vertical-align: top;\n",
       "    }\n",
       "\n",
       "    .dataframe thead th {\n",
       "        text-align: right;\n",
       "    }\n",
       "</style>\n",
       "<table border=\"1\" class=\"dataframe\">\n",
       "  <thead>\n",
       "    <tr style=\"text-align: right;\">\n",
       "      <th></th>\n",
       "      <th>depth</th>\n",
       "      <th>poro(%)</th>\n",
       "      <th>Perm(mD)</th>\n",
       "      <th>Saturation</th>\n",
       "    </tr>\n",
       "  </thead>\n",
       "  <tbody>\n",
       "    <tr>\n",
       "      <th>b</th>\n",
       "      <td>1500</td>\n",
       "      <td>30</td>\n",
       "      <td>450</td>\n",
       "      <td>0.4</td>\n",
       "    </tr>\n",
       "    <tr>\n",
       "      <th>c</th>\n",
       "      <td>2000</td>\n",
       "      <td>25</td>\n",
       "      <td>150</td>\n",
       "      <td>0.3</td>\n",
       "    </tr>\n",
       "  </tbody>\n",
       "</table>\n",
       "</div>"
      ],
      "text/plain": [
       "   depth  poro(%)  Perm(mD)  Saturation\n",
       "b   1500       30       450         0.4\n",
       "c   2000       25       150         0.3"
      ]
     },
     "execution_count": 113,
     "metadata": {},
     "output_type": "execute_result"
    }
   ],
   "source": [
    "df.loc[\"b\":\"c\"]"
   ]
  },
  {
   "cell_type": "code",
   "execution_count": 119,
   "id": "8142b021",
   "metadata": {},
   "outputs": [
    {
     "data": {
      "text/html": [
       "<div>\n",
       "<style scoped>\n",
       "    .dataframe tbody tr th:only-of-type {\n",
       "        vertical-align: middle;\n",
       "    }\n",
       "\n",
       "    .dataframe tbody tr th {\n",
       "        vertical-align: top;\n",
       "    }\n",
       "\n",
       "    .dataframe thead th {\n",
       "        text-align: right;\n",
       "    }\n",
       "</style>\n",
       "<table border=\"1\" class=\"dataframe\">\n",
       "  <thead>\n",
       "    <tr style=\"text-align: right;\">\n",
       "      <th></th>\n",
       "      <th>depth</th>\n",
       "      <th>Perm(mD)</th>\n",
       "    </tr>\n",
       "  </thead>\n",
       "  <tbody>\n",
       "    <tr>\n",
       "      <th>b</th>\n",
       "      <td>1500</td>\n",
       "      <td>450</td>\n",
       "    </tr>\n",
       "    <tr>\n",
       "      <th>c</th>\n",
       "      <td>2000</td>\n",
       "      <td>150</td>\n",
       "    </tr>\n",
       "  </tbody>\n",
       "</table>\n",
       "</div>"
      ],
      "text/plain": [
       "   depth  Perm(mD)\n",
       "b   1500       450\n",
       "c   2000       150"
      ]
     },
     "execution_count": 119,
     "metadata": {},
     "output_type": "execute_result"
    }
   ],
   "source": [
    "df.loc[\"b\":\"c\"][[\"depth\",\"Perm(mD)\"]]"
   ]
  },
  {
   "cell_type": "code",
   "execution_count": 120,
   "id": "5caa60e5",
   "metadata": {},
   "outputs": [
    {
     "data": {
      "text/html": [
       "<div>\n",
       "<style scoped>\n",
       "    .dataframe tbody tr th:only-of-type {\n",
       "        vertical-align: middle;\n",
       "    }\n",
       "\n",
       "    .dataframe tbody tr th {\n",
       "        vertical-align: top;\n",
       "    }\n",
       "\n",
       "    .dataframe thead th {\n",
       "        text-align: right;\n",
       "    }\n",
       "</style>\n",
       "<table border=\"1\" class=\"dataframe\">\n",
       "  <thead>\n",
       "    <tr style=\"text-align: right;\">\n",
       "      <th></th>\n",
       "      <th>depth</th>\n",
       "      <th>poro(%)</th>\n",
       "      <th>Perm(mD)</th>\n",
       "      <th>Saturation</th>\n",
       "    </tr>\n",
       "  </thead>\n",
       "  <tbody>\n",
       "    <tr>\n",
       "      <th>a</th>\n",
       "      <td>1000</td>\n",
       "      <td>35</td>\n",
       "      <td>500</td>\n",
       "      <td>0.2</td>\n",
       "    </tr>\n",
       "    <tr>\n",
       "      <th>c</th>\n",
       "      <td>2000</td>\n",
       "      <td>25</td>\n",
       "      <td>150</td>\n",
       "      <td>0.3</td>\n",
       "    </tr>\n",
       "  </tbody>\n",
       "</table>\n",
       "</div>"
      ],
      "text/plain": [
       "   depth  poro(%)  Perm(mD)  Saturation\n",
       "a   1000       35       500         0.2\n",
       "c   2000       25       150         0.3"
      ]
     },
     "execution_count": 120,
     "metadata": {},
     "output_type": "execute_result"
    }
   ],
   "source": [
    "df.iloc[[0,2]]"
   ]
  },
  {
   "cell_type": "code",
   "execution_count": 121,
   "id": "abb90fa2",
   "metadata": {},
   "outputs": [
    {
     "data": {
      "text/html": [
       "<div>\n",
       "<style scoped>\n",
       "    .dataframe tbody tr th:only-of-type {\n",
       "        vertical-align: middle;\n",
       "    }\n",
       "\n",
       "    .dataframe tbody tr th {\n",
       "        vertical-align: top;\n",
       "    }\n",
       "\n",
       "    .dataframe thead th {\n",
       "        text-align: right;\n",
       "    }\n",
       "</style>\n",
       "<table border=\"1\" class=\"dataframe\">\n",
       "  <thead>\n",
       "    <tr style=\"text-align: right;\">\n",
       "      <th></th>\n",
       "      <th>depth</th>\n",
       "      <th>poro(%)</th>\n",
       "      <th>Perm(mD)</th>\n",
       "      <th>Saturation</th>\n",
       "    </tr>\n",
       "  </thead>\n",
       "  <tbody>\n",
       "    <tr>\n",
       "      <th>a</th>\n",
       "      <td>1000</td>\n",
       "      <td>35</td>\n",
       "      <td>500</td>\n",
       "      <td>0.2</td>\n",
       "    </tr>\n",
       "    <tr>\n",
       "      <th>b</th>\n",
       "      <td>1500</td>\n",
       "      <td>30</td>\n",
       "      <td>450</td>\n",
       "      <td>0.4</td>\n",
       "    </tr>\n",
       "  </tbody>\n",
       "</table>\n",
       "</div>"
      ],
      "text/plain": [
       "   depth  poro(%)  Perm(mD)  Saturation\n",
       "a   1000       35       500         0.2\n",
       "b   1500       30       450         0.4"
      ]
     },
     "execution_count": 121,
     "metadata": {},
     "output_type": "execute_result"
    }
   ],
   "source": [
    "df.iloc[0:2]"
   ]
  },
  {
   "cell_type": "code",
   "execution_count": 122,
   "id": "163e2e2e",
   "metadata": {},
   "outputs": [
    {
     "data": {
      "text/html": [
       "<div>\n",
       "<style scoped>\n",
       "    .dataframe tbody tr th:only-of-type {\n",
       "        vertical-align: middle;\n",
       "    }\n",
       "\n",
       "    .dataframe tbody tr th {\n",
       "        vertical-align: top;\n",
       "    }\n",
       "\n",
       "    .dataframe thead th {\n",
       "        text-align: right;\n",
       "    }\n",
       "</style>\n",
       "<table border=\"1\" class=\"dataframe\">\n",
       "  <thead>\n",
       "    <tr style=\"text-align: right;\">\n",
       "      <th></th>\n",
       "      <th>depth</th>\n",
       "      <th>poro(%)</th>\n",
       "      <th>Perm(mD)</th>\n",
       "      <th>Saturation</th>\n",
       "    </tr>\n",
       "  </thead>\n",
       "  <tbody>\n",
       "    <tr>\n",
       "      <th>a</th>\n",
       "      <td>1000</td>\n",
       "      <td>35</td>\n",
       "      <td>500</td>\n",
       "      <td>0.2</td>\n",
       "    </tr>\n",
       "    <tr>\n",
       "      <th>b</th>\n",
       "      <td>1500</td>\n",
       "      <td>30</td>\n",
       "      <td>450</td>\n",
       "      <td>0.4</td>\n",
       "    </tr>\n",
       "    <tr>\n",
       "      <th>c</th>\n",
       "      <td>2000</td>\n",
       "      <td>25</td>\n",
       "      <td>150</td>\n",
       "      <td>0.3</td>\n",
       "    </tr>\n",
       "  </tbody>\n",
       "</table>\n",
       "</div>"
      ],
      "text/plain": [
       "   depth  poro(%)  Perm(mD)  Saturation\n",
       "a   1000       35       500         0.2\n",
       "b   1500       30       450         0.4\n",
       "c   2000       25       150         0.3"
      ]
     },
     "execution_count": 122,
     "metadata": {},
     "output_type": "execute_result"
    }
   ],
   "source": [
    "df"
   ]
  },
  {
   "cell_type": "code",
   "execution_count": 124,
   "id": "1c8aa3b1",
   "metadata": {},
   "outputs": [],
   "source": [
    "df.columns = [\"depth(meter)\",\"poro(%)\",\"perm(mD)\",\"Sat(fraction)\"]"
   ]
  },
  {
   "cell_type": "code",
   "execution_count": 125,
   "id": "f2c3b73e",
   "metadata": {},
   "outputs": [
    {
     "data": {
      "text/html": [
       "<div>\n",
       "<style scoped>\n",
       "    .dataframe tbody tr th:only-of-type {\n",
       "        vertical-align: middle;\n",
       "    }\n",
       "\n",
       "    .dataframe tbody tr th {\n",
       "        vertical-align: top;\n",
       "    }\n",
       "\n",
       "    .dataframe thead th {\n",
       "        text-align: right;\n",
       "    }\n",
       "</style>\n",
       "<table border=\"1\" class=\"dataframe\">\n",
       "  <thead>\n",
       "    <tr style=\"text-align: right;\">\n",
       "      <th></th>\n",
       "      <th>depth(meter)</th>\n",
       "      <th>poro(%)</th>\n",
       "      <th>perm(mD)</th>\n",
       "      <th>Sat(fraction)</th>\n",
       "    </tr>\n",
       "  </thead>\n",
       "  <tbody>\n",
       "    <tr>\n",
       "      <th>a</th>\n",
       "      <td>1000</td>\n",
       "      <td>35</td>\n",
       "      <td>500</td>\n",
       "      <td>0.2</td>\n",
       "    </tr>\n",
       "    <tr>\n",
       "      <th>b</th>\n",
       "      <td>1500</td>\n",
       "      <td>30</td>\n",
       "      <td>450</td>\n",
       "      <td>0.4</td>\n",
       "    </tr>\n",
       "    <tr>\n",
       "      <th>c</th>\n",
       "      <td>2000</td>\n",
       "      <td>25</td>\n",
       "      <td>150</td>\n",
       "      <td>0.3</td>\n",
       "    </tr>\n",
       "  </tbody>\n",
       "</table>\n",
       "</div>"
      ],
      "text/plain": [
       "   depth(meter)  poro(%)  perm(mD)  Sat(fraction)\n",
       "a          1000       35       500            0.2\n",
       "b          1500       30       450            0.4\n",
       "c          2000       25       150            0.3"
      ]
     },
     "execution_count": 125,
     "metadata": {},
     "output_type": "execute_result"
    }
   ],
   "source": [
    "df"
   ]
  },
  {
   "cell_type": "code",
   "execution_count": 126,
   "id": "278a5104",
   "metadata": {},
   "outputs": [],
   "source": [
    "##Creating new column\n"
   ]
  },
  {
   "cell_type": "code",
   "execution_count": 127,
   "id": "fcdde9c8",
   "metadata": {},
   "outputs": [
    {
     "data": {
      "text/html": [
       "<div>\n",
       "<style scoped>\n",
       "    .dataframe tbody tr th:only-of-type {\n",
       "        vertical-align: middle;\n",
       "    }\n",
       "\n",
       "    .dataframe tbody tr th {\n",
       "        vertical-align: top;\n",
       "    }\n",
       "\n",
       "    .dataframe thead th {\n",
       "        text-align: right;\n",
       "    }\n",
       "</style>\n",
       "<table border=\"1\" class=\"dataframe\">\n",
       "  <thead>\n",
       "    <tr style=\"text-align: right;\">\n",
       "      <th></th>\n",
       "      <th>depth(meter)</th>\n",
       "      <th>poro(%)</th>\n",
       "      <th>perm(mD)</th>\n",
       "      <th>Sat(fraction)</th>\n",
       "    </tr>\n",
       "  </thead>\n",
       "  <tbody>\n",
       "    <tr>\n",
       "      <th>a</th>\n",
       "      <td>1000</td>\n",
       "      <td>35</td>\n",
       "      <td>500</td>\n",
       "      <td>0.2</td>\n",
       "    </tr>\n",
       "    <tr>\n",
       "      <th>b</th>\n",
       "      <td>1500</td>\n",
       "      <td>30</td>\n",
       "      <td>450</td>\n",
       "      <td>0.4</td>\n",
       "    </tr>\n",
       "    <tr>\n",
       "      <th>c</th>\n",
       "      <td>2000</td>\n",
       "      <td>25</td>\n",
       "      <td>150</td>\n",
       "      <td>0.3</td>\n",
       "    </tr>\n",
       "  </tbody>\n",
       "</table>\n",
       "</div>"
      ],
      "text/plain": [
       "   depth(meter)  poro(%)  perm(mD)  Sat(fraction)\n",
       "a          1000       35       500            0.2\n",
       "b          1500       30       450            0.4\n",
       "c          2000       25       150            0.3"
      ]
     },
     "execution_count": 127,
     "metadata": {},
     "output_type": "execute_result"
    }
   ],
   "source": [
    "df"
   ]
  },
  {
   "cell_type": "code",
   "execution_count": 132,
   "id": "8066dea8",
   "metadata": {},
   "outputs": [],
   "source": [
    "df[\"Lithology\"] = [\"limestone\",'sandstone',\"Shale\"]"
   ]
  },
  {
   "cell_type": "code",
   "execution_count": 133,
   "id": "556ecb16",
   "metadata": {},
   "outputs": [
    {
     "data": {
      "text/html": [
       "<div>\n",
       "<style scoped>\n",
       "    .dataframe tbody tr th:only-of-type {\n",
       "        vertical-align: middle;\n",
       "    }\n",
       "\n",
       "    .dataframe tbody tr th {\n",
       "        vertical-align: top;\n",
       "    }\n",
       "\n",
       "    .dataframe thead th {\n",
       "        text-align: right;\n",
       "    }\n",
       "</style>\n",
       "<table border=\"1\" class=\"dataframe\">\n",
       "  <thead>\n",
       "    <tr style=\"text-align: right;\">\n",
       "      <th></th>\n",
       "      <th>depth(meter)</th>\n",
       "      <th>poro(%)</th>\n",
       "      <th>perm(mD)</th>\n",
       "      <th>Sat(fraction)</th>\n",
       "      <th>Lithology</th>\n",
       "    </tr>\n",
       "  </thead>\n",
       "  <tbody>\n",
       "    <tr>\n",
       "      <th>a</th>\n",
       "      <td>1000</td>\n",
       "      <td>35</td>\n",
       "      <td>500</td>\n",
       "      <td>0.2</td>\n",
       "      <td>limestone</td>\n",
       "    </tr>\n",
       "    <tr>\n",
       "      <th>b</th>\n",
       "      <td>1500</td>\n",
       "      <td>30</td>\n",
       "      <td>450</td>\n",
       "      <td>0.4</td>\n",
       "      <td>sandstone</td>\n",
       "    </tr>\n",
       "    <tr>\n",
       "      <th>c</th>\n",
       "      <td>2000</td>\n",
       "      <td>25</td>\n",
       "      <td>150</td>\n",
       "      <td>0.3</td>\n",
       "      <td>Shale</td>\n",
       "    </tr>\n",
       "  </tbody>\n",
       "</table>\n",
       "</div>"
      ],
      "text/plain": [
       "   depth(meter)  poro(%)  perm(mD)  Sat(fraction)  Lithology\n",
       "a          1000       35       500            0.2  limestone\n",
       "b          1500       30       450            0.4  sandstone\n",
       "c          2000       25       150            0.3      Shale"
      ]
     },
     "execution_count": 133,
     "metadata": {},
     "output_type": "execute_result"
    }
   ],
   "source": [
    "df"
   ]
  },
  {
   "cell_type": "code",
   "execution_count": 136,
   "id": "c6e815a5",
   "metadata": {},
   "outputs": [],
   "source": [
    "df[\"PoroPermProduct\"] = 0.01*df[\"poro(%)\"]*df[\"perm(mD)\"]"
   ]
  },
  {
   "cell_type": "code",
   "execution_count": 137,
   "id": "4deff730",
   "metadata": {},
   "outputs": [
    {
     "data": {
      "text/html": [
       "<div>\n",
       "<style scoped>\n",
       "    .dataframe tbody tr th:only-of-type {\n",
       "        vertical-align: middle;\n",
       "    }\n",
       "\n",
       "    .dataframe tbody tr th {\n",
       "        vertical-align: top;\n",
       "    }\n",
       "\n",
       "    .dataframe thead th {\n",
       "        text-align: right;\n",
       "    }\n",
       "</style>\n",
       "<table border=\"1\" class=\"dataframe\">\n",
       "  <thead>\n",
       "    <tr style=\"text-align: right;\">\n",
       "      <th></th>\n",
       "      <th>depth(meter)</th>\n",
       "      <th>poro(%)</th>\n",
       "      <th>perm(mD)</th>\n",
       "      <th>Sat(fraction)</th>\n",
       "      <th>Lithology</th>\n",
       "      <th>PoroPermProduct</th>\n",
       "    </tr>\n",
       "  </thead>\n",
       "  <tbody>\n",
       "    <tr>\n",
       "      <th>a</th>\n",
       "      <td>1000</td>\n",
       "      <td>35</td>\n",
       "      <td>500</td>\n",
       "      <td>0.2</td>\n",
       "      <td>limestone</td>\n",
       "      <td>175.0</td>\n",
       "    </tr>\n",
       "    <tr>\n",
       "      <th>b</th>\n",
       "      <td>1500</td>\n",
       "      <td>30</td>\n",
       "      <td>450</td>\n",
       "      <td>0.4</td>\n",
       "      <td>sandstone</td>\n",
       "      <td>135.0</td>\n",
       "    </tr>\n",
       "    <tr>\n",
       "      <th>c</th>\n",
       "      <td>2000</td>\n",
       "      <td>25</td>\n",
       "      <td>150</td>\n",
       "      <td>0.3</td>\n",
       "      <td>Shale</td>\n",
       "      <td>37.5</td>\n",
       "    </tr>\n",
       "  </tbody>\n",
       "</table>\n",
       "</div>"
      ],
      "text/plain": [
       "   depth(meter)  poro(%)  perm(mD)  Sat(fraction)  Lithology  PoroPermProduct\n",
       "a          1000       35       500            0.2  limestone            175.0\n",
       "b          1500       30       450            0.4  sandstone            135.0\n",
       "c          2000       25       150            0.3      Shale             37.5"
      ]
     },
     "execution_count": 137,
     "metadata": {},
     "output_type": "execute_result"
    }
   ],
   "source": [
    "df"
   ]
  },
  {
   "cell_type": "code",
   "execution_count": 139,
   "id": "fe9ba938",
   "metadata": {},
   "outputs": [],
   "source": [
    "geothermal_grad = 0.008\n",
    "df[\"temp(C)\"] = geothermal_grad*df[\"depth(meter)\"]"
   ]
  },
  {
   "cell_type": "code",
   "execution_count": 140,
   "id": "bacd88b7",
   "metadata": {},
   "outputs": [
    {
     "data": {
      "text/html": [
       "<div>\n",
       "<style scoped>\n",
       "    .dataframe tbody tr th:only-of-type {\n",
       "        vertical-align: middle;\n",
       "    }\n",
       "\n",
       "    .dataframe tbody tr th {\n",
       "        vertical-align: top;\n",
       "    }\n",
       "\n",
       "    .dataframe thead th {\n",
       "        text-align: right;\n",
       "    }\n",
       "</style>\n",
       "<table border=\"1\" class=\"dataframe\">\n",
       "  <thead>\n",
       "    <tr style=\"text-align: right;\">\n",
       "      <th></th>\n",
       "      <th>depth(meter)</th>\n",
       "      <th>poro(%)</th>\n",
       "      <th>perm(mD)</th>\n",
       "      <th>Sat(fraction)</th>\n",
       "      <th>Lithology</th>\n",
       "      <th>PoroPermProduct</th>\n",
       "      <th>temp(C)</th>\n",
       "    </tr>\n",
       "  </thead>\n",
       "  <tbody>\n",
       "    <tr>\n",
       "      <th>a</th>\n",
       "      <td>1000</td>\n",
       "      <td>35</td>\n",
       "      <td>500</td>\n",
       "      <td>0.2</td>\n",
       "      <td>limestone</td>\n",
       "      <td>175.0</td>\n",
       "      <td>8.0</td>\n",
       "    </tr>\n",
       "    <tr>\n",
       "      <th>b</th>\n",
       "      <td>1500</td>\n",
       "      <td>30</td>\n",
       "      <td>450</td>\n",
       "      <td>0.4</td>\n",
       "      <td>sandstone</td>\n",
       "      <td>135.0</td>\n",
       "      <td>12.0</td>\n",
       "    </tr>\n",
       "    <tr>\n",
       "      <th>c</th>\n",
       "      <td>2000</td>\n",
       "      <td>25</td>\n",
       "      <td>150</td>\n",
       "      <td>0.3</td>\n",
       "      <td>Shale</td>\n",
       "      <td>37.5</td>\n",
       "      <td>16.0</td>\n",
       "    </tr>\n",
       "  </tbody>\n",
       "</table>\n",
       "</div>"
      ],
      "text/plain": [
       "   depth(meter)  poro(%)  perm(mD)  Sat(fraction)  Lithology  PoroPermProduct  \\\n",
       "a          1000       35       500            0.2  limestone            175.0   \n",
       "b          1500       30       450            0.4  sandstone            135.0   \n",
       "c          2000       25       150            0.3      Shale             37.5   \n",
       "\n",
       "   temp(C)  \n",
       "a      8.0  \n",
       "b     12.0  \n",
       "c     16.0  "
      ]
     },
     "execution_count": 140,
     "metadata": {},
     "output_type": "execute_result"
    }
   ],
   "source": [
    "df"
   ]
  },
  {
   "cell_type": "markdown",
   "id": "dc43d068",
   "metadata": {},
   "source": [
    "## Conditional DataFrame"
   ]
  },
  {
   "cell_type": "code",
   "execution_count": 141,
   "id": "7b3443d1",
   "metadata": {},
   "outputs": [
    {
     "data": {
      "text/html": [
       "<div>\n",
       "<style scoped>\n",
       "    .dataframe tbody tr th:only-of-type {\n",
       "        vertical-align: middle;\n",
       "    }\n",
       "\n",
       "    .dataframe tbody tr th {\n",
       "        vertical-align: top;\n",
       "    }\n",
       "\n",
       "    .dataframe thead th {\n",
       "        text-align: right;\n",
       "    }\n",
       "</style>\n",
       "<table border=\"1\" class=\"dataframe\">\n",
       "  <thead>\n",
       "    <tr style=\"text-align: right;\">\n",
       "      <th></th>\n",
       "      <th>depth(meter)</th>\n",
       "      <th>poro(%)</th>\n",
       "      <th>perm(mD)</th>\n",
       "      <th>Sat(fraction)</th>\n",
       "      <th>Lithology</th>\n",
       "      <th>PoroPermProduct</th>\n",
       "      <th>temp(C)</th>\n",
       "    </tr>\n",
       "  </thead>\n",
       "  <tbody>\n",
       "    <tr>\n",
       "      <th>a</th>\n",
       "      <td>1000</td>\n",
       "      <td>35</td>\n",
       "      <td>500</td>\n",
       "      <td>0.2</td>\n",
       "      <td>limestone</td>\n",
       "      <td>175.0</td>\n",
       "      <td>8.0</td>\n",
       "    </tr>\n",
       "    <tr>\n",
       "      <th>b</th>\n",
       "      <td>1500</td>\n",
       "      <td>30</td>\n",
       "      <td>450</td>\n",
       "      <td>0.4</td>\n",
       "      <td>sandstone</td>\n",
       "      <td>135.0</td>\n",
       "      <td>12.0</td>\n",
       "    </tr>\n",
       "    <tr>\n",
       "      <th>c</th>\n",
       "      <td>2000</td>\n",
       "      <td>25</td>\n",
       "      <td>150</td>\n",
       "      <td>0.3</td>\n",
       "      <td>Shale</td>\n",
       "      <td>37.5</td>\n",
       "      <td>16.0</td>\n",
       "    </tr>\n",
       "  </tbody>\n",
       "</table>\n",
       "</div>"
      ],
      "text/plain": [
       "   depth(meter)  poro(%)  perm(mD)  Sat(fraction)  Lithology  PoroPermProduct  \\\n",
       "a          1000       35       500            0.2  limestone            175.0   \n",
       "b          1500       30       450            0.4  sandstone            135.0   \n",
       "c          2000       25       150            0.3      Shale             37.5   \n",
       "\n",
       "   temp(C)  \n",
       "a      8.0  \n",
       "b     12.0  \n",
       "c     16.0  "
      ]
     },
     "execution_count": 141,
     "metadata": {},
     "output_type": "execute_result"
    }
   ],
   "source": [
    "df"
   ]
  },
  {
   "cell_type": "code",
   "execution_count": 143,
   "id": "bb9060d7",
   "metadata": {},
   "outputs": [
    {
     "data": {
      "text/plain": [
       "a    False\n",
       "b     True\n",
       "c     True\n",
       "Name: depth(meter), dtype: bool"
      ]
     },
     "execution_count": 143,
     "metadata": {},
     "output_type": "execute_result"
    }
   ],
   "source": [
    "df[\"depth(meter)\"]>1200"
   ]
  },
  {
   "cell_type": "code",
   "execution_count": 144,
   "id": "f3a12947",
   "metadata": {},
   "outputs": [
    {
     "data": {
      "text/html": [
       "<div>\n",
       "<style scoped>\n",
       "    .dataframe tbody tr th:only-of-type {\n",
       "        vertical-align: middle;\n",
       "    }\n",
       "\n",
       "    .dataframe tbody tr th {\n",
       "        vertical-align: top;\n",
       "    }\n",
       "\n",
       "    .dataframe thead th {\n",
       "        text-align: right;\n",
       "    }\n",
       "</style>\n",
       "<table border=\"1\" class=\"dataframe\">\n",
       "  <thead>\n",
       "    <tr style=\"text-align: right;\">\n",
       "      <th></th>\n",
       "      <th>depth(meter)</th>\n",
       "      <th>poro(%)</th>\n",
       "      <th>perm(mD)</th>\n",
       "      <th>Sat(fraction)</th>\n",
       "      <th>Lithology</th>\n",
       "      <th>PoroPermProduct</th>\n",
       "      <th>temp(C)</th>\n",
       "    </tr>\n",
       "  </thead>\n",
       "  <tbody>\n",
       "    <tr>\n",
       "      <th>b</th>\n",
       "      <td>1500</td>\n",
       "      <td>30</td>\n",
       "      <td>450</td>\n",
       "      <td>0.4</td>\n",
       "      <td>sandstone</td>\n",
       "      <td>135.0</td>\n",
       "      <td>12.0</td>\n",
       "    </tr>\n",
       "    <tr>\n",
       "      <th>c</th>\n",
       "      <td>2000</td>\n",
       "      <td>25</td>\n",
       "      <td>150</td>\n",
       "      <td>0.3</td>\n",
       "      <td>Shale</td>\n",
       "      <td>37.5</td>\n",
       "      <td>16.0</td>\n",
       "    </tr>\n",
       "  </tbody>\n",
       "</table>\n",
       "</div>"
      ],
      "text/plain": [
       "   depth(meter)  poro(%)  perm(mD)  Sat(fraction)  Lithology  PoroPermProduct  \\\n",
       "b          1500       30       450            0.4  sandstone            135.0   \n",
       "c          2000       25       150            0.3      Shale             37.5   \n",
       "\n",
       "   temp(C)  \n",
       "b     12.0  \n",
       "c     16.0  "
      ]
     },
     "execution_count": 144,
     "metadata": {},
     "output_type": "execute_result"
    }
   ],
   "source": [
    "df[df[\"depth(meter)\"]>1200]"
   ]
  },
  {
   "cell_type": "code",
   "execution_count": 145,
   "id": "0a4a4780",
   "metadata": {},
   "outputs": [
    {
     "data": {
      "text/html": [
       "<div>\n",
       "<style scoped>\n",
       "    .dataframe tbody tr th:only-of-type {\n",
       "        vertical-align: middle;\n",
       "    }\n",
       "\n",
       "    .dataframe tbody tr th {\n",
       "        vertical-align: top;\n",
       "    }\n",
       "\n",
       "    .dataframe thead th {\n",
       "        text-align: right;\n",
       "    }\n",
       "</style>\n",
       "<table border=\"1\" class=\"dataframe\">\n",
       "  <thead>\n",
       "    <tr style=\"text-align: right;\">\n",
       "      <th></th>\n",
       "      <th>depth(meter)</th>\n",
       "      <th>poro(%)</th>\n",
       "      <th>perm(mD)</th>\n",
       "      <th>Sat(fraction)</th>\n",
       "      <th>Lithology</th>\n",
       "      <th>PoroPermProduct</th>\n",
       "      <th>temp(C)</th>\n",
       "    </tr>\n",
       "  </thead>\n",
       "  <tbody>\n",
       "    <tr>\n",
       "      <th>a</th>\n",
       "      <td>1000</td>\n",
       "      <td>35</td>\n",
       "      <td>500</td>\n",
       "      <td>0.2</td>\n",
       "      <td>limestone</td>\n",
       "      <td>175.0</td>\n",
       "      <td>8.0</td>\n",
       "    </tr>\n",
       "    <tr>\n",
       "      <th>b</th>\n",
       "      <td>1500</td>\n",
       "      <td>30</td>\n",
       "      <td>450</td>\n",
       "      <td>0.4</td>\n",
       "      <td>sandstone</td>\n",
       "      <td>135.0</td>\n",
       "      <td>12.0</td>\n",
       "    </tr>\n",
       "    <tr>\n",
       "      <th>c</th>\n",
       "      <td>2000</td>\n",
       "      <td>25</td>\n",
       "      <td>150</td>\n",
       "      <td>0.3</td>\n",
       "      <td>Shale</td>\n",
       "      <td>37.5</td>\n",
       "      <td>16.0</td>\n",
       "    </tr>\n",
       "  </tbody>\n",
       "</table>\n",
       "</div>"
      ],
      "text/plain": [
       "   depth(meter)  poro(%)  perm(mD)  Sat(fraction)  Lithology  PoroPermProduct  \\\n",
       "a          1000       35       500            0.2  limestone            175.0   \n",
       "b          1500       30       450            0.4  sandstone            135.0   \n",
       "c          2000       25       150            0.3      Shale             37.5   \n",
       "\n",
       "   temp(C)  \n",
       "a      8.0  \n",
       "b     12.0  \n",
       "c     16.0  "
      ]
     },
     "execution_count": 145,
     "metadata": {},
     "output_type": "execute_result"
    }
   ],
   "source": [
    "df"
   ]
  },
  {
   "cell_type": "code",
   "execution_count": 147,
   "id": "fcdcf350",
   "metadata": {},
   "outputs": [
    {
     "data": {
      "text/html": [
       "<div>\n",
       "<style scoped>\n",
       "    .dataframe tbody tr th:only-of-type {\n",
       "        vertical-align: middle;\n",
       "    }\n",
       "\n",
       "    .dataframe tbody tr th {\n",
       "        vertical-align: top;\n",
       "    }\n",
       "\n",
       "    .dataframe thead th {\n",
       "        text-align: right;\n",
       "    }\n",
       "</style>\n",
       "<table border=\"1\" class=\"dataframe\">\n",
       "  <thead>\n",
       "    <tr style=\"text-align: right;\">\n",
       "      <th></th>\n",
       "      <th>depth(meter)</th>\n",
       "      <th>poro(%)</th>\n",
       "      <th>perm(mD)</th>\n",
       "      <th>Sat(fraction)</th>\n",
       "      <th>Lithology</th>\n",
       "      <th>PoroPermProduct</th>\n",
       "      <th>temp(C)</th>\n",
       "    </tr>\n",
       "  </thead>\n",
       "  <tbody>\n",
       "    <tr>\n",
       "      <th>b</th>\n",
       "      <td>1500</td>\n",
       "      <td>30</td>\n",
       "      <td>450</td>\n",
       "      <td>0.4</td>\n",
       "      <td>sandstone</td>\n",
       "      <td>135.0</td>\n",
       "      <td>12.0</td>\n",
       "    </tr>\n",
       "    <tr>\n",
       "      <th>c</th>\n",
       "      <td>2000</td>\n",
       "      <td>25</td>\n",
       "      <td>150</td>\n",
       "      <td>0.3</td>\n",
       "      <td>Shale</td>\n",
       "      <td>37.5</td>\n",
       "      <td>16.0</td>\n",
       "    </tr>\n",
       "  </tbody>\n",
       "</table>\n",
       "</div>"
      ],
      "text/plain": [
       "   depth(meter)  poro(%)  perm(mD)  Sat(fraction)  Lithology  PoroPermProduct  \\\n",
       "b          1500       30       450            0.4  sandstone            135.0   \n",
       "c          2000       25       150            0.3      Shale             37.5   \n",
       "\n",
       "   temp(C)  \n",
       "b     12.0  \n",
       "c     16.0  "
      ]
     },
     "execution_count": 147,
     "metadata": {},
     "output_type": "execute_result"
    }
   ],
   "source": [
    "df[df[\"poro(%)\"]<=30]"
   ]
  },
  {
   "cell_type": "markdown",
   "id": "4d68814e",
   "metadata": {},
   "source": [
    "### Condition 1: Poro >=30\n",
    "### Condition 2: Perm>=500"
   ]
  },
  {
   "cell_type": "code",
   "execution_count": 148,
   "id": "4250f659",
   "metadata": {},
   "outputs": [
    {
     "data": {
      "text/plain": [
       "a     True\n",
       "b     True\n",
       "c    False\n",
       "Name: poro(%), dtype: bool"
      ]
     },
     "execution_count": 148,
     "metadata": {},
     "output_type": "execute_result"
    }
   ],
   "source": [
    "df[\"poro(%)\"]>=30"
   ]
  },
  {
   "cell_type": "code",
   "execution_count": 149,
   "id": "8489ca8e",
   "metadata": {},
   "outputs": [
    {
     "data": {
      "text/plain": [
       "a     True\n",
       "b    False\n",
       "c    False\n",
       "Name: perm(mD), dtype: bool"
      ]
     },
     "execution_count": 149,
     "metadata": {},
     "output_type": "execute_result"
    }
   ],
   "source": [
    "df[\"perm(mD)\"]>=500"
   ]
  },
  {
   "cell_type": "code",
   "execution_count": 153,
   "id": "8086dd5a",
   "metadata": {},
   "outputs": [
    {
     "data": {
      "text/plain": [
       "a     True\n",
       "b    False\n",
       "c    False\n",
       "dtype: bool"
      ]
     },
     "execution_count": 153,
     "metadata": {},
     "output_type": "execute_result"
    }
   ],
   "source": [
    "(df[\"poro(%)\"]>=30) & (df[\"perm(mD)\"]>=500)"
   ]
  },
  {
   "cell_type": "code",
   "execution_count": 156,
   "id": "01e7e8a0",
   "metadata": {},
   "outputs": [
    {
     "data": {
      "text/html": [
       "<div>\n",
       "<style scoped>\n",
       "    .dataframe tbody tr th:only-of-type {\n",
       "        vertical-align: middle;\n",
       "    }\n",
       "\n",
       "    .dataframe tbody tr th {\n",
       "        vertical-align: top;\n",
       "    }\n",
       "\n",
       "    .dataframe thead th {\n",
       "        text-align: right;\n",
       "    }\n",
       "</style>\n",
       "<table border=\"1\" class=\"dataframe\">\n",
       "  <thead>\n",
       "    <tr style=\"text-align: right;\">\n",
       "      <th></th>\n",
       "      <th>depth(meter)</th>\n",
       "      <th>poro(%)</th>\n",
       "      <th>perm(mD)</th>\n",
       "      <th>Sat(fraction)</th>\n",
       "      <th>Lithology</th>\n",
       "      <th>PoroPermProduct</th>\n",
       "      <th>temp(C)</th>\n",
       "    </tr>\n",
       "  </thead>\n",
       "  <tbody>\n",
       "    <tr>\n",
       "      <th>a</th>\n",
       "      <td>1000</td>\n",
       "      <td>35</td>\n",
       "      <td>500</td>\n",
       "      <td>0.2</td>\n",
       "      <td>limestone</td>\n",
       "      <td>175.0</td>\n",
       "      <td>8.0</td>\n",
       "    </tr>\n",
       "  </tbody>\n",
       "</table>\n",
       "</div>"
      ],
      "text/plain": [
       "   depth(meter)  poro(%)  perm(mD)  Sat(fraction)  Lithology  PoroPermProduct  \\\n",
       "a          1000       35       500            0.2  limestone            175.0   \n",
       "\n",
       "   temp(C)  \n",
       "a      8.0  "
      ]
     },
     "execution_count": 156,
     "metadata": {},
     "output_type": "execute_result"
    }
   ],
   "source": [
    "df[(df[\"poro(%)\"]>=30) & (df[\"perm(mD)\"]>=500)]"
   ]
  },
  {
   "cell_type": "code",
   "execution_count": 159,
   "id": "2abfc313",
   "metadata": {},
   "outputs": [
    {
     "name": "stdout",
     "output_type": "stream",
     "text": [
      "Enter Poro(%) Threshold: 30\n",
      "Enter Perm(mD) Threshold: 500\n"
     ]
    },
    {
     "data": {
      "text/html": [
       "<div>\n",
       "<style scoped>\n",
       "    .dataframe tbody tr th:only-of-type {\n",
       "        vertical-align: middle;\n",
       "    }\n",
       "\n",
       "    .dataframe tbody tr th {\n",
       "        vertical-align: top;\n",
       "    }\n",
       "\n",
       "    .dataframe thead th {\n",
       "        text-align: right;\n",
       "    }\n",
       "</style>\n",
       "<table border=\"1\" class=\"dataframe\">\n",
       "  <thead>\n",
       "    <tr style=\"text-align: right;\">\n",
       "      <th></th>\n",
       "      <th>depth(meter)</th>\n",
       "      <th>poro(%)</th>\n",
       "      <th>perm(mD)</th>\n",
       "      <th>Sat(fraction)</th>\n",
       "      <th>Lithology</th>\n",
       "      <th>PoroPermProduct</th>\n",
       "      <th>temp(C)</th>\n",
       "    </tr>\n",
       "  </thead>\n",
       "  <tbody>\n",
       "    <tr>\n",
       "      <th>a</th>\n",
       "      <td>1000</td>\n",
       "      <td>35</td>\n",
       "      <td>500</td>\n",
       "      <td>0.2</td>\n",
       "      <td>limestone</td>\n",
       "      <td>175.0</td>\n",
       "      <td>8.0</td>\n",
       "    </tr>\n",
       "  </tbody>\n",
       "</table>\n",
       "</div>"
      ],
      "text/plain": [
       "   depth(meter)  poro(%)  perm(mD)  Sat(fraction)  Lithology  PoroPermProduct  \\\n",
       "a          1000       35       500            0.2  limestone            175.0   \n",
       "\n",
       "   temp(C)  \n",
       "a      8.0  "
      ]
     },
     "execution_count": 159,
     "metadata": {},
     "output_type": "execute_result"
    }
   ],
   "source": [
    "poro_threshhold = float(input('Enter Poro(%) Threshold: '))\n",
    "perm_threshhold = float(input('Enter Perm(mD) Threshold: '))\n",
    "\n",
    "df[(df['poro(%)'] >= poro_threshhold) & (df['perm(mD)'] >= perm_threshhold)]"
   ]
  },
  {
   "cell_type": "code",
   "execution_count": 160,
   "id": "7228700e",
   "metadata": {},
   "outputs": [
    {
     "data": {
      "text/html": [
       "<div>\n",
       "<style scoped>\n",
       "    .dataframe tbody tr th:only-of-type {\n",
       "        vertical-align: middle;\n",
       "    }\n",
       "\n",
       "    .dataframe tbody tr th {\n",
       "        vertical-align: top;\n",
       "    }\n",
       "\n",
       "    .dataframe thead th {\n",
       "        text-align: right;\n",
       "    }\n",
       "</style>\n",
       "<table border=\"1\" class=\"dataframe\">\n",
       "  <thead>\n",
       "    <tr style=\"text-align: right;\">\n",
       "      <th></th>\n",
       "      <th>depth(meter)</th>\n",
       "      <th>poro(%)</th>\n",
       "      <th>perm(mD)</th>\n",
       "      <th>Sat(fraction)</th>\n",
       "      <th>Lithology</th>\n",
       "      <th>PoroPermProduct</th>\n",
       "      <th>temp(C)</th>\n",
       "    </tr>\n",
       "  </thead>\n",
       "  <tbody>\n",
       "    <tr>\n",
       "      <th>a</th>\n",
       "      <td>1000</td>\n",
       "      <td>35</td>\n",
       "      <td>500</td>\n",
       "      <td>0.2</td>\n",
       "      <td>limestone</td>\n",
       "      <td>175.0</td>\n",
       "      <td>8.0</td>\n",
       "    </tr>\n",
       "    <tr>\n",
       "      <th>b</th>\n",
       "      <td>1500</td>\n",
       "      <td>30</td>\n",
       "      <td>450</td>\n",
       "      <td>0.4</td>\n",
       "      <td>sandstone</td>\n",
       "      <td>135.0</td>\n",
       "      <td>12.0</td>\n",
       "    </tr>\n",
       "    <tr>\n",
       "      <th>c</th>\n",
       "      <td>2000</td>\n",
       "      <td>25</td>\n",
       "      <td>150</td>\n",
       "      <td>0.3</td>\n",
       "      <td>Shale</td>\n",
       "      <td>37.5</td>\n",
       "      <td>16.0</td>\n",
       "    </tr>\n",
       "  </tbody>\n",
       "</table>\n",
       "</div>"
      ],
      "text/plain": [
       "   depth(meter)  poro(%)  perm(mD)  Sat(fraction)  Lithology  PoroPermProduct  \\\n",
       "a          1000       35       500            0.2  limestone            175.0   \n",
       "b          1500       30       450            0.4  sandstone            135.0   \n",
       "c          2000       25       150            0.3      Shale             37.5   \n",
       "\n",
       "   temp(C)  \n",
       "a      8.0  \n",
       "b     12.0  \n",
       "c     16.0  "
      ]
     },
     "execution_count": 160,
     "metadata": {},
     "output_type": "execute_result"
    }
   ],
   "source": [
    "df"
   ]
  },
  {
   "cell_type": "code",
   "execution_count": 161,
   "id": "9140c011",
   "metadata": {},
   "outputs": [],
   "source": [
    "#Input output"
   ]
  },
  {
   "cell_type": "code",
   "execution_count": 162,
   "id": "15fe4062",
   "metadata": {},
   "outputs": [],
   "source": [
    "df.to_csv(\"PoroPemData.csv\")"
   ]
  },
  {
   "cell_type": "code",
   "execution_count": 165,
   "id": "65e3dade",
   "metadata": {},
   "outputs": [],
   "source": [
    "df_new = pd.read_csv(\"PoroPemData.csv\",index_col=0)"
   ]
  },
  {
   "cell_type": "code",
   "execution_count": 166,
   "id": "c1c80030",
   "metadata": {},
   "outputs": [
    {
     "data": {
      "text/html": [
       "<div>\n",
       "<style scoped>\n",
       "    .dataframe tbody tr th:only-of-type {\n",
       "        vertical-align: middle;\n",
       "    }\n",
       "\n",
       "    .dataframe tbody tr th {\n",
       "        vertical-align: top;\n",
       "    }\n",
       "\n",
       "    .dataframe thead th {\n",
       "        text-align: right;\n",
       "    }\n",
       "</style>\n",
       "<table border=\"1\" class=\"dataframe\">\n",
       "  <thead>\n",
       "    <tr style=\"text-align: right;\">\n",
       "      <th></th>\n",
       "      <th>depth(meter)</th>\n",
       "      <th>poro(%)</th>\n",
       "      <th>perm(mD)</th>\n",
       "      <th>Sat(fraction)</th>\n",
       "      <th>Lithology</th>\n",
       "      <th>PoroPermProduct</th>\n",
       "      <th>temp(C)</th>\n",
       "    </tr>\n",
       "  </thead>\n",
       "  <tbody>\n",
       "    <tr>\n",
       "      <th>a</th>\n",
       "      <td>1000</td>\n",
       "      <td>35</td>\n",
       "      <td>500</td>\n",
       "      <td>0.20</td>\n",
       "      <td>limestone</td>\n",
       "      <td>175.0</td>\n",
       "      <td>8</td>\n",
       "    </tr>\n",
       "    <tr>\n",
       "      <th>b</th>\n",
       "      <td>1500</td>\n",
       "      <td>30</td>\n",
       "      <td>450</td>\n",
       "      <td>0.40</td>\n",
       "      <td>sandstone</td>\n",
       "      <td>135.0</td>\n",
       "      <td>12</td>\n",
       "    </tr>\n",
       "    <tr>\n",
       "      <th>c</th>\n",
       "      <td>2000</td>\n",
       "      <td>25</td>\n",
       "      <td>150</td>\n",
       "      <td>0.30</td>\n",
       "      <td>Shale</td>\n",
       "      <td>37.5</td>\n",
       "      <td>16</td>\n",
       "    </tr>\n",
       "    <tr>\n",
       "      <th>d</th>\n",
       "      <td>2500</td>\n",
       "      <td>20</td>\n",
       "      <td>100</td>\n",
       "      <td>0.12</td>\n",
       "      <td>lst</td>\n",
       "      <td>21.0</td>\n",
       "      <td>20</td>\n",
       "    </tr>\n",
       "  </tbody>\n",
       "</table>\n",
       "</div>"
      ],
      "text/plain": [
       "    depth(meter)  poro(%)  perm(mD)  Sat(fraction)  Lithology  \\\n",
       "a           1000       35       500           0.20  limestone   \n",
       "b           1500       30       450           0.40  sandstone   \n",
       "c           2000       25       150           0.30      Shale   \n",
       "d           2500       20       100           0.12        lst   \n",
       "\n",
       "    PoroPermProduct  temp(C)  \n",
       "a             175.0        8  \n",
       "b             135.0       12  \n",
       "c              37.5       16  \n",
       "d              21.0       20  "
      ]
     },
     "execution_count": 166,
     "metadata": {},
     "output_type": "execute_result"
    }
   ],
   "source": [
    "df_new"
   ]
  },
  {
   "cell_type": "code",
   "execution_count": null,
   "id": "6ef6b860",
   "metadata": {},
   "outputs": [],
   "source": []
  }
 ],
 "metadata": {
  "kernelspec": {
   "display_name": "Python 3",
   "language": "python",
   "name": "python3"
  },
  "language_info": {
   "codemirror_mode": {
    "name": "ipython",
    "version": 3
   },
   "file_extension": ".py",
   "mimetype": "text/x-python",
   "name": "python",
   "nbconvert_exporter": "python",
   "pygments_lexer": "ipython3",
   "version": "3.8.8"
  }
 },
 "nbformat": 4,
 "nbformat_minor": 5
}
