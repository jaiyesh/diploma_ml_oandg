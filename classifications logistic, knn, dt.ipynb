{
 "cells": [
  {
   "cell_type": "code",
   "execution_count": 1,
   "metadata": {},
   "outputs": [],
   "source": [
    "import numpy as np\n",
    "import pandas as pd\n",
    "import seaborn as sns\n",
    "%matplotlib inline"
   ]
  },
  {
   "cell_type": "code",
   "execution_count": 2,
   "metadata": {},
   "outputs": [],
   "source": [
    "phi_s = np.abs(np.random.normal(0.25,0.01,300))\n",
    "swc_s = np.abs(np.random.normal(0.1,0.01,300))\n",
    "k_s = 8.58102*(phi_s**(4.4))/(swc_s**2)"
   ]
  },
  {
   "cell_type": "code",
   "execution_count": 3,
   "metadata": {},
   "outputs": [],
   "source": [
    "phi_l = np.abs(np.random.normal(0.20,0.01,300))\n",
    "swc_l = np.abs(np.random.normal(0.1,0.01,300))\n",
    "k_l = 8.58102*(phi_l**(4.4))/(swc_l**2)"
   ]
  },
  {
   "cell_type": "code",
   "execution_count": 4,
   "metadata": {},
   "outputs": [
    {
     "data": {
      "text/html": [
       "<div>\n",
       "<style scoped>\n",
       "    .dataframe tbody tr th:only-of-type {\n",
       "        vertical-align: middle;\n",
       "    }\n",
       "\n",
       "    .dataframe tbody tr th {\n",
       "        vertical-align: top;\n",
       "    }\n",
       "\n",
       "    .dataframe thead th {\n",
       "        text-align: right;\n",
       "    }\n",
       "</style>\n",
       "<table border=\"1\" class=\"dataframe\">\n",
       "  <thead>\n",
       "    <tr style=\"text-align: right;\">\n",
       "      <th></th>\n",
       "      <th>Porosity</th>\n",
       "      <th>Swc</th>\n",
       "      <th>Permeability(D)</th>\n",
       "      <th>label</th>\n",
       "      <th>lithology</th>\n",
       "    </tr>\n",
       "  </thead>\n",
       "  <tbody>\n",
       "    <tr>\n",
       "      <th>0</th>\n",
       "      <td>0.252444</td>\n",
       "      <td>0.108456</td>\n",
       "      <td>1.708277</td>\n",
       "      <td>1</td>\n",
       "      <td>Sandstone</td>\n",
       "    </tr>\n",
       "    <tr>\n",
       "      <th>1</th>\n",
       "      <td>0.259471</td>\n",
       "      <td>0.096451</td>\n",
       "      <td>2.437342</td>\n",
       "      <td>1</td>\n",
       "      <td>Sandstone</td>\n",
       "    </tr>\n",
       "    <tr>\n",
       "      <th>2</th>\n",
       "      <td>0.233486</td>\n",
       "      <td>0.108631</td>\n",
       "      <td>1.207753</td>\n",
       "      <td>1</td>\n",
       "      <td>Sandstone</td>\n",
       "    </tr>\n",
       "    <tr>\n",
       "      <th>3</th>\n",
       "      <td>0.228984</td>\n",
       "      <td>0.092436</td>\n",
       "      <td>1.531081</td>\n",
       "      <td>1</td>\n",
       "      <td>Sandstone</td>\n",
       "    </tr>\n",
       "    <tr>\n",
       "      <th>4</th>\n",
       "      <td>0.237101</td>\n",
       "      <td>0.096484</td>\n",
       "      <td>1.638055</td>\n",
       "      <td>1</td>\n",
       "      <td>Sandstone</td>\n",
       "    </tr>\n",
       "    <tr>\n",
       "      <th>...</th>\n",
       "      <td>...</td>\n",
       "      <td>...</td>\n",
       "      <td>...</td>\n",
       "      <td>...</td>\n",
       "      <td>...</td>\n",
       "    </tr>\n",
       "    <tr>\n",
       "      <th>295</th>\n",
       "      <td>0.244204</td>\n",
       "      <td>0.097844</td>\n",
       "      <td>1.813761</td>\n",
       "      <td>1</td>\n",
       "      <td>Sandstone</td>\n",
       "    </tr>\n",
       "    <tr>\n",
       "      <th>296</th>\n",
       "      <td>0.245190</td>\n",
       "      <td>0.114704</td>\n",
       "      <td>1.343361</td>\n",
       "      <td>1</td>\n",
       "      <td>Sandstone</td>\n",
       "    </tr>\n",
       "    <tr>\n",
       "      <th>297</th>\n",
       "      <td>0.267093</td>\n",
       "      <td>0.103317</td>\n",
       "      <td>2.412735</td>\n",
       "      <td>1</td>\n",
       "      <td>Sandstone</td>\n",
       "    </tr>\n",
       "    <tr>\n",
       "      <th>298</th>\n",
       "      <td>0.240848</td>\n",
       "      <td>0.095838</td>\n",
       "      <td>1.778816</td>\n",
       "      <td>1</td>\n",
       "      <td>Sandstone</td>\n",
       "    </tr>\n",
       "    <tr>\n",
       "      <th>299</th>\n",
       "      <td>0.257374</td>\n",
       "      <td>0.103859</td>\n",
       "      <td>2.028293</td>\n",
       "      <td>1</td>\n",
       "      <td>Sandstone</td>\n",
       "    </tr>\n",
       "  </tbody>\n",
       "</table>\n",
       "<p>300 rows × 5 columns</p>\n",
       "</div>"
      ],
      "text/plain": [
       "     Porosity       Swc  Permeability(D)  label  lithology\n",
       "0    0.252444  0.108456         1.708277      1  Sandstone\n",
       "1    0.259471  0.096451         2.437342      1  Sandstone\n",
       "2    0.233486  0.108631         1.207753      1  Sandstone\n",
       "3    0.228984  0.092436         1.531081      1  Sandstone\n",
       "4    0.237101  0.096484         1.638055      1  Sandstone\n",
       "..        ...       ...              ...    ...        ...\n",
       "295  0.244204  0.097844         1.813761      1  Sandstone\n",
       "296  0.245190  0.114704         1.343361      1  Sandstone\n",
       "297  0.267093  0.103317         2.412735      1  Sandstone\n",
       "298  0.240848  0.095838         1.778816      1  Sandstone\n",
       "299  0.257374  0.103859         2.028293      1  Sandstone\n",
       "\n",
       "[300 rows x 5 columns]"
      ]
     },
     "execution_count": 4,
     "metadata": {},
     "output_type": "execute_result"
    }
   ],
   "source": [
    "#DataFrame Sandstone\n",
    "dfS = pd.DataFrame({'Porosity':phi_s , 'Swc':swc_s, 'Permeability(D)':k_s})\n",
    "dfS['label'] = 1\n",
    "label_s = np.array(dfS['label'])\n",
    "dfS['lithology'] = \"Sandstone\"\n",
    "lithologyS = np.array(dfS['lithology'])\n",
    "dfS"
   ]
  },
  {
   "cell_type": "code",
   "execution_count": 7,
   "metadata": {},
   "outputs": [
    {
     "data": {
      "text/html": [
       "<div>\n",
       "<style scoped>\n",
       "    .dataframe tbody tr th:only-of-type {\n",
       "        vertical-align: middle;\n",
       "    }\n",
       "\n",
       "    .dataframe tbody tr th {\n",
       "        vertical-align: top;\n",
       "    }\n",
       "\n",
       "    .dataframe thead th {\n",
       "        text-align: right;\n",
       "    }\n",
       "</style>\n",
       "<table border=\"1\" class=\"dataframe\">\n",
       "  <thead>\n",
       "    <tr style=\"text-align: right;\">\n",
       "      <th></th>\n",
       "      <th>Porosity</th>\n",
       "      <th>Swc</th>\n",
       "      <th>Permeability(D)</th>\n",
       "      <th>label</th>\n",
       "      <th>lithology</th>\n",
       "    </tr>\n",
       "  </thead>\n",
       "  <tbody>\n",
       "    <tr>\n",
       "      <th>0</th>\n",
       "      <td>0.203788</td>\n",
       "      <td>0.103069</td>\n",
       "      <td>0.737347</td>\n",
       "      <td>0</td>\n",
       "      <td>Limestone</td>\n",
       "    </tr>\n",
       "    <tr>\n",
       "      <th>1</th>\n",
       "      <td>0.205941</td>\n",
       "      <td>0.116977</td>\n",
       "      <td>0.599519</td>\n",
       "      <td>0</td>\n",
       "      <td>Limestone</td>\n",
       "    </tr>\n",
       "    <tr>\n",
       "      <th>2</th>\n",
       "      <td>0.198535</td>\n",
       "      <td>0.106023</td>\n",
       "      <td>0.621190</td>\n",
       "      <td>0</td>\n",
       "      <td>Limestone</td>\n",
       "    </tr>\n",
       "    <tr>\n",
       "      <th>3</th>\n",
       "      <td>0.195534</td>\n",
       "      <td>0.116466</td>\n",
       "      <td>0.481410</td>\n",
       "      <td>0</td>\n",
       "      <td>Limestone</td>\n",
       "    </tr>\n",
       "    <tr>\n",
       "      <th>4</th>\n",
       "      <td>0.206969</td>\n",
       "      <td>0.096583</td>\n",
       "      <td>0.898905</td>\n",
       "      <td>0</td>\n",
       "      <td>Limestone</td>\n",
       "    </tr>\n",
       "    <tr>\n",
       "      <th>...</th>\n",
       "      <td>...</td>\n",
       "      <td>...</td>\n",
       "      <td>...</td>\n",
       "      <td>...</td>\n",
       "      <td>...</td>\n",
       "    </tr>\n",
       "    <tr>\n",
       "      <th>295</th>\n",
       "      <td>0.192627</td>\n",
       "      <td>0.110035</td>\n",
       "      <td>0.504926</td>\n",
       "      <td>0</td>\n",
       "      <td>Limestone</td>\n",
       "    </tr>\n",
       "    <tr>\n",
       "      <th>296</th>\n",
       "      <td>0.202454</td>\n",
       "      <td>0.105919</td>\n",
       "      <td>0.678310</td>\n",
       "      <td>0</td>\n",
       "      <td>Limestone</td>\n",
       "    </tr>\n",
       "    <tr>\n",
       "      <th>297</th>\n",
       "      <td>0.205594</td>\n",
       "      <td>0.103403</td>\n",
       "      <td>0.761581</td>\n",
       "      <td>0</td>\n",
       "      <td>Limestone</td>\n",
       "    </tr>\n",
       "    <tr>\n",
       "      <th>298</th>\n",
       "      <td>0.186624</td>\n",
       "      <td>0.105314</td>\n",
       "      <td>0.479537</td>\n",
       "      <td>0</td>\n",
       "      <td>Limestone</td>\n",
       "    </tr>\n",
       "    <tr>\n",
       "      <th>299</th>\n",
       "      <td>0.208308</td>\n",
       "      <td>0.097324</td>\n",
       "      <td>0.910777</td>\n",
       "      <td>0</td>\n",
       "      <td>Limestone</td>\n",
       "    </tr>\n",
       "  </tbody>\n",
       "</table>\n",
       "<p>300 rows × 5 columns</p>\n",
       "</div>"
      ],
      "text/plain": [
       "     Porosity       Swc  Permeability(D)  label  lithology\n",
       "0    0.203788  0.103069         0.737347      0  Limestone\n",
       "1    0.205941  0.116977         0.599519      0  Limestone\n",
       "2    0.198535  0.106023         0.621190      0  Limestone\n",
       "3    0.195534  0.116466         0.481410      0  Limestone\n",
       "4    0.206969  0.096583         0.898905      0  Limestone\n",
       "..        ...       ...              ...    ...        ...\n",
       "295  0.192627  0.110035         0.504926      0  Limestone\n",
       "296  0.202454  0.105919         0.678310      0  Limestone\n",
       "297  0.205594  0.103403         0.761581      0  Limestone\n",
       "298  0.186624  0.105314         0.479537      0  Limestone\n",
       "299  0.208308  0.097324         0.910777      0  Limestone\n",
       "\n",
       "[300 rows x 5 columns]"
      ]
     },
     "execution_count": 7,
     "metadata": {},
     "output_type": "execute_result"
    }
   ],
   "source": [
    "#DataFrame Limestone\n",
    "dfL = pd.DataFrame({'Porosity':phi_l , 'Swc':swc_l, 'Permeability(D)':k_l})\n",
    "dfL['label'] = 0\n",
    "label_l = np.array(dfL['label'])\n",
    "dfL['lithology'] = \"Limestone\"\n",
    "lithologyL = np.array(dfL['lithology'])\n",
    "dfL"
   ]
  },
  {
   "cell_type": "code",
   "execution_count": 8,
   "metadata": {},
   "outputs": [
    {
     "data": {
      "text/html": [
       "<div>\n",
       "<style scoped>\n",
       "    .dataframe tbody tr th:only-of-type {\n",
       "        vertical-align: middle;\n",
       "    }\n",
       "\n",
       "    .dataframe tbody tr th {\n",
       "        vertical-align: top;\n",
       "    }\n",
       "\n",
       "    .dataframe thead th {\n",
       "        text-align: right;\n",
       "    }\n",
       "</style>\n",
       "<table border=\"1\" class=\"dataframe\">\n",
       "  <thead>\n",
       "    <tr style=\"text-align: right;\">\n",
       "      <th></th>\n",
       "      <th>Porosity</th>\n",
       "      <th>Permeability(D)</th>\n",
       "      <th>Swc</th>\n",
       "      <th>Label</th>\n",
       "      <th>Lithology</th>\n",
       "    </tr>\n",
       "  </thead>\n",
       "  <tbody>\n",
       "    <tr>\n",
       "      <th>135</th>\n",
       "      <td>0.261838</td>\n",
       "      <td>1.847371</td>\n",
       "      <td>0.113023</td>\n",
       "      <td>1</td>\n",
       "      <td>Sandstone</td>\n",
       "    </tr>\n",
       "    <tr>\n",
       "      <th>464</th>\n",
       "      <td>0.211287</td>\n",
       "      <td>1.061215</td>\n",
       "      <td>0.093022</td>\n",
       "      <td>0</td>\n",
       "      <td>Limestone</td>\n",
       "    </tr>\n",
       "    <tr>\n",
       "      <th>204</th>\n",
       "      <td>0.267418</td>\n",
       "      <td>2.547724</td>\n",
       "      <td>0.100812</td>\n",
       "      <td>1</td>\n",
       "      <td>Sandstone</td>\n",
       "    </tr>\n",
       "    <tr>\n",
       "      <th>513</th>\n",
       "      <td>0.189673</td>\n",
       "      <td>0.521953</td>\n",
       "      <td>0.104608</td>\n",
       "      <td>0</td>\n",
       "      <td>Limestone</td>\n",
       "    </tr>\n",
       "    <tr>\n",
       "      <th>258</th>\n",
       "      <td>0.251913</td>\n",
       "      <td>2.263732</td>\n",
       "      <td>0.093779</td>\n",
       "      <td>1</td>\n",
       "      <td>Sandstone</td>\n",
       "    </tr>\n",
       "  </tbody>\n",
       "</table>\n",
       "</div>"
      ],
      "text/plain": [
       "     Porosity  Permeability(D)       Swc  Label  Lithology\n",
       "135  0.261838         1.847371  0.113023      1  Sandstone\n",
       "464  0.211287         1.061215  0.093022      0  Limestone\n",
       "204  0.267418         2.547724  0.100812      1  Sandstone\n",
       "513  0.189673         0.521953  0.104608      0  Limestone\n",
       "258  0.251913         2.263732  0.093779      1  Sandstone"
      ]
     },
     "execution_count": 8,
     "metadata": {},
     "output_type": "execute_result"
    }
   ],
   "source": [
    "#Combining DataFrame of sandstone and limestone and shuffling\n",
    "phi = np.append(phi_s,phi_l)\n",
    "k = np.append(k_s,k_l)\n",
    "swc = np.append(swc_s,swc_l)\n",
    "label = np.append(label_s,label_l)\n",
    "lithology = np.append(lithologyS,lithologyL)\n",
    "df = pd.DataFrame({'Porosity':phi ,  'Permeability(D)':k,'Swc':swc, 'Label':label, \"Lithology\":lithology})\n",
    "#Shuffling data\n",
    "df = df.sample(frac = 1) \n",
    "df.head()"
   ]
  },
  {
   "cell_type": "code",
   "execution_count": 10,
   "metadata": {},
   "outputs": [],
   "source": [
    "df = df.reset_index()"
   ]
  },
  {
   "cell_type": "code",
   "execution_count": 12,
   "metadata": {},
   "outputs": [],
   "source": [
    "df = df.drop(\"index\",axis =1)"
   ]
  },
  {
   "cell_type": "code",
   "execution_count": 13,
   "metadata": {},
   "outputs": [
    {
     "data": {
      "text/html": [
       "<div>\n",
       "<style scoped>\n",
       "    .dataframe tbody tr th:only-of-type {\n",
       "        vertical-align: middle;\n",
       "    }\n",
       "\n",
       "    .dataframe tbody tr th {\n",
       "        vertical-align: top;\n",
       "    }\n",
       "\n",
       "    .dataframe thead th {\n",
       "        text-align: right;\n",
       "    }\n",
       "</style>\n",
       "<table border=\"1\" class=\"dataframe\">\n",
       "  <thead>\n",
       "    <tr style=\"text-align: right;\">\n",
       "      <th></th>\n",
       "      <th>Porosity</th>\n",
       "      <th>Permeability(D)</th>\n",
       "      <th>Swc</th>\n",
       "      <th>Label</th>\n",
       "      <th>Lithology</th>\n",
       "    </tr>\n",
       "  </thead>\n",
       "  <tbody>\n",
       "    <tr>\n",
       "      <th>0</th>\n",
       "      <td>0.261838</td>\n",
       "      <td>1.847371</td>\n",
       "      <td>0.113023</td>\n",
       "      <td>1</td>\n",
       "      <td>Sandstone</td>\n",
       "    </tr>\n",
       "    <tr>\n",
       "      <th>1</th>\n",
       "      <td>0.211287</td>\n",
       "      <td>1.061215</td>\n",
       "      <td>0.093022</td>\n",
       "      <td>0</td>\n",
       "      <td>Limestone</td>\n",
       "    </tr>\n",
       "    <tr>\n",
       "      <th>2</th>\n",
       "      <td>0.267418</td>\n",
       "      <td>2.547724</td>\n",
       "      <td>0.100812</td>\n",
       "      <td>1</td>\n",
       "      <td>Sandstone</td>\n",
       "    </tr>\n",
       "    <tr>\n",
       "      <th>3</th>\n",
       "      <td>0.189673</td>\n",
       "      <td>0.521953</td>\n",
       "      <td>0.104608</td>\n",
       "      <td>0</td>\n",
       "      <td>Limestone</td>\n",
       "    </tr>\n",
       "    <tr>\n",
       "      <th>4</th>\n",
       "      <td>0.251913</td>\n",
       "      <td>2.263732</td>\n",
       "      <td>0.093779</td>\n",
       "      <td>1</td>\n",
       "      <td>Sandstone</td>\n",
       "    </tr>\n",
       "    <tr>\n",
       "      <th>...</th>\n",
       "      <td>...</td>\n",
       "      <td>...</td>\n",
       "      <td>...</td>\n",
       "      <td>...</td>\n",
       "      <td>...</td>\n",
       "    </tr>\n",
       "    <tr>\n",
       "      <th>595</th>\n",
       "      <td>0.205622</td>\n",
       "      <td>0.907546</td>\n",
       "      <td>0.094752</td>\n",
       "      <td>0</td>\n",
       "      <td>Limestone</td>\n",
       "    </tr>\n",
       "    <tr>\n",
       "      <th>596</th>\n",
       "      <td>0.205706</td>\n",
       "      <td>0.984683</td>\n",
       "      <td>0.091047</td>\n",
       "      <td>0</td>\n",
       "      <td>Limestone</td>\n",
       "    </tr>\n",
       "    <tr>\n",
       "      <th>597</th>\n",
       "      <td>0.257950</td>\n",
       "      <td>2.668588</td>\n",
       "      <td>0.090992</td>\n",
       "      <td>1</td>\n",
       "      <td>Sandstone</td>\n",
       "    </tr>\n",
       "    <tr>\n",
       "      <th>598</th>\n",
       "      <td>0.243762</td>\n",
       "      <td>1.333738</td>\n",
       "      <td>0.113648</td>\n",
       "      <td>1</td>\n",
       "      <td>Sandstone</td>\n",
       "    </tr>\n",
       "    <tr>\n",
       "      <th>599</th>\n",
       "      <td>0.255476</td>\n",
       "      <td>1.710365</td>\n",
       "      <td>0.111274</td>\n",
       "      <td>1</td>\n",
       "      <td>Sandstone</td>\n",
       "    </tr>\n",
       "  </tbody>\n",
       "</table>\n",
       "<p>600 rows × 5 columns</p>\n",
       "</div>"
      ],
      "text/plain": [
       "     Porosity  Permeability(D)       Swc  Label  Lithology\n",
       "0    0.261838         1.847371  0.113023      1  Sandstone\n",
       "1    0.211287         1.061215  0.093022      0  Limestone\n",
       "2    0.267418         2.547724  0.100812      1  Sandstone\n",
       "3    0.189673         0.521953  0.104608      0  Limestone\n",
       "4    0.251913         2.263732  0.093779      1  Sandstone\n",
       "..        ...              ...       ...    ...        ...\n",
       "595  0.205622         0.907546  0.094752      0  Limestone\n",
       "596  0.205706         0.984683  0.091047      0  Limestone\n",
       "597  0.257950         2.668588  0.090992      1  Sandstone\n",
       "598  0.243762         1.333738  0.113648      1  Sandstone\n",
       "599  0.255476         1.710365  0.111274      1  Sandstone\n",
       "\n",
       "[600 rows x 5 columns]"
      ]
     },
     "execution_count": 13,
     "metadata": {},
     "output_type": "execute_result"
    }
   ],
   "source": [
    "df"
   ]
  },
  {
   "cell_type": "code",
   "execution_count": 14,
   "metadata": {},
   "outputs": [
    {
     "data": {
      "text/html": [
       "<div>\n",
       "<style scoped>\n",
       "    .dataframe tbody tr th:only-of-type {\n",
       "        vertical-align: middle;\n",
       "    }\n",
       "\n",
       "    .dataframe tbody tr th {\n",
       "        vertical-align: top;\n",
       "    }\n",
       "\n",
       "    .dataframe thead th {\n",
       "        text-align: right;\n",
       "    }\n",
       "</style>\n",
       "<table border=\"1\" class=\"dataframe\">\n",
       "  <thead>\n",
       "    <tr style=\"text-align: right;\">\n",
       "      <th></th>\n",
       "      <th>Porosity</th>\n",
       "      <th>Permeability(D)</th>\n",
       "      <th>Swc</th>\n",
       "      <th>Label</th>\n",
       "    </tr>\n",
       "  </thead>\n",
       "  <tbody>\n",
       "    <tr>\n",
       "      <th>count</th>\n",
       "      <td>600.000000</td>\n",
       "      <td>600.000000</td>\n",
       "      <td>600.000000</td>\n",
       "      <td>600.000000</td>\n",
       "    </tr>\n",
       "    <tr>\n",
       "      <th>mean</th>\n",
       "      <td>0.223964</td>\n",
       "      <td>1.349780</td>\n",
       "      <td>0.100097</td>\n",
       "      <td>0.500000</td>\n",
       "    </tr>\n",
       "    <tr>\n",
       "      <th>std</th>\n",
       "      <td>0.026607</td>\n",
       "      <td>0.735974</td>\n",
       "      <td>0.009654</td>\n",
       "      <td>0.500417</td>\n",
       "    </tr>\n",
       "    <tr>\n",
       "      <th>min</th>\n",
       "      <td>0.167694</td>\n",
       "      <td>0.286399</td>\n",
       "      <td>0.071284</td>\n",
       "      <td>0.000000</td>\n",
       "    </tr>\n",
       "    <tr>\n",
       "      <th>25%</th>\n",
       "      <td>0.199149</td>\n",
       "      <td>0.718512</td>\n",
       "      <td>0.093769</td>\n",
       "      <td>0.000000</td>\n",
       "    </tr>\n",
       "    <tr>\n",
       "      <th>50%</th>\n",
       "      <td>0.224122</td>\n",
       "      <td>1.133284</td>\n",
       "      <td>0.099898</td>\n",
       "      <td>0.500000</td>\n",
       "    </tr>\n",
       "    <tr>\n",
       "      <th>75%</th>\n",
       "      <td>0.248712</td>\n",
       "      <td>1.860554</td>\n",
       "      <td>0.106155</td>\n",
       "      <td>1.000000</td>\n",
       "    </tr>\n",
       "    <tr>\n",
       "      <th>max</th>\n",
       "      <td>0.273113</td>\n",
       "      <td>4.152439</td>\n",
       "      <td>0.131027</td>\n",
       "      <td>1.000000</td>\n",
       "    </tr>\n",
       "  </tbody>\n",
       "</table>\n",
       "</div>"
      ],
      "text/plain": [
       "         Porosity  Permeability(D)         Swc       Label\n",
       "count  600.000000       600.000000  600.000000  600.000000\n",
       "mean     0.223964         1.349780    0.100097    0.500000\n",
       "std      0.026607         0.735974    0.009654    0.500417\n",
       "min      0.167694         0.286399    0.071284    0.000000\n",
       "25%      0.199149         0.718512    0.093769    0.000000\n",
       "50%      0.224122         1.133284    0.099898    0.500000\n",
       "75%      0.248712         1.860554    0.106155    1.000000\n",
       "max      0.273113         4.152439    0.131027    1.000000"
      ]
     },
     "execution_count": 14,
     "metadata": {},
     "output_type": "execute_result"
    }
   ],
   "source": [
    "# df.info()\n",
    "df.describe()"
   ]
  },
  {
   "cell_type": "code",
   "execution_count": 15,
   "metadata": {},
   "outputs": [
    {
     "data": {
      "text/html": [
       "<div>\n",
       "<style scoped>\n",
       "    .dataframe tbody tr th:only-of-type {\n",
       "        vertical-align: middle;\n",
       "    }\n",
       "\n",
       "    .dataframe tbody tr th {\n",
       "        vertical-align: top;\n",
       "    }\n",
       "\n",
       "    .dataframe thead th {\n",
       "        text-align: right;\n",
       "    }\n",
       "</style>\n",
       "<table border=\"1\" class=\"dataframe\">\n",
       "  <thead>\n",
       "    <tr style=\"text-align: right;\">\n",
       "      <th></th>\n",
       "      <th>Porosity</th>\n",
       "      <th>Permeability(D)</th>\n",
       "      <th>Swc</th>\n",
       "      <th>Label</th>\n",
       "      <th>Lithology</th>\n",
       "    </tr>\n",
       "  </thead>\n",
       "  <tbody>\n",
       "    <tr>\n",
       "      <th>0</th>\n",
       "      <td>0.261838</td>\n",
       "      <td>1.847371</td>\n",
       "      <td>0.113023</td>\n",
       "      <td>1</td>\n",
       "      <td>Sandstone</td>\n",
       "    </tr>\n",
       "    <tr>\n",
       "      <th>1</th>\n",
       "      <td>0.211287</td>\n",
       "      <td>1.061215</td>\n",
       "      <td>0.093022</td>\n",
       "      <td>0</td>\n",
       "      <td>Limestone</td>\n",
       "    </tr>\n",
       "    <tr>\n",
       "      <th>2</th>\n",
       "      <td>0.267418</td>\n",
       "      <td>2.547724</td>\n",
       "      <td>0.100812</td>\n",
       "      <td>1</td>\n",
       "      <td>Sandstone</td>\n",
       "    </tr>\n",
       "    <tr>\n",
       "      <th>3</th>\n",
       "      <td>0.189673</td>\n",
       "      <td>0.521953</td>\n",
       "      <td>0.104608</td>\n",
       "      <td>0</td>\n",
       "      <td>Limestone</td>\n",
       "    </tr>\n",
       "    <tr>\n",
       "      <th>4</th>\n",
       "      <td>0.251913</td>\n",
       "      <td>2.263732</td>\n",
       "      <td>0.093779</td>\n",
       "      <td>1</td>\n",
       "      <td>Sandstone</td>\n",
       "    </tr>\n",
       "  </tbody>\n",
       "</table>\n",
       "</div>"
      ],
      "text/plain": [
       "   Porosity  Permeability(D)       Swc  Label  Lithology\n",
       "0  0.261838         1.847371  0.113023      1  Sandstone\n",
       "1  0.211287         1.061215  0.093022      0  Limestone\n",
       "2  0.267418         2.547724  0.100812      1  Sandstone\n",
       "3  0.189673         0.521953  0.104608      0  Limestone\n",
       "4  0.251913         2.263732  0.093779      1  Sandstone"
      ]
     },
     "execution_count": 15,
     "metadata": {},
     "output_type": "execute_result"
    }
   ],
   "source": [
    "df.head()"
   ]
  },
  {
   "cell_type": "code",
   "execution_count": 16,
   "metadata": {},
   "outputs": [],
   "source": [
    "X = np.array([df['Porosity'] , df['Permeability(D)'],df[\"Swc\"]])"
   ]
  },
  {
   "cell_type": "code",
   "execution_count": 17,
   "metadata": {},
   "outputs": [],
   "source": [
    "y = np.array(df['Label']).reshape(1,600)"
   ]
  },
  {
   "cell_type": "code",
   "execution_count": 18,
   "metadata": {},
   "outputs": [
    {
     "data": {
      "text/plain": [
       "array([[0.26183845, 0.21128675, 0.26741833, ..., 0.25794966, 0.24376248,\n",
       "        0.25547565],\n",
       "       [1.8473712 , 1.06121525, 2.54772359, ..., 2.66858834, 1.33373805,\n",
       "        1.71036536],\n",
       "       [0.11302276, 0.09302221, 0.10081238, ..., 0.09099249, 0.11364787,\n",
       "        0.11127406]])"
      ]
     },
     "execution_count": 18,
     "metadata": {},
     "output_type": "execute_result"
    }
   ],
   "source": [
    "X"
   ]
  },
  {
   "cell_type": "code",
   "execution_count": 19,
   "metadata": {},
   "outputs": [
    {
     "data": {
      "text/plain": [
       "(3, 600)"
      ]
     },
     "execution_count": 19,
     "metadata": {},
     "output_type": "execute_result"
    }
   ],
   "source": [
    "X.shape"
   ]
  },
  {
   "cell_type": "code",
   "execution_count": 20,
   "metadata": {},
   "outputs": [
    {
     "data": {
      "text/plain": [
       "(1, 600)"
      ]
     },
     "execution_count": 20,
     "metadata": {},
     "output_type": "execute_result"
    }
   ],
   "source": [
    "y.shape"
   ]
  },
  {
   "cell_type": "code",
   "execution_count": null,
   "metadata": {},
   "outputs": [],
   "source": []
  },
  {
   "cell_type": "code",
   "execution_count": 21,
   "metadata": {},
   "outputs": [],
   "source": [
    "def sigma(z):\n",
    "    \n",
    "    s = 1/(1 + np.exp(-z))\n",
    "    \n",
    "    return s"
   ]
  },
  {
   "cell_type": "code",
   "execution_count": 24,
   "metadata": {},
   "outputs": [],
   "source": [
    "def initialize(X):\n",
    "    #\n",
    "    #To initialize the weights and bias.\n",
    "    #Here two features so nx = 2\n",
    "    #Hence Weight matrix must be (2,1)\n",
    "    n = X.shape[0]\n",
    "    w = np.zeros((n,1))\n",
    "    b = 0\n",
    "    \n",
    "    return w , b"
   ]
  },
  {
   "cell_type": "code",
   "execution_count": 25,
   "metadata": {},
   "outputs": [],
   "source": [
    "def fpropogate(X,w,b):\n",
    "    \n",
    "    # w - (2X1)\n",
    "    # X = (2Xm)\n",
    "    # Z = w'.X + b ==> (1x2).(2,m) + 0 ==> (1,m)\n",
    "    \n",
    "    Z = np.dot(w.T , X) + b\n",
    "    \n",
    "    A = sigma(Z)\n",
    "    \n",
    "    return A"
   ]
  },
  {
   "cell_type": "code",
   "execution_count": 26,
   "metadata": {},
   "outputs": [],
   "source": [
    "def cost(X,y,w,b):\n",
    "    \n",
    "#     w,b = initialize(X)\n",
    "    \n",
    "    A = fpropogate(X,w,b)\n",
    "    \n",
    "    L = y*np.log(A) + (1-y)*np.log(1-A)\n",
    "    \n",
    "    m = X.shape[1]\n",
    "    \n",
    "    J = (-1/m)*np.sum(L)\n",
    "    \n",
    "    return J"
   ]
  },
  {
   "cell_type": "code",
   "execution_count": 27,
   "metadata": {},
   "outputs": [],
   "source": [
    "def gradient(X,y,w,b):\n",
    "    \n",
    "    #A ==> (1,m) <== Y\n",
    "    #dw = dj/dw ==> (2,1)\n",
    "    #X ==> (2,m)\n",
    "    #dw ==> (2,m).(m,1)\n",
    "    \n",
    "    m = X.shape[1]\n",
    "    \n",
    "#     w,b = initialize(X)\n",
    "    \n",
    "    A = fpropogate(X,w,b)\n",
    "    \n",
    "    #dJ/dw\n",
    "    dw = (1/m)*np.dot(X, (A - y).T)\n",
    "    \n",
    "    #dJ/db\n",
    "    db = (1/m)*np.sum(A-y)\n",
    "    \n",
    "    return dw , db\n",
    "    "
   ]
  },
  {
   "cell_type": "code",
   "execution_count": null,
   "metadata": {},
   "outputs": [],
   "source": []
  },
  {
   "cell_type": "code",
   "execution_count": 28,
   "metadata": {},
   "outputs": [],
   "source": [
    "def backprop(X,y,w,b,epoch):\n",
    "    \n",
    "    m = X.shape[1]\n",
    "    \n",
    " \n",
    "    \n",
    "    #learning rate : a = 0.001\n",
    "    a = 0.05\n",
    "    \n",
    "    for i in range(epoch):\n",
    "        \n",
    "        dw , db = gradient(X,y,w,b)\n",
    "        \n",
    "        w = w - a*dw\n",
    "        \n",
    "        b = b - a*db\n",
    "    \n",
    "    \n",
    "    w_final = w\n",
    "    b_final = b\n",
    "    \n",
    "    return w_final , b_final"
   ]
  },
  {
   "cell_type": "code",
   "execution_count": 29,
   "metadata": {},
   "outputs": [],
   "source": [
    "# from scipy.optimize import minimize\n",
    "\n",
    "w , b = initialize(X)"
   ]
  },
  {
   "cell_type": "code",
   "execution_count": 30,
   "metadata": {},
   "outputs": [],
   "source": [
    "wf , bf = backprop(X,y,w,b,100000)"
   ]
  },
  {
   "cell_type": "code",
   "execution_count": 171,
   "metadata": {},
   "outputs": [],
   "source": [
    "# wf , bf = backprop(X,y,w,b,100000)"
   ]
  },
  {
   "cell_type": "code",
   "execution_count": 31,
   "metadata": {},
   "outputs": [],
   "source": [
    "# cost(X,y,wf,bf)\n",
    "def predict(X,w = wf, b = bf):\n",
    "    \n",
    "    yp = np.zeros((1,600))\n",
    "    \n",
    "    Z = np.dot(w.T , X) + b\n",
    "    A = sigma(Z)\n",
    "    \n",
    "    for i in range(600):\n",
    "        \n",
    "        if A[0,i] >=0.50:\n",
    "            yp[0,i] = 1\n",
    "        else:\n",
    "            yp[0,i] = 0\n",
    "    return yp"
   ]
  },
  {
   "cell_type": "markdown",
   "metadata": {},
   "source": [
    "# With scikit learn"
   ]
  },
  {
   "cell_type": "code",
   "execution_count": 34,
   "metadata": {},
   "outputs": [
    {
     "name": "stderr",
     "output_type": "stream",
     "text": [
      "C:\\Users\\acer\\Anaconda3\\lib\\site-packages\\sklearn\\linear_model\\least_angle.py:30: DeprecationWarning: `np.float` is a deprecated alias for the builtin `float`. To silence this warning, use `float` by itself. Doing this will not modify any behavior and is safe. If you specifically wanted the numpy scalar type, use `np.float64` here.\n",
      "Deprecated in NumPy 1.20; for more details and guidance: https://numpy.org/devdocs/release/1.20.0-notes.html#deprecations\n",
      "  method='lar', copy_X=True, eps=np.finfo(np.float).eps,\n",
      "C:\\Users\\acer\\Anaconda3\\lib\\site-packages\\sklearn\\linear_model\\least_angle.py:167: DeprecationWarning: `np.float` is a deprecated alias for the builtin `float`. To silence this warning, use `float` by itself. Doing this will not modify any behavior and is safe. If you specifically wanted the numpy scalar type, use `np.float64` here.\n",
      "Deprecated in NumPy 1.20; for more details and guidance: https://numpy.org/devdocs/release/1.20.0-notes.html#deprecations\n",
      "  method='lar', copy_X=True, eps=np.finfo(np.float).eps,\n",
      "C:\\Users\\acer\\Anaconda3\\lib\\site-packages\\sklearn\\linear_model\\least_angle.py:284: DeprecationWarning: `np.float` is a deprecated alias for the builtin `float`. To silence this warning, use `float` by itself. Doing this will not modify any behavior and is safe. If you specifically wanted the numpy scalar type, use `np.float64` here.\n",
      "Deprecated in NumPy 1.20; for more details and guidance: https://numpy.org/devdocs/release/1.20.0-notes.html#deprecations\n",
      "  eps=np.finfo(np.float).eps, copy_Gram=True, verbose=0,\n",
      "C:\\Users\\acer\\Anaconda3\\lib\\site-packages\\sklearn\\linear_model\\least_angle.py:862: DeprecationWarning: `np.float` is a deprecated alias for the builtin `float`. To silence this warning, use `float` by itself. Doing this will not modify any behavior and is safe. If you specifically wanted the numpy scalar type, use `np.float64` here.\n",
      "Deprecated in NumPy 1.20; for more details and guidance: https://numpy.org/devdocs/release/1.20.0-notes.html#deprecations\n",
      "  eps=np.finfo(np.float).eps, copy_X=True, fit_path=True,\n",
      "C:\\Users\\acer\\Anaconda3\\lib\\site-packages\\sklearn\\linear_model\\least_angle.py:1101: DeprecationWarning: `np.float` is a deprecated alias for the builtin `float`. To silence this warning, use `float` by itself. Doing this will not modify any behavior and is safe. If you specifically wanted the numpy scalar type, use `np.float64` here.\n",
      "Deprecated in NumPy 1.20; for more details and guidance: https://numpy.org/devdocs/release/1.20.0-notes.html#deprecations\n",
      "  eps=np.finfo(np.float).eps, copy_X=True, fit_path=True,\n",
      "C:\\Users\\acer\\Anaconda3\\lib\\site-packages\\sklearn\\linear_model\\least_angle.py:1127: DeprecationWarning: `np.float` is a deprecated alias for the builtin `float`. To silence this warning, use `float` by itself. Doing this will not modify any behavior and is safe. If you specifically wanted the numpy scalar type, use `np.float64` here.\n",
      "Deprecated in NumPy 1.20; for more details and guidance: https://numpy.org/devdocs/release/1.20.0-notes.html#deprecations\n",
      "  eps=np.finfo(np.float).eps, positive=False):\n",
      "C:\\Users\\acer\\Anaconda3\\lib\\site-packages\\sklearn\\linear_model\\least_angle.py:1362: DeprecationWarning: `np.float` is a deprecated alias for the builtin `float`. To silence this warning, use `float` by itself. Doing this will not modify any behavior and is safe. If you specifically wanted the numpy scalar type, use `np.float64` here.\n",
      "Deprecated in NumPy 1.20; for more details and guidance: https://numpy.org/devdocs/release/1.20.0-notes.html#deprecations\n",
      "  max_n_alphas=1000, n_jobs=None, eps=np.finfo(np.float).eps,\n",
      "C:\\Users\\acer\\Anaconda3\\lib\\site-packages\\sklearn\\linear_model\\least_angle.py:1602: DeprecationWarning: `np.float` is a deprecated alias for the builtin `float`. To silence this warning, use `float` by itself. Doing this will not modify any behavior and is safe. If you specifically wanted the numpy scalar type, use `np.float64` here.\n",
      "Deprecated in NumPy 1.20; for more details and guidance: https://numpy.org/devdocs/release/1.20.0-notes.html#deprecations\n",
      "  max_n_alphas=1000, n_jobs=None, eps=np.finfo(np.float).eps,\n",
      "C:\\Users\\acer\\Anaconda3\\lib\\site-packages\\sklearn\\linear_model\\least_angle.py:1738: DeprecationWarning: `np.float` is a deprecated alias for the builtin `float`. To silence this warning, use `float` by itself. Doing this will not modify any behavior and is safe. If you specifically wanted the numpy scalar type, use `np.float64` here.\n",
      "Deprecated in NumPy 1.20; for more details and guidance: https://numpy.org/devdocs/release/1.20.0-notes.html#deprecations\n",
      "  eps=np.finfo(np.float).eps, copy_X=True, positive=False):\n"
     ]
    }
   ],
   "source": [
    "from sklearn.linear_model import LogisticRegression"
   ]
  },
  {
   "cell_type": "code",
   "execution_count": 35,
   "metadata": {},
   "outputs": [],
   "source": [
    "model = LogisticRegression()"
   ]
  },
  {
   "cell_type": "code",
   "execution_count": 36,
   "metadata": {},
   "outputs": [
    {
     "data": {
      "text/html": [
       "<div>\n",
       "<style scoped>\n",
       "    .dataframe tbody tr th:only-of-type {\n",
       "        vertical-align: middle;\n",
       "    }\n",
       "\n",
       "    .dataframe tbody tr th {\n",
       "        vertical-align: top;\n",
       "    }\n",
       "\n",
       "    .dataframe thead th {\n",
       "        text-align: right;\n",
       "    }\n",
       "</style>\n",
       "<table border=\"1\" class=\"dataframe\">\n",
       "  <thead>\n",
       "    <tr style=\"text-align: right;\">\n",
       "      <th></th>\n",
       "      <th>Porosity</th>\n",
       "      <th>Permeability(D)</th>\n",
       "      <th>Swc</th>\n",
       "      <th>Label</th>\n",
       "      <th>Lithology</th>\n",
       "    </tr>\n",
       "  </thead>\n",
       "  <tbody>\n",
       "    <tr>\n",
       "      <th>0</th>\n",
       "      <td>0.261838</td>\n",
       "      <td>1.847371</td>\n",
       "      <td>0.113023</td>\n",
       "      <td>1</td>\n",
       "      <td>Sandstone</td>\n",
       "    </tr>\n",
       "    <tr>\n",
       "      <th>1</th>\n",
       "      <td>0.211287</td>\n",
       "      <td>1.061215</td>\n",
       "      <td>0.093022</td>\n",
       "      <td>0</td>\n",
       "      <td>Limestone</td>\n",
       "    </tr>\n",
       "    <tr>\n",
       "      <th>2</th>\n",
       "      <td>0.267418</td>\n",
       "      <td>2.547724</td>\n",
       "      <td>0.100812</td>\n",
       "      <td>1</td>\n",
       "      <td>Sandstone</td>\n",
       "    </tr>\n",
       "    <tr>\n",
       "      <th>3</th>\n",
       "      <td>0.189673</td>\n",
       "      <td>0.521953</td>\n",
       "      <td>0.104608</td>\n",
       "      <td>0</td>\n",
       "      <td>Limestone</td>\n",
       "    </tr>\n",
       "    <tr>\n",
       "      <th>4</th>\n",
       "      <td>0.251913</td>\n",
       "      <td>2.263732</td>\n",
       "      <td>0.093779</td>\n",
       "      <td>1</td>\n",
       "      <td>Sandstone</td>\n",
       "    </tr>\n",
       "    <tr>\n",
       "      <th>...</th>\n",
       "      <td>...</td>\n",
       "      <td>...</td>\n",
       "      <td>...</td>\n",
       "      <td>...</td>\n",
       "      <td>...</td>\n",
       "    </tr>\n",
       "    <tr>\n",
       "      <th>595</th>\n",
       "      <td>0.205622</td>\n",
       "      <td>0.907546</td>\n",
       "      <td>0.094752</td>\n",
       "      <td>0</td>\n",
       "      <td>Limestone</td>\n",
       "    </tr>\n",
       "    <tr>\n",
       "      <th>596</th>\n",
       "      <td>0.205706</td>\n",
       "      <td>0.984683</td>\n",
       "      <td>0.091047</td>\n",
       "      <td>0</td>\n",
       "      <td>Limestone</td>\n",
       "    </tr>\n",
       "    <tr>\n",
       "      <th>597</th>\n",
       "      <td>0.257950</td>\n",
       "      <td>2.668588</td>\n",
       "      <td>0.090992</td>\n",
       "      <td>1</td>\n",
       "      <td>Sandstone</td>\n",
       "    </tr>\n",
       "    <tr>\n",
       "      <th>598</th>\n",
       "      <td>0.243762</td>\n",
       "      <td>1.333738</td>\n",
       "      <td>0.113648</td>\n",
       "      <td>1</td>\n",
       "      <td>Sandstone</td>\n",
       "    </tr>\n",
       "    <tr>\n",
       "      <th>599</th>\n",
       "      <td>0.255476</td>\n",
       "      <td>1.710365</td>\n",
       "      <td>0.111274</td>\n",
       "      <td>1</td>\n",
       "      <td>Sandstone</td>\n",
       "    </tr>\n",
       "  </tbody>\n",
       "</table>\n",
       "<p>600 rows × 5 columns</p>\n",
       "</div>"
      ],
      "text/plain": [
       "     Porosity  Permeability(D)       Swc  Label  Lithology\n",
       "0    0.261838         1.847371  0.113023      1  Sandstone\n",
       "1    0.211287         1.061215  0.093022      0  Limestone\n",
       "2    0.267418         2.547724  0.100812      1  Sandstone\n",
       "3    0.189673         0.521953  0.104608      0  Limestone\n",
       "4    0.251913         2.263732  0.093779      1  Sandstone\n",
       "..        ...              ...       ...    ...        ...\n",
       "595  0.205622         0.907546  0.094752      0  Limestone\n",
       "596  0.205706         0.984683  0.091047      0  Limestone\n",
       "597  0.257950         2.668588  0.090992      1  Sandstone\n",
       "598  0.243762         1.333738  0.113648      1  Sandstone\n",
       "599  0.255476         1.710365  0.111274      1  Sandstone\n",
       "\n",
       "[600 rows x 5 columns]"
      ]
     },
     "execution_count": 36,
     "metadata": {},
     "output_type": "execute_result"
    }
   ],
   "source": [
    "df"
   ]
  },
  {
   "cell_type": "code",
   "execution_count": 37,
   "metadata": {},
   "outputs": [],
   "source": [
    "Xt = df[['Porosity' , 'Permeability(D)',\"Swc\"]] \n",
    "\n",
    "yt = df['Label']"
   ]
  },
  {
   "cell_type": "code",
   "execution_count": 39,
   "metadata": {},
   "outputs": [
    {
     "name": "stderr",
     "output_type": "stream",
     "text": [
      "C:\\Users\\acer\\Anaconda3\\lib\\site-packages\\seaborn\\_decorators.py:43: FutureWarning: Pass the following variables as keyword args: x, y. From version 0.12, the only valid positional argument will be `data`, and passing other arguments without an explicit keyword will result in an error or misinterpretation.\n",
      "  FutureWarning\n"
     ]
    },
    {
     "data": {
      "text/plain": [
       "<AxesSubplot:xlabel='Porosity', ylabel='Permeability(D)'>"
      ]
     },
     "execution_count": 39,
     "metadata": {},
     "output_type": "execute_result"
    },
    {
     "data": {
      "image/png": "[encoded data removed]",
      "text/plain": [
       "<Figure size 432x288 with 1 Axes>"
      ]
     },
     "metadata": {
      "needs_background": "light"
     },
     "output_type": "display_data"
    }
   ],
   "source": [
    "sns.scatterplot(df['Porosity'] , df['Permeability(D)'] , hue=df['Label'])"
   ]
  },
  {
   "cell_type": "code",
   "execution_count": 41,
   "metadata": {},
   "outputs": [
    {
     "name": "stderr",
     "output_type": "stream",
     "text": [
      "C:\\Users\\acer\\Anaconda3\\lib\\site-packages\\sklearn\\linear_model\\logistic.py:432: FutureWarning: Default solver will be changed to 'lbfgs' in 0.22. Specify a solver to silence this warning.\n",
      "  FutureWarning)\n"
     ]
    },
    {
     "data": {
      "text/plain": [
       "LogisticRegression(C=1.0, class_weight=None, dual=False, fit_intercept=True,\n",
       "                   intercept_scaling=1, l1_ratio=None, max_iter=100,\n",
       "                   multi_class='warn', n_jobs=None, penalty='l2',\n",
       "                   random_state=None, solver='warn', tol=0.0001, verbose=0,\n",
       "                   warm_start=False)"
      ]
     },
     "execution_count": 41,
     "metadata": {},
     "output_type": "execute_result"
    }
   ],
   "source": [
    "model.fit(Xt,yt)"
   ]
  },
  {
   "cell_type": "code",
   "execution_count": 42,
   "metadata": {},
   "outputs": [
    {
     "data": {
      "text/html": [
       "<div>\n",
       "<style scoped>\n",
       "    .dataframe tbody tr th:only-of-type {\n",
       "        vertical-align: middle;\n",
       "    }\n",
       "\n",
       "    .dataframe tbody tr th {\n",
       "        vertical-align: top;\n",
       "    }\n",
       "\n",
       "    .dataframe thead th {\n",
       "        text-align: right;\n",
       "    }\n",
       "</style>\n",
       "<table border=\"1\" class=\"dataframe\">\n",
       "  <thead>\n",
       "    <tr style=\"text-align: right;\">\n",
       "      <th></th>\n",
       "      <th>Porosity</th>\n",
       "      <th>Permeability(D)</th>\n",
       "      <th>Swc</th>\n",
       "      <th>Label</th>\n",
       "      <th>Lithology</th>\n",
       "    </tr>\n",
       "  </thead>\n",
       "  <tbody>\n",
       "    <tr>\n",
       "      <th>0</th>\n",
       "      <td>0.261838</td>\n",
       "      <td>1.847371</td>\n",
       "      <td>0.113023</td>\n",
       "      <td>1</td>\n",
       "      <td>Sandstone</td>\n",
       "    </tr>\n",
       "    <tr>\n",
       "      <th>1</th>\n",
       "      <td>0.211287</td>\n",
       "      <td>1.061215</td>\n",
       "      <td>0.093022</td>\n",
       "      <td>0</td>\n",
       "      <td>Limestone</td>\n",
       "    </tr>\n",
       "    <tr>\n",
       "      <th>2</th>\n",
       "      <td>0.267418</td>\n",
       "      <td>2.547724</td>\n",
       "      <td>0.100812</td>\n",
       "      <td>1</td>\n",
       "      <td>Sandstone</td>\n",
       "    </tr>\n",
       "    <tr>\n",
       "      <th>3</th>\n",
       "      <td>0.189673</td>\n",
       "      <td>0.521953</td>\n",
       "      <td>0.104608</td>\n",
       "      <td>0</td>\n",
       "      <td>Limestone</td>\n",
       "    </tr>\n",
       "    <tr>\n",
       "      <th>4</th>\n",
       "      <td>0.251913</td>\n",
       "      <td>2.263732</td>\n",
       "      <td>0.093779</td>\n",
       "      <td>1</td>\n",
       "      <td>Sandstone</td>\n",
       "    </tr>\n",
       "    <tr>\n",
       "      <th>...</th>\n",
       "      <td>...</td>\n",
       "      <td>...</td>\n",
       "      <td>...</td>\n",
       "      <td>...</td>\n",
       "      <td>...</td>\n",
       "    </tr>\n",
       "    <tr>\n",
       "      <th>595</th>\n",
       "      <td>0.205622</td>\n",
       "      <td>0.907546</td>\n",
       "      <td>0.094752</td>\n",
       "      <td>0</td>\n",
       "      <td>Limestone</td>\n",
       "    </tr>\n",
       "    <tr>\n",
       "      <th>596</th>\n",
       "      <td>0.205706</td>\n",
       "      <td>0.984683</td>\n",
       "      <td>0.091047</td>\n",
       "      <td>0</td>\n",
       "      <td>Limestone</td>\n",
       "    </tr>\n",
       "    <tr>\n",
       "      <th>597</th>\n",
       "      <td>0.257950</td>\n",
       "      <td>2.668588</td>\n",
       "      <td>0.090992</td>\n",
       "      <td>1</td>\n",
       "      <td>Sandstone</td>\n",
       "    </tr>\n",
       "    <tr>\n",
       "      <th>598</th>\n",
       "      <td>0.243762</td>\n",
       "      <td>1.333738</td>\n",
       "      <td>0.113648</td>\n",
       "      <td>1</td>\n",
       "      <td>Sandstone</td>\n",
       "    </tr>\n",
       "    <tr>\n",
       "      <th>599</th>\n",
       "      <td>0.255476</td>\n",
       "      <td>1.710365</td>\n",
       "      <td>0.111274</td>\n",
       "      <td>1</td>\n",
       "      <td>Sandstone</td>\n",
       "    </tr>\n",
       "  </tbody>\n",
       "</table>\n",
       "<p>600 rows × 5 columns</p>\n",
       "</div>"
      ],
      "text/plain": [
       "     Porosity  Permeability(D)       Swc  Label  Lithology\n",
       "0    0.261838         1.847371  0.113023      1  Sandstone\n",
       "1    0.211287         1.061215  0.093022      0  Limestone\n",
       "2    0.267418         2.547724  0.100812      1  Sandstone\n",
       "3    0.189673         0.521953  0.104608      0  Limestone\n",
       "4    0.251913         2.263732  0.093779      1  Sandstone\n",
       "..        ...              ...       ...    ...        ...\n",
       "595  0.205622         0.907546  0.094752      0  Limestone\n",
       "596  0.205706         0.984683  0.091047      0  Limestone\n",
       "597  0.257950         2.668588  0.090992      1  Sandstone\n",
       "598  0.243762         1.333738  0.113648      1  Sandstone\n",
       "599  0.255476         1.710365  0.111274      1  Sandstone\n",
       "\n",
       "[600 rows x 5 columns]"
      ]
     },
     "execution_count": 42,
     "metadata": {},
     "output_type": "execute_result"
    }
   ],
   "source": [
    "df"
   ]
  },
  {
   "cell_type": "code",
   "execution_count": 44,
   "metadata": {},
   "outputs": [
    {
     "name": "stderr",
     "output_type": "stream",
     "text": [
      "C:\\Users\\acer\\Anaconda3\\lib\\site-packages\\sklearn\\linear_model\\base.py:291: DeprecationWarning: `np.int` is a deprecated alias for the builtin `int`. To silence this warning, use `int` by itself. Doing this will not modify any behavior and is safe. When replacing `np.int`, you may wish to use e.g. `np.int64` or `np.int32` to specify the precision. If you wish to review your current use, check the release note link for additional information.\n",
      "Deprecated in NumPy 1.20; for more details and guidance: https://numpy.org/devdocs/release/1.20.0-notes.html#deprecations\n",
      "  indices = (scores > 0).astype(np.int)\n"
     ]
    },
    {
     "data": {
      "text/plain": [
       "array([1], dtype=int64)"
      ]
     },
     "execution_count": 44,
     "metadata": {},
     "output_type": "execute_result"
    }
   ],
   "source": [
    "model.predict([[0.25,1.71,0.11]])"
   ]
  },
  {
   "cell_type": "code",
   "execution_count": 45,
   "metadata": {},
   "outputs": [],
   "source": [
    "yp = predict(X)"
   ]
  },
  {
   "cell_type": "code",
   "execution_count": 46,
   "metadata": {},
   "outputs": [],
   "source": [
    "df['Pred'] = yp.reshape(600,1)"
   ]
  },
  {
   "cell_type": "code",
   "execution_count": 47,
   "metadata": {},
   "outputs": [
    {
     "data": {
      "text/html": [
       "<div>\n",
       "<style scoped>\n",
       "    .dataframe tbody tr th:only-of-type {\n",
       "        vertical-align: middle;\n",
       "    }\n",
       "\n",
       "    .dataframe tbody tr th {\n",
       "        vertical-align: top;\n",
       "    }\n",
       "\n",
       "    .dataframe thead th {\n",
       "        text-align: right;\n",
       "    }\n",
       "</style>\n",
       "<table border=\"1\" class=\"dataframe\">\n",
       "  <thead>\n",
       "    <tr style=\"text-align: right;\">\n",
       "      <th></th>\n",
       "      <th>Porosity</th>\n",
       "      <th>Permeability(D)</th>\n",
       "      <th>Swc</th>\n",
       "      <th>Label</th>\n",
       "      <th>Lithology</th>\n",
       "      <th>Pred</th>\n",
       "    </tr>\n",
       "  </thead>\n",
       "  <tbody>\n",
       "    <tr>\n",
       "      <th>0</th>\n",
       "      <td>0.261838</td>\n",
       "      <td>1.847371</td>\n",
       "      <td>0.113023</td>\n",
       "      <td>1</td>\n",
       "      <td>Sandstone</td>\n",
       "      <td>1.0</td>\n",
       "    </tr>\n",
       "    <tr>\n",
       "      <th>1</th>\n",
       "      <td>0.211287</td>\n",
       "      <td>1.061215</td>\n",
       "      <td>0.093022</td>\n",
       "      <td>0</td>\n",
       "      <td>Limestone</td>\n",
       "      <td>0.0</td>\n",
       "    </tr>\n",
       "    <tr>\n",
       "      <th>2</th>\n",
       "      <td>0.267418</td>\n",
       "      <td>2.547724</td>\n",
       "      <td>0.100812</td>\n",
       "      <td>1</td>\n",
       "      <td>Sandstone</td>\n",
       "      <td>1.0</td>\n",
       "    </tr>\n",
       "    <tr>\n",
       "      <th>3</th>\n",
       "      <td>0.189673</td>\n",
       "      <td>0.521953</td>\n",
       "      <td>0.104608</td>\n",
       "      <td>0</td>\n",
       "      <td>Limestone</td>\n",
       "      <td>0.0</td>\n",
       "    </tr>\n",
       "    <tr>\n",
       "      <th>4</th>\n",
       "      <td>0.251913</td>\n",
       "      <td>2.263732</td>\n",
       "      <td>0.093779</td>\n",
       "      <td>1</td>\n",
       "      <td>Sandstone</td>\n",
       "      <td>1.0</td>\n",
       "    </tr>\n",
       "    <tr>\n",
       "      <th>...</th>\n",
       "      <td>...</td>\n",
       "      <td>...</td>\n",
       "      <td>...</td>\n",
       "      <td>...</td>\n",
       "      <td>...</td>\n",
       "      <td>...</td>\n",
       "    </tr>\n",
       "    <tr>\n",
       "      <th>595</th>\n",
       "      <td>0.205622</td>\n",
       "      <td>0.907546</td>\n",
       "      <td>0.094752</td>\n",
       "      <td>0</td>\n",
       "      <td>Limestone</td>\n",
       "      <td>0.0</td>\n",
       "    </tr>\n",
       "    <tr>\n",
       "      <th>596</th>\n",
       "      <td>0.205706</td>\n",
       "      <td>0.984683</td>\n",
       "      <td>0.091047</td>\n",
       "      <td>0</td>\n",
       "      <td>Limestone</td>\n",
       "      <td>0.0</td>\n",
       "    </tr>\n",
       "    <tr>\n",
       "      <th>597</th>\n",
       "      <td>0.257950</td>\n",
       "      <td>2.668588</td>\n",
       "      <td>0.090992</td>\n",
       "      <td>1</td>\n",
       "      <td>Sandstone</td>\n",
       "      <td>1.0</td>\n",
       "    </tr>\n",
       "    <tr>\n",
       "      <th>598</th>\n",
       "      <td>0.243762</td>\n",
       "      <td>1.333738</td>\n",
       "      <td>0.113648</td>\n",
       "      <td>1</td>\n",
       "      <td>Sandstone</td>\n",
       "      <td>1.0</td>\n",
       "    </tr>\n",
       "    <tr>\n",
       "      <th>599</th>\n",
       "      <td>0.255476</td>\n",
       "      <td>1.710365</td>\n",
       "      <td>0.111274</td>\n",
       "      <td>1</td>\n",
       "      <td>Sandstone</td>\n",
       "      <td>1.0</td>\n",
       "    </tr>\n",
       "  </tbody>\n",
       "</table>\n",
       "<p>600 rows × 6 columns</p>\n",
       "</div>"
      ],
      "text/plain": [
       "     Porosity  Permeability(D)       Swc  Label  Lithology  Pred\n",
       "0    0.261838         1.847371  0.113023      1  Sandstone   1.0\n",
       "1    0.211287         1.061215  0.093022      0  Limestone   0.0\n",
       "2    0.267418         2.547724  0.100812      1  Sandstone   1.0\n",
       "3    0.189673         0.521953  0.104608      0  Limestone   0.0\n",
       "4    0.251913         2.263732  0.093779      1  Sandstone   1.0\n",
       "..        ...              ...       ...    ...        ...   ...\n",
       "595  0.205622         0.907546  0.094752      0  Limestone   0.0\n",
       "596  0.205706         0.984683  0.091047      0  Limestone   0.0\n",
       "597  0.257950         2.668588  0.090992      1  Sandstone   1.0\n",
       "598  0.243762         1.333738  0.113648      1  Sandstone   1.0\n",
       "599  0.255476         1.710365  0.111274      1  Sandstone   1.0\n",
       "\n",
       "[600 rows x 6 columns]"
      ]
     },
     "execution_count": 47,
     "metadata": {},
     "output_type": "execute_result"
    }
   ],
   "source": [
    "df"
   ]
  },
  {
   "cell_type": "code",
   "execution_count": 49,
   "metadata": {},
   "outputs": [],
   "source": [
    "import matplotlib.pyplot as plt"
   ]
  },
  {
   "cell_type": "code",
   "execution_count": 50,
   "metadata": {},
   "outputs": [
    {
     "data": {
      "text/plain": [
       "<matplotlib.collections.PathCollection at 0x1f7524d4488>"
      ]
     },
     "execution_count": 50,
     "metadata": {},
     "output_type": "execute_result"
    },
    {
     "data": {
      "image/png": "[encoded data removed]",
      "text/plain": [
       "<Figure size 432x288 with 1 Axes>"
      ]
     },
     "metadata": {
      "needs_background": "light"
     },
     "output_type": "display_data"
    }
   ],
   "source": [
    "plt.scatter(df[\"Label\"],df[\"Pred\"])"
   ]
  },
  {
   "cell_type": "code",
   "execution_count": 51,
   "metadata": {},
   "outputs": [],
   "source": [
    "from sklearn.metrics import classification_report"
   ]
  },
  {
   "cell_type": "code",
   "execution_count": 53,
   "metadata": {},
   "outputs": [
    {
     "name": "stdout",
     "output_type": "stream",
     "text": [
      "              precision    recall  f1-score   support\n",
      "\n",
      "           0       0.95      0.97      0.96       300\n",
      "           1       0.97      0.95      0.96       300\n",
      "\n",
      "    accuracy                           0.96       600\n",
      "   macro avg       0.96      0.96      0.96       600\n",
      "weighted avg       0.96      0.96      0.96       600\n",
      "\n"
     ]
    }
   ],
   "source": [
    "print(classification_report(df[\"Label\"],df[\"Pred\"]))"
   ]
  },
  {
   "cell_type": "code",
   "execution_count": 54,
   "metadata": {},
   "outputs": [],
   "source": [
    "from sklearn.metrics import confusion_matrix"
   ]
  },
  {
   "cell_type": "code",
   "execution_count": 55,
   "metadata": {},
   "outputs": [
    {
     "name": "stdout",
     "output_type": "stream",
     "text": [
      "[[292   8]\n",
      " [ 14 286]]\n"
     ]
    }
   ],
   "source": [
    "print(confusion_matrix(df[\"Label\"],df[\"Pred\"]))"
   ]
  },
  {
   "cell_type": "code",
   "execution_count": 56,
   "metadata": {},
   "outputs": [
    {
     "name": "stderr",
     "output_type": "stream",
     "text": [
      "C:\\Users\\acer\\Anaconda3\\lib\\site-packages\\sklearn\\decomposition\\online_lda.py:29: DeprecationWarning: `np.float` is a deprecated alias for the builtin `float`. To silence this warning, use `float` by itself. Doing this will not modify any behavior and is safe. If you specifically wanted the numpy scalar type, use `np.float64` here.\n",
      "Deprecated in NumPy 1.20; for more details and guidance: https://numpy.org/devdocs/release/1.20.0-notes.html#deprecations\n",
      "  EPS = np.finfo(np.float).eps\n",
      "C:\\Users\\acer\\Anaconda3\\lib\\site-packages\\sklearn\\neighbors\\base.py:908: DeprecationWarning: `np.int` is a deprecated alias for the builtin `int`. To silence this warning, use `int` by itself. Doing this will not modify any behavior and is safe. When replacing `np.int`, you may wish to use e.g. `np.int64` or `np.int32` to specify the precision. If you wish to review your current use, check the release note link for additional information.\n",
      "Deprecated in NumPy 1.20; for more details and guidance: https://numpy.org/devdocs/release/1.20.0-notes.html#deprecations\n",
      "  self._y = np.empty(y.shape, dtype=np.int)\n"
     ]
    },
    {
     "data": {
      "text/plain": [
       "KNeighborsClassifier(algorithm='auto', leaf_size=30, metric='minkowski',\n",
       "                     metric_params=None, n_jobs=None, n_neighbors=1, p=2,\n",
       "                     weights='uniform')"
      ]
     },
     "execution_count": 56,
     "metadata": {},
     "output_type": "execute_result"
    }
   ],
   "source": [
    "#KNN Training\n",
    "from sklearn.neighbors import KNeighborsClassifier\n",
    "\n",
    "knn = KNeighborsClassifier(n_neighbors = 1) #nearest neigbour = 1\n",
    "knn.fit(Xt,yt)"
   ]
  },
  {
   "cell_type": "code",
   "execution_count": 57,
   "metadata": {},
   "outputs": [
    {
     "data": {
      "text/plain": [
       "1.0"
      ]
     },
     "execution_count": 57,
     "metadata": {},
     "output_type": "execute_result"
    }
   ],
   "source": [
    "knn.score(Xt, yt)"
   ]
  },
  {
   "cell_type": "code",
   "execution_count": 58,
   "metadata": {},
   "outputs": [],
   "source": [
    "from sklearn.tree import DecisionTreeClassifier"
   ]
  },
  {
   "cell_type": "code",
   "execution_count": 70,
   "metadata": {},
   "outputs": [
    {
     "name": "stderr",
     "output_type": "stream",
     "text": [
      "C:\\Users\\acer\\Anaconda3\\lib\\site-packages\\sklearn\\tree\\tree.py:163: DeprecationWarning: `np.int` is a deprecated alias for the builtin `int`. To silence this warning, use `int` by itself. Doing this will not modify any behavior and is safe. When replacing `np.int`, you may wish to use e.g. `np.int64` or `np.int32` to specify the precision. If you wish to review your current use, check the release note link for additional information.\n",
      "Deprecated in NumPy 1.20; for more details and guidance: https://numpy.org/devdocs/release/1.20.0-notes.html#deprecations\n",
      "  y_encoded = np.zeros(y.shape, dtype=np.int)\n"
     ]
    },
    {
     "data": {
      "text/plain": [
       "DecisionTreeClassifier(class_weight=None, criterion='gini', max_depth=None,\n",
       "                       max_features=None, max_leaf_nodes=None,\n",
       "                       min_impurity_decrease=0.0, min_impurity_split=None,\n",
       "                       min_samples_leaf=1, min_samples_split=2,\n",
       "                       min_weight_fraction_leaf=0.0, presort=False,\n",
       "                       random_state=None, splitter='best')"
      ]
     },
     "execution_count": 70,
     "metadata": {},
     "output_type": "execute_result"
    }
   ],
   "source": [
    "tree_clf = DecisionTreeClassifier()\n",
    "tree_clf.fit(Xt, yt)\n"
   ]
  },
  {
   "cell_type": "code",
   "execution_count": 71,
   "metadata": {},
   "outputs": [
    {
     "data": {
      "text/html": [
       "<div>\n",
       "<style scoped>\n",
       "    .dataframe tbody tr th:only-of-type {\n",
       "        vertical-align: middle;\n",
       "    }\n",
       "\n",
       "    .dataframe tbody tr th {\n",
       "        vertical-align: top;\n",
       "    }\n",
       "\n",
       "    .dataframe thead th {\n",
       "        text-align: right;\n",
       "    }\n",
       "</style>\n",
       "<table border=\"1\" class=\"dataframe\">\n",
       "  <thead>\n",
       "    <tr style=\"text-align: right;\">\n",
       "      <th></th>\n",
       "      <th>Porosity</th>\n",
       "      <th>Permeability(D)</th>\n",
       "      <th>Swc</th>\n",
       "    </tr>\n",
       "  </thead>\n",
       "  <tbody>\n",
       "    <tr>\n",
       "      <th>0</th>\n",
       "      <td>0.261838</td>\n",
       "      <td>1.847371</td>\n",
       "      <td>0.113023</td>\n",
       "    </tr>\n",
       "    <tr>\n",
       "      <th>1</th>\n",
       "      <td>0.211287</td>\n",
       "      <td>1.061215</td>\n",
       "      <td>0.093022</td>\n",
       "    </tr>\n",
       "    <tr>\n",
       "      <th>2</th>\n",
       "      <td>0.267418</td>\n",
       "      <td>2.547724</td>\n",
       "      <td>0.100812</td>\n",
       "    </tr>\n",
       "    <tr>\n",
       "      <th>3</th>\n",
       "      <td>0.189673</td>\n",
       "      <td>0.521953</td>\n",
       "      <td>0.104608</td>\n",
       "    </tr>\n",
       "    <tr>\n",
       "      <th>4</th>\n",
       "      <td>0.251913</td>\n",
       "      <td>2.263732</td>\n",
       "      <td>0.093779</td>\n",
       "    </tr>\n",
       "    <tr>\n",
       "      <th>...</th>\n",
       "      <td>...</td>\n",
       "      <td>...</td>\n",
       "      <td>...</td>\n",
       "    </tr>\n",
       "    <tr>\n",
       "      <th>595</th>\n",
       "      <td>0.205622</td>\n",
       "      <td>0.907546</td>\n",
       "      <td>0.094752</td>\n",
       "    </tr>\n",
       "    <tr>\n",
       "      <th>596</th>\n",
       "      <td>0.205706</td>\n",
       "      <td>0.984683</td>\n",
       "      <td>0.091047</td>\n",
       "    </tr>\n",
       "    <tr>\n",
       "      <th>597</th>\n",
       "      <td>0.257950</td>\n",
       "      <td>2.668588</td>\n",
       "      <td>0.090992</td>\n",
       "    </tr>\n",
       "    <tr>\n",
       "      <th>598</th>\n",
       "      <td>0.243762</td>\n",
       "      <td>1.333738</td>\n",
       "      <td>0.113648</td>\n",
       "    </tr>\n",
       "    <tr>\n",
       "      <th>599</th>\n",
       "      <td>0.255476</td>\n",
       "      <td>1.710365</td>\n",
       "      <td>0.111274</td>\n",
       "    </tr>\n",
       "  </tbody>\n",
       "</table>\n",
       "<p>600 rows × 3 columns</p>\n",
       "</div>"
      ],
      "text/plain": [
       "     Porosity  Permeability(D)       Swc\n",
       "0    0.261838         1.847371  0.113023\n",
       "1    0.211287         1.061215  0.093022\n",
       "2    0.267418         2.547724  0.100812\n",
       "3    0.189673         0.521953  0.104608\n",
       "4    0.251913         2.263732  0.093779\n",
       "..        ...              ...       ...\n",
       "595  0.205622         0.907546  0.094752\n",
       "596  0.205706         0.984683  0.091047\n",
       "597  0.257950         2.668588  0.090992\n",
       "598  0.243762         1.333738  0.113648\n",
       "599  0.255476         1.710365  0.111274\n",
       "\n",
       "[600 rows x 3 columns]"
      ]
     },
     "execution_count": 71,
     "metadata": {},
     "output_type": "execute_result"
    }
   ],
   "source": [
    "Xt"
   ]
  },
  {
   "cell_type": "code",
   "execution_count": 72,
   "metadata": {},
   "outputs": [
    {
     "data": {
      "text/html": [
       "<div>\n",
       "<style scoped>\n",
       "    .dataframe tbody tr th:only-of-type {\n",
       "        vertical-align: middle;\n",
       "    }\n",
       "\n",
       "    .dataframe tbody tr th {\n",
       "        vertical-align: top;\n",
       "    }\n",
       "\n",
       "    .dataframe thead th {\n",
       "        text-align: right;\n",
       "    }\n",
       "</style>\n",
       "<table border=\"1\" class=\"dataframe\">\n",
       "  <thead>\n",
       "    <tr style=\"text-align: right;\">\n",
       "      <th></th>\n",
       "      <th>Porosity</th>\n",
       "      <th>Permeability(D)</th>\n",
       "      <th>Swc</th>\n",
       "      <th>Label</th>\n",
       "      <th>Lithology</th>\n",
       "      <th>Pred</th>\n",
       "    </tr>\n",
       "  </thead>\n",
       "  <tbody>\n",
       "    <tr>\n",
       "      <th>0</th>\n",
       "      <td>0.261838</td>\n",
       "      <td>1.847371</td>\n",
       "      <td>0.113023</td>\n",
       "      <td>1</td>\n",
       "      <td>Sandstone</td>\n",
       "      <td>1.0</td>\n",
       "    </tr>\n",
       "    <tr>\n",
       "      <th>1</th>\n",
       "      <td>0.211287</td>\n",
       "      <td>1.061215</td>\n",
       "      <td>0.093022</td>\n",
       "      <td>0</td>\n",
       "      <td>Limestone</td>\n",
       "      <td>0.0</td>\n",
       "    </tr>\n",
       "    <tr>\n",
       "      <th>2</th>\n",
       "      <td>0.267418</td>\n",
       "      <td>2.547724</td>\n",
       "      <td>0.100812</td>\n",
       "      <td>1</td>\n",
       "      <td>Sandstone</td>\n",
       "      <td>1.0</td>\n",
       "    </tr>\n",
       "    <tr>\n",
       "      <th>3</th>\n",
       "      <td>0.189673</td>\n",
       "      <td>0.521953</td>\n",
       "      <td>0.104608</td>\n",
       "      <td>0</td>\n",
       "      <td>Limestone</td>\n",
       "      <td>0.0</td>\n",
       "    </tr>\n",
       "    <tr>\n",
       "      <th>4</th>\n",
       "      <td>0.251913</td>\n",
       "      <td>2.263732</td>\n",
       "      <td>0.093779</td>\n",
       "      <td>1</td>\n",
       "      <td>Sandstone</td>\n",
       "      <td>1.0</td>\n",
       "    </tr>\n",
       "    <tr>\n",
       "      <th>...</th>\n",
       "      <td>...</td>\n",
       "      <td>...</td>\n",
       "      <td>...</td>\n",
       "      <td>...</td>\n",
       "      <td>...</td>\n",
       "      <td>...</td>\n",
       "    </tr>\n",
       "    <tr>\n",
       "      <th>595</th>\n",
       "      <td>0.205622</td>\n",
       "      <td>0.907546</td>\n",
       "      <td>0.094752</td>\n",
       "      <td>0</td>\n",
       "      <td>Limestone</td>\n",
       "      <td>0.0</td>\n",
       "    </tr>\n",
       "    <tr>\n",
       "      <th>596</th>\n",
       "      <td>0.205706</td>\n",
       "      <td>0.984683</td>\n",
       "      <td>0.091047</td>\n",
       "      <td>0</td>\n",
       "      <td>Limestone</td>\n",
       "      <td>0.0</td>\n",
       "    </tr>\n",
       "    <tr>\n",
       "      <th>597</th>\n",
       "      <td>0.257950</td>\n",
       "      <td>2.668588</td>\n",
       "      <td>0.090992</td>\n",
       "      <td>1</td>\n",
       "      <td>Sandstone</td>\n",
       "      <td>1.0</td>\n",
       "    </tr>\n",
       "    <tr>\n",
       "      <th>598</th>\n",
       "      <td>0.243762</td>\n",
       "      <td>1.333738</td>\n",
       "      <td>0.113648</td>\n",
       "      <td>1</td>\n",
       "      <td>Sandstone</td>\n",
       "      <td>1.0</td>\n",
       "    </tr>\n",
       "    <tr>\n",
       "      <th>599</th>\n",
       "      <td>0.255476</td>\n",
       "      <td>1.710365</td>\n",
       "      <td>0.111274</td>\n",
       "      <td>1</td>\n",
       "      <td>Sandstone</td>\n",
       "      <td>1.0</td>\n",
       "    </tr>\n",
       "  </tbody>\n",
       "</table>\n",
       "<p>600 rows × 6 columns</p>\n",
       "</div>"
      ],
      "text/plain": [
       "     Porosity  Permeability(D)       Swc  Label  Lithology  Pred\n",
       "0    0.261838         1.847371  0.113023      1  Sandstone   1.0\n",
       "1    0.211287         1.061215  0.093022      0  Limestone   0.0\n",
       "2    0.267418         2.547724  0.100812      1  Sandstone   1.0\n",
       "3    0.189673         0.521953  0.104608      0  Limestone   0.0\n",
       "4    0.251913         2.263732  0.093779      1  Sandstone   1.0\n",
       "..        ...              ...       ...    ...        ...   ...\n",
       "595  0.205622         0.907546  0.094752      0  Limestone   0.0\n",
       "596  0.205706         0.984683  0.091047      0  Limestone   0.0\n",
       "597  0.257950         2.668588  0.090992      1  Sandstone   1.0\n",
       "598  0.243762         1.333738  0.113648      1  Sandstone   1.0\n",
       "599  0.255476         1.710365  0.111274      1  Sandstone   1.0\n",
       "\n",
       "[600 rows x 6 columns]"
      ]
     },
     "execution_count": 72,
     "metadata": {},
     "output_type": "execute_result"
    }
   ],
   "source": [
    "df"
   ]
  },
  {
   "cell_type": "code",
   "execution_count": 73,
   "metadata": {},
   "outputs": [],
   "source": [
    "from sklearn.tree import export_graphviz\n",
    "export_graphviz(\n",
    "                tree_clf,\n",
    "                out_file=\"t.dot\",\n",
    "                feature_names=[\"Porosity\",\"Permeability\",\"Saturation\"],\n",
    "                class_names=[\"Limestone\",\"Sandstone\"],\n",
    "                rounded=True,\n",
    "                filled=True\n",
    "                )\n"
   ]
  },
  {
   "cell_type": "code",
   "execution_count": 74,
   "metadata": {},
   "outputs": [],
   "source": [
    "from sklearn import tree"
   ]
  },
  {
   "cell_type": "code",
   "execution_count": 75,
   "metadata": {},
   "outputs": [
    {
     "data": {
      "text/plain": [
       "[Text(120.31875000000001, 199.32, 'X[0] <= 0.223\\ngini = 0.5\\nsamples = 600\\nvalue = [300, 300]'),\n",
       " Text(41.85, 163.07999999999998, 'X[0] <= 0.219\\ngini = 0.007\\nsamples = 298\\nvalue = [297, 1]'),\n",
       " Text(20.925, 126.83999999999999, 'gini = 0.0\\nsamples = 294\\nvalue = [294, 0]'),\n",
       " Text(62.775000000000006, 126.83999999999999, 'X[0] <= 0.22\\ngini = 0.375\\nsamples = 4\\nvalue = [3, 1]'),\n",
       " Text(41.85, 90.6, 'gini = 0.0\\nsamples = 1\\nvalue = [0, 1]'),\n",
       " Text(83.7, 90.6, 'gini = 0.0\\nsamples = 3\\nvalue = [3, 0]'),\n",
       " Text(198.7875, 163.07999999999998, 'X[0] <= 0.224\\ngini = 0.02\\nsamples = 302\\nvalue = [3, 299]'),\n",
       " Text(146.475, 126.83999999999999, 'X[2] <= 0.11\\ngini = 0.5\\nsamples = 2\\nvalue = [1, 1]'),\n",
       " Text(125.55000000000001, 90.6, 'gini = 0.0\\nsamples = 1\\nvalue = [1, 0]'),\n",
       " Text(167.4, 90.6, 'gini = 0.0\\nsamples = 1\\nvalue = [0, 1]'),\n",
       " Text(251.10000000000002, 126.83999999999999, 'X[2] <= 0.081\\ngini = 0.013\\nsamples = 300\\nvalue = [2, 298]'),\n",
       " Text(209.25, 90.6, 'X[1] <= 2.371\\ngini = 0.198\\nsamples = 9\\nvalue = [1, 8]'),\n",
       " Text(188.32500000000002, 54.359999999999985, 'gini = 0.0\\nsamples = 1\\nvalue = [1, 0]'),\n",
       " Text(230.175, 54.359999999999985, 'gini = 0.0\\nsamples = 8\\nvalue = [0, 8]'),\n",
       " Text(292.95, 90.6, 'X[1] <= 1.243\\ngini = 0.007\\nsamples = 291\\nvalue = [1, 290]'),\n",
       " Text(272.02500000000003, 54.359999999999985, 'X[1] <= 1.213\\ngini = 0.105\\nsamples = 18\\nvalue = [1, 17]'),\n",
       " Text(251.10000000000002, 18.119999999999976, 'gini = 0.0\\nsamples = 17\\nvalue = [0, 17]'),\n",
       " Text(292.95, 18.119999999999976, 'gini = 0.0\\nsamples = 1\\nvalue = [1, 0]'),\n",
       " Text(313.875, 54.359999999999985, 'gini = 0.0\\nsamples = 273\\nvalue = [0, 273]')]"
      ]
     },
     "execution_count": 75,
     "metadata": {},
     "output_type": "execute_result"
    },
    {
     "data": {
      "image/png": "[encoded data removed]",
      "text/plain": [
       "<Figure size 432x288 with 1 Axes>"
      ]
     },
     "metadata": {
      "needs_background": "light"
     },
     "output_type": "display_data"
    }
   ],
   "source": [
    "tree.plot_tree(tree_clf)"
   ]
  },
  {
   "cell_type": "code",
   "execution_count": null,
   "metadata": {},
   "outputs": [],
   "source": []
  }
 ],
 "metadata": {
  "kernelspec": {
   "display_name": "Python 3",
   "language": "python",
   "name": "python3"
  },
  "language_info": {
   "codemirror_mode": {
    "name": "ipython",
    "version": 3
   },
   "file_extension": ".py",
   "mimetype": "text/x-python",
   "name": "python",
   "nbconvert_exporter": "python",
   "pygments_lexer": "ipython3",
   "version": "3.7.4"
  }
 },
 "nbformat": 4,
 "nbformat_minor": 4
}
